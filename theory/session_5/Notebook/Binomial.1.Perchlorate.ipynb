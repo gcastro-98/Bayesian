{
 "cells": [
  {
   "cell_type": "markdown",
   "metadata": {},
   "source": [
    "# Binomial model - Case studies"
   ]
  },
  {
   "cell_type": "markdown",
   "metadata": {},
   "source": [
    "# _Josep Fortiana  &emsp;&emsp;&emsp;&emsp;&emsp;   2023-03-13_"
   ]
  },
  {
   "cell_type": "markdown",
   "metadata": {},
   "source": [
    "# Case study 1: Perchlorate and Thyroid Tumors"
   ]
  },
  {
   "cell_type": "markdown",
   "metadata": {},
   "source": [
    "Data for this example come from an online presentation by David Dunson at the US National Institute for Environmental Health Sciences. \n",
    "\n",
    "Perchlorate is a ground water contaminant that has been associated with thyroid tumors. \n",
    "\n",
    "In a study, 2 of 30 lab rats exposed to perchlorate developed thyroid tumors, compared to 0 of 30 control rats.\n",
    "\n",
    "What conclusions can be drawn?\n",
    "\n",
    "Given the small numbers, there are difficulties in the classical framework, for instance, because of the zero value a confidence interval collapses to infinity. What can we learn from a Bayesian approach? \n",
    "\n",
    "Clearly for each group, **Exposed to Perchlorate** and **Control** rats, the likelihood (for the observed variable, the number of rats developing a tumor) is Binomial and we want to learn about possible different properties (i.e. probability distribution) of the probability parameter in both groups.\n",
    "\n",
    "In a first run we take a $\\mbox{Unif}(0,1)=\\mbox{Beta}(1,1)$ prior as a NIP. "
   ]
  },
  {
   "cell_type": "code",
   "execution_count": 1,
   "metadata": {},
   "outputs": [],
   "source": [
    "# data\n",
    "y.perchlorate <- 2; n.perchlorate <- 30\n",
    "y.control <- 0; n.control<- 30"
   ]
  },
  {
   "cell_type": "code",
   "execution_count": 2,
   "metadata": {},
   "outputs": [],
   "source": [
    "# update Beta(1,1) prior for exposed and unexposed\n",
    "N<-20000  # sample size for simulations\n",
    "theta.perchlorate <- rbeta(N,y.perchlorate+1,n.perchlorate-y.perchlorate+1)\n",
    "theta.control <- rbeta(N,y.control+1,n.control-y.control+1)"
   ]
  },
  {
   "cell_type": "code",
   "execution_count": 3,
   "metadata": {},
   "outputs": [
    {
     "data": {
      "image/png": "[encoded data removed]",
      "text/plain": [
       "Plot with title \"Probability of tumor in control rats\""
      ]
     },
     "metadata": {},
     "output_type": "display_data"
    }
   ],
   "source": [
    "# graphically compare exposed and unexposed\n",
    "options(repr.plot.width=14,repr.plot.height=7)\n",
    "old.par<-par(mfrow=c(1,2))\n",
    "plot(density(theta.perchlorate), xlim=c(0,0.4),lwd=2.5,col=\"blue\",main=\"Probability of tumor in exposed rats\")\n",
    "plot(density(theta.control),lwd=2.5,col=\"red\",xlim=c(0,0.4),main=\"Probability of tumor in control rats\")\n",
    "par(old.par)"
   ]
  },
  {
   "cell_type": "code",
   "execution_count": 4,
   "metadata": {
    "tags": []
   },
   "outputs": [
    {
     "data": {
      "text/html": [
       "0.87915"
      ],
      "text/latex": [
       "0.87915"
      ],
      "text/markdown": [
       "0.87915"
      ],
      "text/plain": [
       "[1] 0.87915"
      ]
     },
     "metadata": {},
     "output_type": "display_data"
    }
   ],
   "source": [
    "# probability that exposed have more tumors than unexposed\n",
    "sum(theta.perchlorate >= theta.control)/N"
   ]
  },
  {
   "cell_type": "markdown",
   "metadata": {},
   "source": [
    "A 90% credible interval for the difference of probabilities and an estimation of the pdf of this difference. The interval includes zero, so it is consistent with the non-significance of the difference (from Fisher’s exact test, see reference). But the majority of the probability lies above zero. "
   ]
  },
  {
   "cell_type": "code",
   "execution_count": 5,
   "metadata": {},
   "outputs": [
    {
     "name": "stdout",
     "output_type": "stream",
     "text": [
      " num [1:20000] 0.0413 0.1796 0.0335 0.0708 -0.0392 ...\n"
     ]
    }
   ],
   "source": [
    "theta.diff<-theta.perchlorate-theta.control\n",
    "str(theta.diff)"
   ]
  },
  {
   "cell_type": "code",
   "execution_count": 6,
   "metadata": {},
   "outputs": [
    {
     "data": {
      "image/png": "[encoded data removed]",
      "text/plain": [
       "Plot with title \"Difference between groups\""
      ]
     },
     "metadata": {
      "image/png": {
       "height": 420,
       "width": 420
      }
     },
     "output_type": "display_data"
    }
   ],
   "source": [
    "# graphically compare exposed and unexposed\n",
    "options(repr.plot.width=7,repr.plot.height=7)\n",
    "theta.diff.density<-density(theta.diff)\n",
    "max.theta.diff<-theta.diff.density$x[which.max(theta.diff.density$y)]\n",
    "plot(theta.diff.density,xlim=c(-0.3,0.4),lwd=2.5,col=\"DarkCyan\", main=\"Difference between groups\")\n",
    "abline(v=max.theta.diff,lwd=2.5,col=\"black\")"
   ]
  },
  {
   "cell_type": "code",
   "execution_count": 7,
   "metadata": {},
   "outputs": [
    {
     "data": {
      "text/html": [
       "0.045"
      ],
      "text/latex": [
       "0.045"
      ],
      "text/markdown": [
       "0.045"
      ],
      "text/plain": [
       "[1] 0.045"
      ]
     },
     "metadata": {},
     "output_type": "display_data"
    }
   ],
   "source": [
    "round(max.theta.diff,3)"
   ]
  },
  {
   "cell_type": "code",
   "execution_count": 8,
   "metadata": {},
   "outputs": [
    {
     "data": {
      "text/html": [
       "<style>\n",
       ".dl-inline {width: auto; margin:0; padding: 0}\n",
       ".dl-inline>dt, .dl-inline>dd {float: none; width: auto; display: inline-block}\n",
       ".dl-inline>dt::after {content: \":\\0020\"; padding-right: .5ex}\n",
       ".dl-inline>dt:not(:first-of-type) {padding-left: .5ex}\n",
       "</style><dl class=dl-inline><dt>5%</dt><dd>-0.025</dd><dt>95%</dt><dd>0.165</dd></dl>\n"
      ],
      "text/latex": [
       "\\begin{description*}\n",
       "\\item[5\\textbackslash{}\\%] -0.025\n",
       "\\item[95\\textbackslash{}\\%] 0.165\n",
       "\\end{description*}\n"
      ],
      "text/markdown": [
       "5%\n",
       ":   -0.02595%\n",
       ":   0.165\n",
       "\n"
      ],
      "text/plain": [
       "    5%    95% \n",
       "-0.025  0.165 "
      ]
     },
     "metadata": {},
     "output_type": "display_data"
    }
   ],
   "source": [
    "# 90% credible interval\n",
    "round(quantile(theta.diff, probs=c(0.05,0.95)),3)"
   ]
  },
  {
   "cell_type": "markdown",
   "metadata": {},
   "source": [
    "If we have some real prior evidence or belief about the putative association of perchlorate and thyroid tumors. It would be reasonable to assume that we do. Why else would we be doing this experiment in the first place? \n",
    "\n",
    "Dr. Dunson, in his presentation, suggests a $\\mbox{Beta}(0.11, 2.6)$ as representing previous experimental evidence. \n",
    "\n",
    "Let’s use that prior, and combine it with our data to update the posterior."
   ]
  },
  {
   "cell_type": "code",
   "execution_count": 9,
   "metadata": {},
   "outputs": [
    {
     "data": {
      "text/html": [
       "<style>\n",
       ".dl-inline {width: auto; margin:0; padding: 0}\n",
       ".dl-inline>dt, .dl-inline>dd {float: none; width: auto; display: inline-block}\n",
       ".dl-inline>dt::after {content: \":\\0020\"; padding-right: .5ex}\n",
       ".dl-inline>dt:not(:first-of-type) {padding-left: .5ex}\n",
       "</style><dl class=dl-inline><dt>5%</dt><dd>0.008</dd><dt>95%</dt><dd>0.144</dd></dl>\n"
      ],
      "text/latex": [
       "\\begin{description*}\n",
       "\\item[5\\textbackslash{}\\%] 0.008\n",
       "\\item[95\\textbackslash{}\\%] 0.144\n",
       "\\end{description*}\n"
      ],
      "text/markdown": [
       "5%\n",
       ":   0.00895%\n",
       ":   0.144\n",
       "\n"
      ],
      "text/plain": [
       "   5%   95% \n",
       "0.008 0.144 "
      ]
     },
     "metadata": {},
     "output_type": "display_data"
    }
   ],
   "source": [
    "theta.perchlorate <- rbeta(N,y.perchlorate+0.11,n.perchlorate-y.perchlorate+2.6)\n",
    "theta.control <- rbeta(N,y.control+.11,n.control-y.control+2.6)\n",
    "theta.diff<-theta.perchlorate-theta.control\n",
    "round(quantile(theta.diff, probs=c(0.05,0.95)),3)"
   ]
  }
 ],
 "metadata": {
  "kernelspec": {
   "display_name": "R",
   "language": "R",
   "name": "ir"
  },
  "language_info": {
   "codemirror_mode": "r",
   "file_extension": ".r",
   "mimetype": "text/x-r-source",
   "name": "R",
   "pygments_lexer": "r",
   "version": "3.6.1"
  }
 },
 "nbformat": 4,
 "nbformat_minor": 4
}
