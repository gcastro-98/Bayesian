{
 "cells": [
  {
   "cell_type": "markdown",
   "id": "1f1c72df-77a8-45be-b41a-bd93fabbaa3d",
   "metadata": {
    "tags": []
   },
   "source": [
    "# Introduction to Bayes"
   ]
  },
  {
   "cell_type": "markdown",
   "id": "2fd27f68-11df-4cc6-840b-c1f2d1294db1",
   "metadata": {},
   "source": [
    "## _Josep Fortiana_      2022-02-13"
   ]
  },
  {
   "cell_type": "markdown",
   "id": "209e50a4-1900-4a5f-945d-6339f6f32153",
   "metadata": {
    "tags": []
   },
   "source": [
    "***\n",
    "###### LaTeX macros\n",
    "$\\def\\prob{P}$\n",
    "$\\def\\argmax{\\operatorname{arg\\,max}}$\n",
    "$\\def\\argmin{\\operatorname{arg\\,min}}$\n",
    "$\\def\\borel{\\operatorname{Borel}}$\n",
    "$\\def\\cE{\\cal E}$\n",
    "$\\def\\cP{\\cal P}$\n",
    "$\\def\\R{\\mathbb{R}}$ \n",
    "$\\def\\N{\\mathbb{N}}$\n",
    "$\\def\\Z{\\mathbb{Z}}$\n",
    "$\\def\\Ee{\\operatorname{E}}$\n",
    "$\\def\\va{\\text{v.a.}}$\n",
    "$\\def\\var{\\operatorname{var}}$\n",
    "$\\def\\Var{\\operatorname{Var}}$\n",
    "$\\def\\cov{\\operatorname{cov}}$\n",
    "$\\def\\cor{\\operatorname{cor}}$\n",
    "$\\def\\binomdist{\\operatorname{Binom}}$\n",
    "$\\def\\berndist{\\operatorname{Ber}}$\n",
    "$\\def\\betabinomdist{\\operatorname{Beta-Binom}}$\n",
    "$\\def\\betadist{\\operatorname{Beta}}$\n",
    "$\\def\\cauchydist{\\operatorname{Cauchy}}$\n",
    "$\\def\\expdist{\\operatorname{Exp}}$\n",
    "$\\def\\fdist{\\operatorname{F}}$\n",
    "$\\def\\gammadist{\\operatorname{Gamma}}$\n",
    "$\\def\\hyperdist{\\operatorname{Hypergeom}}$\n",
    "$\\def\\hypergeomdist{\\operatorname{Hypergeom}}$\n",
    "$\\DeclareMathOperator{\\invgammadist}{IG}$\n",
    "$\\DeclareMathOperator{\\multinomialdist}{Multinomial}$\n",
    "$\\DeclareMathOperator{\\multinomdist}{Multinom}$\n",
    "$\\def\\poissondist{\\operatorname{Poisson}}$\n",
    "$\\def\\geomdist{\\operatorname{Geom}}$\n",
    "$\\def\\normaldist{\\operatorname{N}}$\n",
    "$\\def\\unifdist{\\operatorname{Unif}}$\n",
    "$\\def\\xbar{\\kern1.3pt\\overline{\\kern-1.3pt x}}$\n",
    "$\\DeclareMathOperator{\\indica}{\\mathbb{1}}$\n",
    "$\\def\\CondTo{\\mathbin{|\\mskip0.5mu}}$\n",
    "$\\def\\eqdef{\\stackrel{\\text{def}}{\\mskip3mu=\\mskip3mu}}$\n",
    "***"
   ]
  },
  {
   "cell_type": "markdown",
   "id": "22c1a57c-6cf9-4ce5-805e-e66e3cd40e96",
   "metadata": {},
   "source": [
    "# 01- A toy problem: IQ of for a group of children"
   ]
  },
  {
   "cell_type": "markdown",
   "id": "1d64aa8d-0412-47fa-b6f5-898d756f6011",
   "metadata": {},
   "source": [
    "## Assumptions and context\n",
    "\n",
    "An intelligence test is administered to a group of children.\n",
    "\n",
    "Assume the test result $x$ for a given child follows a $\\normaldist(\\theta,\\sigma^2)$ distribution,\n",
    "\n",
    "$\\theta$ is interpreted as the _true IQ_ for this child.\n",
    "\n",
    "$\\sigma^2=100$, a measure of _uncertainty_ in $x$.\n",
    "\n",
    "This conditional $p(x\\CondTo \\theta)$ pdf is the _model likelihood_\n",
    "\n",
    "## Prior pdf (probability density function)\n",
    "\n",
    "Assume that in the whole population (children in the studied group and age),   \n",
    "\n",
    "$\\theta$ is distributed as a $\\normaldist(\\mu,\\gamma^2)$, \n",
    "\n",
    "$\\mu=100$, population mean,\n",
    "\n",
    "$\\gamma^2=225$, variability of $\\theta$.\n",
    "\n",
    "This is the _prior pdf_ $p(\\theta)$.\n",
    "\n",
    "## Prior predictive pdf $=$ Marginal $x$ pdf\n",
    "\n",
    "From both $p(\\theta)$ and $p(x\\CondTo \\theta)$ we obtain the _joint pdf_  $p(x,\\theta) = $p(x\\CondTo \\theta)\\cdot p(\\theta)$.\n",
    "\n",
    "Integrating $\\theta$ out gives $p(x)=\\int p(x,\\theta)\\cdot d\\theta$,  marginal distribution of $x$ $=$ the _prior predictive_ pdf,\n",
    "\n",
    "the resulting is $\\normaldist(\\mu,\\sigma^2+\\gamma^2)=\\normaldist(100,325)$.\n",
    "\n",
    "Meaning: pdf of the average observed IQ when administering the test to randomly selected children.\n",
    "\n",
    "Two sources of variability (dispersion) are added: \n",
    "\n",
    "$\\gamma^{2}=225$, population dispersion, and $\\sigma^{2}=100$, dispersion of individual measurements."
   ]
  },
  {
   "cell_type": "markdown",
   "id": "63d55a38-1d9a-4641-be5a-431680754aa6",
   "metadata": {},
   "source": [
    "### Posterior\n",
    "\n",
    "The posterior pdf of $\\theta$, given $x$, $p(\\theta\\CondTo x)$ is the output of _Bayes rule:_\n",
    "\n",
    "$$\n",
    "    p(\\theta\\CondTo x)=\\dfrac{p(x,\\theta)}{p(x)}=\\dfrac{p(x\\CondTo\\theta)\\cdot p(\\theta)}{p(x)}.\n",
    "$$\n",
    "\n",
    "After some computations, the result is: the posterior pdf is normal, with mean $\\mu_{x}$ and variance $\\tau^{2}$:\n",
    "\n",
    "$$\n",
    "    \\begin{array}{lclcl}\n",
    "    \\mu_{x} &=&\\dfrac{\\gamma^{2}}{\\sigma^{2}+\\gamma^{2}}\\cdot x+\\dfrac{\\sigma^{2}}{\\sigma^{2}+\\gamma^{2}}\\cdot \\mu,\n",
    "    &\\mskip40mu&\\text{A convex combination.}\\\\[0.2cm]\n",
    "    \\lambda &=&\\dfrac{\\sigma^{2}}{\\sigma^{2}+\\gamma^{2}},\n",
    "    &&\\text{Coefficient is the ratio of variabilities.}\\\\[0.4cm]\n",
    "    \\tau^{2}&=&\\dfrac{\\sigma^{2}\\cdot\\gamma^{2}}{\\sigma^{2}+\\gamma^{2}}\n",
    "    =\\lambda\\cdot\\gamma^{2}=(1-\\lambda)\\cdot\\sigma^{2}\n",
    "    =\\dfrac{1}{\\dfrac{1}{\\sigma^{2}}+\\dfrac{1}{\\gamma^{2}}},\n",
    "    &&\\text{Harmonic mean}.\n",
    "    \\end{array}\n",
    "$$\n",
    "\n"
   ]
  },
  {
   "cell_type": "markdown",
   "id": "f4cdb957-aa17-4217-9031-30d08da4ad5a",
   "metadata": {},
   "source": [
    "With the given numbers:\n",
    "\n",
    "$$\n",
    "    \\mu_{x}=\\frac{225}{100+225}\\,x+\\frac{100}{100+225}\\,100,\n",
    "$$ \n",
    "\n",
    "\n",
    "\n",
    "$$\n",
    "    \\tau^{2}=\\frac{100\\times 225}{100+225}=\\frac{100\\times 225}{100+225}=\\frac{900}{13}=69.23.\n",
    "$$\n",
    "\n",
    "If we observe $x=115$ on a certain child, $\\mu_{x}=110.39$.\n",
    "\n",
    "We infer his true IQ, $\\theta$, is distributed as a $\\normaldist(110.39,69.23)$."
   ]
  },
  {
   "cell_type": "code",
   "execution_count": 1,
   "id": "53ce6282-7dd7-4718-8ddd-db8fa1402955",
   "metadata": {},
   "outputs": [],
   "source": [
    "# Plot the figure \n",
    "bayes.normal<-function(x,mu,sigma,gamma){\n",
    "    lambda<-sigma^2/(sigma^2+gamma^2)\n",
    "    mux<-lambda*mu+(1-lambda)*x\n",
    "    tau2<-lambda*gamma^2\n",
    "    tau<-sqrt(tau2)\n",
    "    maxsigma<-max(sigma,gamma,tau)\n",
    "    minmu<-min(mu,x,mux)\n",
    "    maxmu<-max(mu,x,mux)\n",
    "    minx<-minmu-5*maxsigma\n",
    "    maxx<-maxmu+5*maxsigma\n",
    "    u<-seq(minx,maxx,length=1000)\n",
    "    prior<-dnorm(u,mean=mu,sd=gamma)\n",
    "    obs<-dnorm(u,mean=x,sd=sigma)\n",
    "    post<-dnorm(u,mean=mux,sd=tau)\n",
    "    maxy<-max(prior,obs,post)\n",
    "    plot(u,prior,type=\"l\",lwd=3.5,ylim=c(0,maxy*1.1),col=\"green\",\n",
    "        xlab=\"\",ylab=\"\",main=\"Prior, observation and posterior\",cex.main=1.8)\n",
    "    lines(u,obs,lwd=3.5,col=\"blue\")\n",
    "    lines(u,post,lwd=3.5,col=\"red\")\n",
    "    legend(maxmu+1.8*maxsigma,maxy*1.10,list(\"Prior\",\"Obs.\",\"Post\"),lty=\"solid\",lwd=3.5,col=c(\"green\",\"blue\",\"red\"),cex=1.6)\n",
    "    }"
   ]
  },
  {
   "cell_type": "markdown",
   "id": "547469d6-03bf-42fb-afd9-386e9b391fd4",
   "metadata": {},
   "source": [
    "### Original data"
   ]
  },
  {
   "cell_type": "code",
   "execution_count": 2,
   "id": "f684469a-29ad-4cc1-8d8e-353fe0903730",
   "metadata": {},
   "outputs": [],
   "source": [
    "x<-115       # Observed value\n",
    "sigma<-10    # Standard deviation of mesurements  [LIKELIHOOD]\n",
    "mu<-100      # Population average    [PRIOR]\n",
    "gamma<-15    # Population dispersion [PRIOR]"
   ]
  },
  {
   "cell_type": "code",
   "execution_count": 3,
   "id": "f1847002-6e56-44f1-880a-13480b51dbe5",
   "metadata": {},
   "outputs": [
    {
     "data": {
      "text/html": [
       "0.31"
      ],
      "text/latex": [
       "0.31"
      ],
      "text/markdown": [
       "0.31"
      ],
      "text/plain": [
       "[1] 0.31"
      ]
     },
     "metadata": {},
     "output_type": "display_data"
    },
    {
     "data": {
      "text/html": [
       "110.38"
      ],
      "text/latex": [
       "110.38"
      ],
      "text/markdown": [
       "110.38"
      ],
      "text/plain": [
       "[1] 110.38"
      ]
     },
     "metadata": {},
     "output_type": "display_data"
    },
    {
     "data": {
      "text/html": [
       "69.23"
      ],
      "text/latex": [
       "69.23"
      ],
      "text/markdown": [
       "69.23"
      ],
      "text/plain": [
       "[1] 69.23"
      ]
     },
     "metadata": {},
     "output_type": "display_data"
    },
    {
     "data": {
      "text/html": [
       "8.32"
      ],
      "text/latex": [
       "8.32"
      ],
      "text/markdown": [
       "8.32"
      ],
      "text/plain": [
       "[1] 8.32"
      ]
     },
     "metadata": {},
     "output_type": "display_data"
    }
   ],
   "source": [
    "lambda<-sigma^2/(sigma^2+gamma^2)\n",
    "mux<-lambda*mu+(1-lambda)*x\n",
    "tau2<-lambda*gamma^2\n",
    "tau<-sqrt(tau2)\n",
    "round(lambda,2)\n",
    "round(mux,2)\n",
    "round(tau2,2)\n",
    "round(tau,2)"
   ]
  },
  {
   "cell_type": "code",
   "execution_count": 4,
   "id": "817a55e2-9a93-4ef3-a51b-e9154776cde9",
   "metadata": {},
   "outputs": [
    {
     "data": {
      "image/png": "[encoded data removed]",
      "text/plain": [
       "Plot with title \"Prior, observation and posterior\""
      ]
     },
     "metadata": {
      "image/png": {
       "height": 480,
       "width": 480
      }
     },
     "output_type": "display_data"
    }
   ],
   "source": [
    "options(repr.plot.width=8,repr.plot.height=8)\n",
    "bayes.normal(x,mu,sigma,gamma)"
   ]
  },
  {
   "cell_type": "markdown",
   "id": "f19b92c5-6347-4ad1-85cc-29867e87e2ce",
   "metadata": {},
   "source": [
    "### Here with more precise measurements (smaller observed standard deviation)"
   ]
  },
  {
   "cell_type": "code",
   "execution_count": 5,
   "id": "6ce5b3c4-608f-4478-ba72-47cb3615ae33",
   "metadata": {},
   "outputs": [],
   "source": [
    "x<-115       # Observed value\n",
    "sigma<-6  # Standard deviation of mesurements  [LIKELIHOOD]\n",
    "mu<-100      # Population average    [PRIOR]\n",
    "gamma<-15    # Population dispersion [PRIOR]"
   ]
  },
  {
   "cell_type": "code",
   "execution_count": 6,
   "id": "b9b9294f-9450-4158-b094-311e349dca1e",
   "metadata": {},
   "outputs": [
    {
     "data": {
      "image/png": "[encoded data removed]",
      "text/plain": [
       "Plot with title \"Prior, observation and posterior\""
      ]
     },
     "metadata": {
      "image/png": {
       "height": 480,
       "width": 480
      }
     },
     "output_type": "display_data"
    }
   ],
   "source": [
    "options(repr.plot.width=8,repr.plot.height=8)\n",
    "bayes.normal(x,mu,sigma,gamma)"
   ]
  },
  {
   "cell_type": "markdown",
   "id": "32ca088f-505d-4ed3-ab28-3d90b8e4c828",
   "metadata": {},
   "source": [
    "### Here prior information is more precise (historical data are more reliable)"
   ]
  },
  {
   "cell_type": "code",
   "execution_count": 7,
   "id": "04a57273-c8ce-495e-af19-91d13bbb2e9a",
   "metadata": {},
   "outputs": [
    {
     "data": {
      "image/png": "[encoded data removed]",
      "text/plain": [
       "Plot with title \"Prior, observation and posterior\""
      ]
     },
     "metadata": {
      "image/png": {
       "height": 480,
       "width": 480
      }
     },
     "output_type": "display_data"
    }
   ],
   "source": [
    "x<-115       # Observed value\n",
    "sigma<-10    # Standard deviation of mesurements  [LIKELIHOOD]\n",
    "mu<-100      # Population average    [PRIOR]\n",
    "gamma<-5     # Population dispersion [PRIOR]\n",
    "options(repr.plot.width=8,repr.plot.height=8)\n",
    "bayes.normal(x,mu,sigma,gamma)"
   ]
  },
  {
   "cell_type": "markdown",
   "id": "5a9af395-8d06-49e7-9047-99521b6aa78e",
   "metadata": {
    "tags": []
   },
   "source": [
    "# 02 - Bayes billiard"
   ]
  },
  {
   "cell_type": "markdown",
   "id": "04e77917-2d96-4c63-bfff-d5e12350050f",
   "metadata": {},
   "source": [
    "## A one-dimensional billiard"
   ]
  },
  {
   "cell_type": "code",
   "execution_count": 8,
   "id": "519e7f03-10ee-4dd0-8536-b96402d504a6",
   "metadata": {
    "tags": []
   },
   "outputs": [
    {
     "data": {
      "image/png": "[encoded data removed]",
      "text/plain": [
       "plot without title"
      ]
     },
     "metadata": {
      "image/png": {
       "height": 180,
       "width": 960
      }
     },
     "output_type": "display_data"
    }
   ],
   "source": [
    "A<-1.1\n",
    "B<-0.25\n",
    "old.par<-par(usr=c(-A,A,-B,B))\n",
    "options(repr.plot.width=16,repr.plot.height=3)\n",
    "plot.new()\n",
    "plot.window(xlim=c(-A,A),ylim=c(-B,B),bty=\"o\")\n",
    "bg<-\"LightCyan\"\n",
    "axis(1,pos=0,lwd=1.5,at=c(-1,1),labels=c(\"0\",\"1\"),col.lab=\"blue\",cex.lab=2,tick=FALSE,\n",
    "     col.axis=bg,cex.axis=1,las=1)\n",
    "Lx<-c(-1,1)\n",
    "Ly<-c(0,0)\n",
    "lines(Lx,Ly,lwd=8,col=\"blue\")\n",
    "points(Lx,Ly,pch=19,cex=3,col=\"blue\")\n",
    "text(Lx,c(-0.2,-0.2),c(\"0\",\"1\"),col=\"blue\",cex=2)\n",
    "par(old.par)"
   ]
  },
  {
   "cell_type": "markdown",
   "id": "588b57d0-c8cc-431a-9b37-13bec943a78e",
   "metadata": {},
   "source": [
    "## Cue ball"
   ]
  },
  {
   "cell_type": "code",
   "execution_count": 9,
   "id": "b68738b6-0b43-40ea-af98-8c3bcf2924b4",
   "metadata": {
    "tags": []
   },
   "outputs": [
    {
     "data": {
      "image/png": "[encoded data removed]",
      "text/plain": [
       "plot without title"
      ]
     },
     "metadata": {
      "image/png": {
       "height": 180,
       "width": 960
      }
     },
     "output_type": "display_data"
    }
   ],
   "source": [
    "A<-1.1\n",
    "B<-0.25\n",
    "old.par<-par(usr=c(-A,A,-B,B))\n",
    "options(repr.plot.width=16,repr.plot.height=3)\n",
    "plot.new()\n",
    "plot.window(xlim=c(-A,A),ylim=c(-B,B),bty=\"o\")\n",
    "bg<-\"white\"\n",
    "axis(1,pos=0,lwd=1.5,at=c(-1,1),labels=c(\"0\",\"1\"),col.lab=\"blue\",cex.lab=2,tick=FALSE,\n",
    "     col.axis=bg,cex.axis=1,las=1)\n",
    "Lx<-c(-1,1)\n",
    "Ly<-c(0,0)\n",
    "lines(Lx,Ly,lwd=8,col=\"blue\")\n",
    "points(Lx,Ly,pch=19,cex=3,col=\"blue\")\n",
    "text(Lx,c(-0.2,-0.2),c(\"0\",\"1\"),col=\"blue\",cex=2)\n",
    "x.cue<--1+2*0.65\n",
    "points(x.cue,0,pch=16,col=\"red\",cex=6)\n",
    "text(x.cue,-0.2,c(\"p\"),col=\"red\",cex=2)\n",
    "par(old.par)"
   ]
  },
  {
   "cell_type": "markdown",
   "id": "b1722e59-e64a-4b17-b402-570f7a49b34d",
   "metadata": {},
   "source": [
    "## Begin the game"
   ]
  },
  {
   "cell_type": "code",
   "execution_count": 10,
   "id": "99f4558b-108c-4e0e-9e12-550fb85c53e5",
   "metadata": {
    "tags": []
   },
   "outputs": [],
   "source": [
    "# Game rules: first to attain W points wins\n",
    "W<-6"
   ]
  },
  {
   "cell_type": "code",
   "execution_count": 11,
   "id": "22a4a3dd-91eb-48bc-b1ef-800dda83628f",
   "metadata": {},
   "outputs": [],
   "source": [
    "# Initialization\n",
    "set.seed(24025)   # some arbitrary seed - for the sake of reproducibility"
   ]
  },
  {
   "cell_type": "markdown",
   "id": "3bbcf773-ef60-4494-bab7-768307988d0e",
   "metadata": {},
   "source": [
    "## Throw balls - See which side of the cue ball they fall"
   ]
  },
  {
   "cell_type": "code",
   "execution_count": 12,
   "id": "68347c9c-0262-4918-9ac6-4cf0e675bd8f",
   "metadata": {
    "tags": []
   },
   "outputs": [
    {
     "data": {
      "image/png": "[encoded data removed]",
      "text/plain": [
       "plot without title"
      ]
     },
     "metadata": {
      "image/png": {
       "height": 180,
       "width": 960
      }
     },
     "output_type": "display_data"
    }
   ],
   "source": [
    "A<-1.1\n",
    "B<-0.25\n",
    "old.par<-par(usr=c(-A,A,-B,B))\n",
    "options(repr.plot.width=16,repr.plot.height=3)\n",
    "plot.new()\n",
    "plot.window(xlim=c(-A,A),ylim=c(-B,B),bty=\"o\")\n",
    "bg<-\"white\"\n",
    "axis(1,pos=0,lwd=1.5,at=c(-1,1),labels=c(\"0\",\"1\"),col.lab=\"blue\",cex.lab=2,tick=FALSE,\n",
    "     col.axis=bg,cex.axis=1,las=1)\n",
    "Lx<-c(-1,1)\n",
    "Ly<-c(0,0)\n",
    "lines(Lx,Ly,lwd=8,col=\"blue\")\n",
    "points(Lx,Ly,pch=19,cex=3,col=\"blue\")\n",
    "text(Lx,c(-0.2,-0.2),c(\"0\",\"1\"),col=\"blue\",cex=2)\n",
    "x.cue<--1+2*0.65\n",
    "points(x.cue,0,pch=16,col=\"red\",cex=6)\n",
    "text(x.cue,-0.2,c(\"p\"),col=\"red\",cex=2)\n",
    "x<--1+2*runif(1)\n",
    "points(x,0,pch=16,col=\"black\",cex=6)\n",
    "par(old.par)"
   ]
  },
  {
   "cell_type": "code",
   "execution_count": 13,
   "id": "752684b5-7783-42a1-bc68-d15a6104a3c2",
   "metadata": {
    "tags": []
   },
   "outputs": [
    {
     "data": {
      "image/png": "[encoded data removed]",
      "text/plain": [
       "plot without title"
      ]
     },
     "metadata": {
      "image/png": {
       "height": 180,
       "width": 960
      }
     },
     "output_type": "display_data"
    }
   ],
   "source": [
    "A<-1.1\n",
    "B<-0.25\n",
    "old.par<-par(usr=c(-A,A,-B,B))\n",
    "options(repr.plot.width=16,repr.plot.height=3)\n",
    "plot.new()\n",
    "plot.window(xlim=c(-A,A),ylim=c(-B,B),bty=\"o\")\n",
    "bg<-\"white\"\n",
    "axis(1,pos=0,lwd=1.5,at=c(-1,1),labels=c(\"0\",\"1\"),col.lab=\"blue\",cex.lab=2,tick=FALSE,\n",
    "     col.axis=bg,cex.axis=1,las=1)\n",
    "Lx<-c(-1,1)\n",
    "Ly<-c(0,0)\n",
    "lines(Lx,Ly,lwd=8,col=\"blue\")\n",
    "points(Lx,Ly,pch=19,cex=3,col=\"blue\")\n",
    "text(Lx,c(-0.2,-0.2),c(\"0\",\"1\"),col=\"blue\",cex=2)\n",
    "x.cue<--1+2*0.65\n",
    "points(x.cue,0,pch=16,col=\"red\",cex=6)\n",
    "text(x.cue,-0.2,c(\"p\"),col=\"red\",cex=2)\n",
    "x<--1+2*runif(1)\n",
    "points(x,0,pch=16,col=\"black\",cex=6)\n",
    "par(old.par)"
   ]
  },
  {
   "cell_type": "code",
   "execution_count": 14,
   "id": "ec77ba80-f26b-4ad6-97ce-df5c91b97fce",
   "metadata": {
    "tags": []
   },
   "outputs": [
    {
     "data": {
      "image/png": "[encoded data removed]",
      "text/plain": [
       "plot without title"
      ]
     },
     "metadata": {
      "image/png": {
       "height": 180,
       "width": 960
      }
     },
     "output_type": "display_data"
    }
   ],
   "source": [
    "A<-1.1\n",
    "B<-0.25\n",
    "old.par<-par(usr=c(-A,A,-B,B))\n",
    "options(repr.plot.width=16,repr.plot.height=3)\n",
    "plot.new()\n",
    "plot.window(xlim=c(-A,A),ylim=c(-B,B),bty=\"o\")\n",
    "bg<-\"white\"\n",
    "axis(1,pos=0,lwd=1.5,at=c(-1,1),labels=c(\"0\",\"1\"),col.lab=\"blue\",cex.lab=2,tick=FALSE,\n",
    "     col.axis=bg,cex.axis=1,las=1)\n",
    "Lx<-c(-1,1)\n",
    "Ly<-c(0,0)\n",
    "lines(Lx,Ly,lwd=8,col=\"blue\")\n",
    "points(Lx,Ly,pch=19,cex=3,col=\"blue\")\n",
    "text(Lx,c(-0.2,-0.2),c(\"0\",\"1\"),col=\"blue\",cex=2)\n",
    "x.cue<--1+2*0.65\n",
    "points(x.cue,0,pch=16,col=\"red\",cex=6)\n",
    "text(x.cue,-0.2,c(\"p\"),col=\"red\",cex=2)\n",
    "x<--1+2*runif(1)\n",
    "points(x,0,pch=16,col=\"black\",cex=6)\n",
    "par(old.par)"
   ]
  },
  {
   "cell_type": "markdown",
   "id": "b0e1a1ee-2b5c-4632-b771-16fd08815447",
   "metadata": {},
   "source": [
    "# Simulation"
   ]
  },
  {
   "cell_type": "markdown",
   "id": "3d939885-cb68-4b16-97b7-476cfc6e15a5",
   "metadata": {},
   "source": [
    "## Assume $n=8$ throws done, $a=5$  to the left, $b=3$ to the right of the cue ball"
   ]
  },
  {
   "cell_type": "code",
   "execution_count": 15,
   "id": "130214bb-7f29-4c4e-8a21-ff0615086054",
   "metadata": {},
   "outputs": [],
   "source": [
    "#number of throws so far, number of points for A so far, same for B\n",
    "n<-8\n",
    "a<-5\n",
    "b<-n-a"
   ]
  },
  {
   "cell_type": "markdown",
   "id": "b88543f5-1a3f-4f00-9082-09cc55f29af6",
   "metadata": {},
   "source": [
    "#### Simulate $N$ games with the same $n=8$\n",
    "\n",
    "#### Throw cue ball $N$ times, each time with a different $p$, uniformly chosen from the $(0,1)$ interval\n",
    "\n",
    "#### For each p, an $n$-throws game is played.\n",
    "\n",
    "### $ap$ (vector) is the register of Alice's points in each game"
   ]
  },
  {
   "cell_type": "code",
   "execution_count": 16,
   "id": "c38dcd0e-e6fe-4f2c-a0d9-cf286a9d2be6",
   "metadata": {},
   "outputs": [],
   "source": [
    "N<-100000\n",
    "p<-runif(N)\n",
    "ap<-rbinom(N,size=n,prob=p)"
   ]
  },
  {
   "cell_type": "code",
   "execution_count": 17,
   "id": "6444292a-9853-4278-8b71-fd8f47f982ec",
   "metadata": {},
   "outputs": [
    {
     "data": {
      "text/plain": [
       "ap\n",
       "    0     1     2     3     4     5     6     7     8 \n",
       "11198 11135 11071 11107 11144 11126 11139 11135 10945 "
      ]
     },
     "metadata": {},
     "output_type": "display_data"
    }
   ],
   "source": [
    "T<-table(ap)\n",
    "T"
   ]
  },
  {
   "cell_type": "markdown",
   "id": "30424e05-2998-4271-bdae-7ca9e138bfea",
   "metadata": {},
   "source": [
    "#### Filter the set of games, selecting those for which Alice's score is 'a', the actually observed value\n",
    "#### (for each of them Bob's score is b = n - a)\n",
    "\n",
    "#### Keep the values of p for these games\n",
    "#### Then we study the distribution of this quantity"
   ]
  },
  {
   "cell_type": "code",
   "execution_count": 18,
   "id": "5f2ce90f-52d0-49c4-b2cb-dbd925d8a81e",
   "metadata": {},
   "outputs": [
    {
     "name": "stdout",
     "output_type": "stream",
     "text": [
      " num [1:11126] 0.727 0.806 0.673 0.348 0.593 ...\n"
     ]
    }
   ],
   "source": [
    "p.post<-p[ap==a]\n",
    "n.post<-length(p.post)\n",
    "str(p.post)"
   ]
  },
  {
   "cell_type": "markdown",
   "id": "c1a7ab10-2211-4381-9d8a-fdbc2f0924ac",
   "metadata": {},
   "source": [
    "#### Now, for just these games we play the remaining $W-b$ rounds, checking whether Bob wins.\n",
    "\n",
    "#### This happens only if Bob wins all $W-b$ rounds"
   ]
  },
  {
   "cell_type": "code",
   "execution_count": 19,
   "id": "427674da-14e0-40a6-8db5-42d8bb7a3a24",
   "metadata": {},
   "outputs": [
    {
     "data": {
      "text/html": [
       "0.091"
      ],
      "text/latex": [
       "0.091"
      ],
      "text/markdown": [
       "0.091"
      ],
      "text/plain": [
       "[1] 0.091"
      ]
     },
     "metadata": {},
     "output_type": "display_data"
    }
   ],
   "source": [
    "F.result<-rbinom(n.post,size=W-b,prob=1-p.post)       # number of points for Bob \n",
    "B.wins<-(F.result==(W-b))\n",
    "Freq.Bob.wins<-sum(B.wins)/n.post\n",
    "round(Freq.Bob.wins,3)"
   ]
  },
  {
   "cell_type": "markdown",
   "id": "869f7700-ae0c-41db-87e5-2bffd7382753",
   "metadata": {},
   "source": [
    "This result is close to the theoretically derived $P_{BAYES}(\\text{Bob wins})$"
   ]
  },
  {
   "cell_type": "code",
   "execution_count": 20,
   "id": "6871f28b-1790-42b7-a569-9c2911279b8b",
   "metadata": {},
   "outputs": [
    {
     "name": "stdout",
     "output_type": "stream",
     "text": [
      "'data.frame':\t11126 obs. of  1 variable:\n",
      " $ p.post: num  0.727 0.806 0.673 0.348 0.593 ...\n"
     ]
    }
   ],
   "source": [
    "# Store as a data.frame, for plotting\n",
    "p.post.df<-data.frame(p.post)\n",
    "str(p.post.df)"
   ]
  },
  {
   "cell_type": "code",
   "execution_count": 21,
   "id": "fc7a9be9-80ec-4255-bba0-33293b430391",
   "metadata": {},
   "outputs": [],
   "source": [
    "require(MASS,quietly=TRUE)\n",
    "require(ggplot2,quietly=TRUE)"
   ]
  },
  {
   "cell_type": "code",
   "execution_count": 22,
   "id": "38c67e07-3cfe-4fd0-bd59-94aca5132a59",
   "metadata": {},
   "outputs": [
    {
     "name": "stdout",
     "output_type": "stream",
     "text": [
      "List of 7\n",
      " $ x        : num [1:512] 0.033 0.035 0.0369 0.0389 0.0409 ...\n",
      " $ y        : num [1:512] 2.09e-05 2.76e-05 3.62e-05 4.75e-05 6.17e-05 ...\n",
      " $ bw       : num 0.0207\n",
      " $ n        : int 11126\n",
      " $ call     : language density.default(x = p.post)\n",
      " $ data.name: chr \"p.post\"\n",
      " $ has.na   : logi FALSE\n",
      " - attr(*, \"class\")= chr \"density\"\n"
     ]
    },
    {
     "data": {
      "image/png": "[encoded data removed]",
      "text/plain": [
       "Plot with title \"Histogram of p.post\""
      ]
     },
     "metadata": {
      "image/png": {
       "height": 420,
       "width": 420
      }
     },
     "output_type": "display_data"
    }
   ],
   "source": [
    "options(repr.plot.width=7,repr.plot.height=7)\n",
    "h<-hist(p.post,freq=FALSE,col=\"LightGreen\")\n",
    "p.post.density<-density(p.post)\n",
    "str(p.post.density)"
   ]
  },
  {
   "cell_type": "code",
   "execution_count": 23,
   "id": "b62a2d99-2633-4caa-b388-d047a5c71839",
   "metadata": {},
   "outputs": [
    {
     "data": {
      "text/html": [
       "0.614"
      ],
      "text/latex": [
       "0.614"
      ],
      "text/markdown": [
       "0.614"
      ],
      "text/plain": [
       "[1] 0.614"
      ]
     },
     "metadata": {},
     "output_type": "display_data"
    },
    {
     "data": {
      "text/html": [
       "0.625"
      ],
      "text/latex": [
       "0.625"
      ],
      "text/markdown": [
       "0.625"
      ],
      "text/plain": [
       "[1] 0.625"
      ]
     },
     "metadata": {},
     "output_type": "display_data"
    },
    {
     "data": {
      "text/html": [
       "2177/3545"
      ],
      "text/latex": [
       "2177/3545"
      ],
      "text/markdown": [
       "2177/3545"
      ],
      "text/plain": [
       "[1] 2177/3545"
      ]
     },
     "metadata": {},
     "output_type": "display_data"
    }
   ],
   "source": [
    "p.post.MAP<-p.post.density$x[which.max(p.post.density$y)]\n",
    "round(p.post.MAP,3)\n",
    "round(a/n,3)\n",
    "fractions(p.post.MAP)"
   ]
  },
  {
   "cell_type": "code",
   "execution_count": 24,
   "id": "3fe91ea8-b50f-4654-8f31-a84224944d73",
   "metadata": {
    "tags": []
   },
   "outputs": [
    {
     "data": {
      "image/png": "[encoded data removed]",
      "text/plain": [
       "plot without title"
      ]
     },
     "metadata": {
      "image/png": {
       "height": 420,
       "width": 420
      }
     },
     "output_type": "display_data"
    }
   ],
   "source": [
    "options(repr.plot.width=7,repr.plot.height=7)\n",
    "plot.01<-ggplot(p.post.df, aes(x=p.post))+geom_histogram(aes(y=after_stat(density)),binwidth=0.04,color=\"blue\",fill=\"LightGreen\")+\n",
    "    geom_density(alpha=.4, color=\"DarkGreen\",fill=\"gray\",linewidth=1.1)\n",
    "\n",
    "plot.01+geom_vline(aes(xintercept=p.post.MAP),color=\"red\", linewidth=1.1)"
   ]
  }
 ],
 "metadata": {
  "kernelspec": {
   "display_name": "R",
   "language": "R",
   "name": "ir"
  },
  "language_info": {
   "codemirror_mode": "r",
   "file_extension": ".r",
   "mimetype": "text/x-r-source",
   "name": "R",
   "pygments_lexer": "r",
   "version": "4.2.2"
  }
 },
 "nbformat": 4,
 "nbformat_minor": 5
}
