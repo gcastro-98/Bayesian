{
 "cells": [
  {
   "cell_type": "markdown",
   "metadata": {
    "tags": []
   },
   "source": [
    "# Linear Regression <h3 style=\"color:green\">JAGS version</h3>\n",
    "\n",
    "### Posterior distribution _(of regression parameters),_ and \n",
    "### Posterior predictive distribution _(of new $y$ predictions)._"
   ]
  },
  {
   "cell_type": "markdown",
   "metadata": {
    "tags": []
   },
   "source": [
    "## _Josep Fortiana_ &emsp;&emsp;&emsp;&emsp;&emsp; 2023-04-17"
   ]
  },
  {
   "cell_type": "markdown",
   "metadata": {
    "tags": []
   },
   "source": [
    "***\n",
    "###### LaTeX macros\n",
    "$\\def\\prob{P}$\n",
    "$\\def\\argmax{\\operatorname{arg\\,max}}$\n",
    "$\\def\\argmin{\\operatorname{arg\\,min}}$\n",
    "$\\def\\borel{\\operatorname{Borel}}$\n",
    "$\\def\\cE{\\cal E}$\n",
    "$\\def\\cP{\\cal P}$\n",
    "$\\def\\R{\\mathbb{R}}$ \n",
    "$\\def\\N{\\mathbb{N}}$\n",
    "$\\def\\Z{\\mathbb{Z}}$\n",
    "$\\def\\Ee{\\operatorname{E}}$\n",
    "$\\def\\va{\\text{v.a.}}$\n",
    "$\\def\\var{\\operatorname{var}}$\n",
    "$\\def\\cov{\\operatorname{cov}}$\n",
    "$\\def\\cor{\\operatorname{cor}}$\n",
    "$\\def\\binomdist{\\operatorname{Binom}}$\n",
    "$\\def\\berndist{\\operatorname{Ber}}$\n",
    "$\\def\\betabinomdist{\\operatorname{Beta-Binom}}$\n",
    "$\\def\\betadist{\\operatorname{Beta}}$\n",
    "$\\def\\expdist{\\operatorname{Exp}}$\n",
    "$\\def\\fdist{\\operatorname{F}}$\n",
    "$\\def\\gammadist{\\operatorname{Gamma}}$\n",
    "$\\def\\hyperdist{\\operatorname{Hypergeom}}$\n",
    "$\\def\\hypergeomdist{\\operatorname{Hypergeom}}$\n",
    "$\\DeclareMathOperator{\\invgammadist}{IG}$\n",
    "$\\DeclareMathOperator{\\multinomialdist}{Multinomial}$\n",
    "$\\DeclareMathOperator{\\multinomdist}{Multinom}$\n",
    "$\\def\\poissondist{\\operatorname{Poisson}}$\n",
    "$\\def\\geomdist{\\operatorname{Geom}}$\n",
    "$\\def\\normaldist{\\operatorname{N}}$\n",
    "$\\def\\unifdist{\\operatorname{Unif}}$\n",
    "$\\def\\xbar{\\kern1.3pt\\overline{\\kern-1.3pt x}}$\n",
    "$\\DeclareMathOperator{\\indica}{\\mathbb{1}}$\n",
    "$\\def\\CondTo{\\mathbin{|\\mskip0.5mu}}$\n",
    "$\\def\\eqdef{\\stackrel{\\text{def}}{\\mskip3mu=\\mskip3mu}}$\n",
    "***"
   ]
  },
  {
   "cell_type": "markdown",
   "metadata": {},
   "source": [
    "# 01. Simple linear regression: A simulated example"
   ]
  },
  {
   "cell_type": "markdown",
   "metadata": {},
   "source": [
    "## Generate a simulated dataset for simple linear regression"
   ]
  },
  {
   "cell_type": "code",
   "execution_count": 1,
   "metadata": {},
   "outputs": [],
   "source": [
    "# More or less arbitrary parameters for the data generation\n",
    "trueA<-1   \n",
    "trueB<-5\n",
    "trueSd<-15\n",
    "n<-20\n",
    "sampleSize<-n "
   ]
  },
  {
   "cell_type": "code",
   "execution_count": 2,
   "metadata": {},
   "outputs": [],
   "source": [
    "# Uniformly spread x values in the interval [-n/2,n/2]\n",
    "x<-(-(sampleSize-1)/2):((sampleSize-1)/2)\n",
    "# y values of the form a + b*x + N(0,trueSd)\n",
    "set.seed(123123)\n",
    "y<-trueA+trueB*x+rnorm(n=sampleSize,mean=0,sd=trueSd)"
   ]
  },
  {
   "cell_type": "code",
   "execution_count": 3,
   "metadata": {},
   "outputs": [
    {
     "data": {
      "image/png": "[encoded data removed]",
      "text/plain": [
       "Plot with title \"Test data for simple linear regression \""
      ]
     },
     "metadata": {
      "image/png": {
       "height": 420,
       "width": 420
      }
     },
     "output_type": "display_data"
    }
   ],
   "source": [
    "# Plot data points plus the line used in the generation\n",
    "# Note this line is NOT a regression line, which will be computed below\n",
    "# It is just an auxiliary line, used to generate the dataset\n",
    "options(repr.plot.width=7, repr.plot.height=7)\n",
    "plot(x,y,pch='+',cex=0.9,col=\"blue\",main=\"Test data for simple linear regression \",cex.main=1.7)\n",
    "abline(trueA,trueB,lwd=3.5,col=\"cyan\")"
   ]
  },
  {
   "cell_type": "markdown",
   "metadata": {
    "tags": []
   },
   "source": [
    "## Fit a (classical) least squares linear regression model"
   ]
  },
  {
   "cell_type": "code",
   "execution_count": 4,
   "metadata": {},
   "outputs": [
    {
     "data": {
      "image/png": "[encoded data removed]",
      "text/plain": [
       "Plot with title \"Linear regression with test data\""
      ]
     },
     "metadata": {
      "image/png": {
       "height": 420,
       "width": 420
      }
     },
     "output_type": "display_data"
    }
   ],
   "source": [
    "lm.1<-lm(y~x)\n",
    "options(repr.plot.width=7, repr.plot.height=7)\n",
    "plot(x,y,pch='+',cex=1.1,col=\"blue\",main=\"Linear regression with test data\",cex.main=1.5)\n",
    "yhat<-fitted.values(lm.1)\n",
    "abline(trueA,trueB,lwd=3.5,col=\"cyan\")\n",
    "abline(lm.1,lwd=3.5,col=\"blue\")\n",
    "points(x,yhat,pch=16,col=\"red\",cex=1.4)\n",
    "legend(\"topleft\",c(\"Original    \",\"\",\"Regression   \",\"\",\"Fitted points\"), lwd=3.5,\n",
    "       col=c(\"cyan\",\"white\",\"blue\",\"white\",\"red\"),cex=1.1)"
   ]
  },
  {
   "cell_type": "markdown",
   "metadata": {},
   "source": [
    "## Extract information from the fitted model"
   ]
  },
  {
   "cell_type": "code",
   "execution_count": 5,
   "metadata": {},
   "outputs": [
    {
     "name": "stdout",
     "output_type": "stream",
     "text": [
      "\n",
      "Call:\n",
      "lm(formula = y ~ x)\n",
      "\n",
      "Coefficients:\n",
      "(Intercept)            x  \n",
      "      2.507        4.222  \n",
      "\n"
     ]
    }
   ],
   "source": [
    "print(lm.1)"
   ]
  },
  {
   "cell_type": "code",
   "execution_count": 6,
   "metadata": {},
   "outputs": [
    {
     "data": {
      "text/plain": [
       "\n",
       "Call:\n",
       "lm(formula = y ~ x)\n",
       "\n",
       "Residuals:\n",
       "    Min      1Q  Median      3Q     Max \n",
       "-14.140  -5.951  -3.854   3.507  24.248 \n",
       "\n",
       "Coefficients:\n",
       "            Estimate Std. Error t value Pr(>|t|)    \n",
       "(Intercept)   2.5066     2.6939   0.930    0.364    \n",
       "x             4.2224     0.4672   9.038 4.13e-08 ***\n",
       "---\n",
       "Signif. codes:  0 '***' 0.001 '**' 0.01 '*' 0.05 '.' 0.1 ' ' 1\n",
       "\n",
       "Residual standard error: 12.05 on 18 degrees of freedom\n",
       "Multiple R-squared:  0.8194,\tAdjusted R-squared:  0.8094 \n",
       "F-statistic: 81.69 on 1 and 18 DF,  p-value: 4.135e-08\n"
      ]
     },
     "metadata": {},
     "output_type": "display_data"
    }
   ],
   "source": [
    "summary(lm.1)"
   ]
  },
  {
   "cell_type": "markdown",
   "metadata": {},
   "source": [
    "### Regression coefficients"
   ]
  },
  {
   "cell_type": "code",
   "execution_count": 7,
   "metadata": {},
   "outputs": [
    {
     "data": {
      "text/html": [
       "<strong>(Intercept):</strong> 2.507"
      ],
      "text/latex": [
       "\\textbf{(Intercept):} 2.507"
      ],
      "text/markdown": [
       "**(Intercept):** 2.507"
      ],
      "text/plain": [
       "(Intercept) \n",
       "      2.507 "
      ]
     },
     "metadata": {},
     "output_type": "display_data"
    },
    {
     "data": {
      "text/html": [
       "<strong>x:</strong> 4.222"
      ],
      "text/latex": [
       "\\textbf{x:} 4.222"
      ],
      "text/markdown": [
       "**x:** 4.222"
      ],
      "text/plain": [
       "    x \n",
       "4.222 "
      ]
     },
     "metadata": {},
     "output_type": "display_data"
    }
   ],
   "source": [
    "Coeff<-coefficients(lm.1)\n",
    "a.hat<-Coeff[1]\n",
    "b.hat<-Coeff[2]\n",
    "round(a.hat,3)\n",
    "round(b.hat,3)"
   ]
  },
  {
   "cell_type": "markdown",
   "metadata": {},
   "source": [
    "### Predict the response for a new $ \\tilde{x}$"
   ]
  },
  {
   "cell_type": "code",
   "execution_count": 8,
   "metadata": {
    "tags": []
   },
   "outputs": [],
   "source": [
    "x.tilde<-c(2.5,3)  # just for example\n",
    "newx<-data.frame(x=x.tilde)"
   ]
  },
  {
   "cell_type": "code",
   "execution_count": 9,
   "metadata": {
    "tags": []
   },
   "outputs": [
    {
     "data": {
      "text/html": [
       "<style>\n",
       ".dl-inline {width: auto; margin:0; padding: 0}\n",
       ".dl-inline>dt, .dl-inline>dd {float: none; width: auto; display: inline-block}\n",
       ".dl-inline>dt::after {content: \":\\0020\"; padding-right: .5ex}\n",
       ".dl-inline>dt:not(:first-of-type) {padding-left: .5ex}\n",
       "</style><dl class=dl-inline><dt>1</dt><dd>13.0627709071849</dd><dt>2</dt><dd>15.1739952690024</dd></dl>\n"
      ],
      "text/latex": [
       "\\begin{description*}\n",
       "\\item[1] 13.0627709071849\n",
       "\\item[2] 15.1739952690024\n",
       "\\end{description*}\n"
      ],
      "text/markdown": [
       "1\n",
       ":   13.06277090718492\n",
       ":   15.1739952690024\n",
       "\n"
      ],
      "text/plain": [
       "       1        2 \n",
       "13.06277 15.17400 "
      ]
     },
     "metadata": {},
     "output_type": "display_data"
    }
   ],
   "source": [
    "predict(lm.1,newdata=newx)"
   ]
  },
  {
   "cell_type": "markdown",
   "metadata": {},
   "source": [
    "By default for linear models `type=response`"
   ]
  },
  {
   "cell_type": "code",
   "execution_count": 10,
   "metadata": {
    "tags": []
   },
   "outputs": [
    {
     "data": {
      "text/html": [
       "<table class=\"dataframe\">\n",
       "<caption>A matrix: 2 × 3 of type dbl</caption>\n",
       "<thead>\n",
       "\t<tr><th></th><th scope=col>fit</th><th scope=col>lwr</th><th scope=col>upr</th></tr>\n",
       "</thead>\n",
       "<tbody>\n",
       "\t<tr><th scope=row>1</th><td>13.06277</td><td>6.894112</td><td>19.23143</td></tr>\n",
       "\t<tr><th scope=row>2</th><td>15.17400</td><td>8.794218</td><td>21.55377</td></tr>\n",
       "</tbody>\n",
       "</table>\n"
      ],
      "text/latex": [
       "A matrix: 2 × 3 of type dbl\n",
       "\\begin{tabular}{r|lll}\n",
       "  & fit & lwr & upr\\\\\n",
       "\\hline\n",
       "\t1 & 13.06277 & 6.894112 & 19.23143\\\\\n",
       "\t2 & 15.17400 & 8.794218 & 21.55377\\\\\n",
       "\\end{tabular}\n"
      ],
      "text/markdown": [
       "\n",
       "A matrix: 2 × 3 of type dbl\n",
       "\n",
       "| <!--/--> | fit | lwr | upr |\n",
       "|---|---|---|---|\n",
       "| 1 | 13.06277 | 6.894112 | 19.23143 |\n",
       "| 2 | 15.17400 | 8.794218 | 21.55377 |\n",
       "\n"
      ],
      "text/plain": [
       "  fit      lwr      upr     \n",
       "1 13.06277 6.894112 19.23143\n",
       "2 15.17400 8.794218 21.55377"
      ]
     },
     "metadata": {},
     "output_type": "display_data"
    }
   ],
   "source": [
    "predict(lm.1,newdata=newx,interval = \"confidence\")"
   ]
  },
  {
   "cell_type": "markdown",
   "metadata": {},
   "source": [
    "Confidence intervals for fitted values\n",
    "\n",
    "$$\n",
    "    \\hat{y}=\\hat{a}+\\hat{b}\\cdot\\tilde{x}\n",
    "$$"
   ]
  },
  {
   "cell_type": "code",
   "execution_count": 11,
   "metadata": {
    "tags": []
   },
   "outputs": [
    {
     "data": {
      "text/html": [
       "<table class=\"dataframe\">\n",
       "<caption>A matrix: 2 × 3 of type dbl</caption>\n",
       "<thead>\n",
       "\t<tr><th></th><th scope=col>fit</th><th scope=col>lwr</th><th scope=col>upr</th></tr>\n",
       "</thead>\n",
       "<tbody>\n",
       "\t<tr><th scope=row>1</th><td>13.06277</td><td>-12.98873</td><td>39.11427</td></tr>\n",
       "\t<tr><th scope=row>2</th><td>15.17400</td><td>-10.92830</td><td>41.27629</td></tr>\n",
       "</tbody>\n",
       "</table>\n"
      ],
      "text/latex": [
       "A matrix: 2 × 3 of type dbl\n",
       "\\begin{tabular}{r|lll}\n",
       "  & fit & lwr & upr\\\\\n",
       "\\hline\n",
       "\t1 & 13.06277 & -12.98873 & 39.11427\\\\\n",
       "\t2 & 15.17400 & -10.92830 & 41.27629\\\\\n",
       "\\end{tabular}\n"
      ],
      "text/markdown": [
       "\n",
       "A matrix: 2 × 3 of type dbl\n",
       "\n",
       "| <!--/--> | fit | lwr | upr |\n",
       "|---|---|---|---|\n",
       "| 1 | 13.06277 | -12.98873 | 39.11427 |\n",
       "| 2 | 15.17400 | -10.92830 | 41.27629 |\n",
       "\n"
      ],
      "text/plain": [
       "  fit      lwr       upr     \n",
       "1 13.06277 -12.98873 39.11427\n",
       "2 15.17400 -10.92830 41.27629"
      ]
     },
     "metadata": {},
     "output_type": "display_data"
    }
   ],
   "source": [
    "predict(lm.1,newdata=newx,interval=\"prediction\")"
   ]
  },
  {
   "cell_type": "markdown",
   "metadata": {},
   "source": [
    "Confidence intervals for predicted values, including the $ \\normaldist(0,\\sigma^{2})$ fluctuation around $\\hat{y}$.    \n",
    "(so the results are wider intervals)"
   ]
  },
  {
   "cell_type": "markdown",
   "metadata": {},
   "source": [
    "# 02. Simple linear regression: Bayesian model"
   ]
  },
  {
   "cell_type": "markdown",
   "metadata": {},
   "source": [
    "The purpose of fitting a model in this case is to explore the relationship between $y$ and $ x$. Since both $y$ and $x$ are continuous, a simple regression line is a good start.\n",
    "\n",
    "Each observed response ($ y_{i}$) is assumed to be drawn from a normal distribution with mean ($\\mu_{i}$) and standard deviation ($\\sigma$). \n",
    "\n",
    "The expected values ($\\mu_{i}$) are themselves determined by the linear predictor ($\\beta_{0}+\\beta\\cdot x_{i}$). In this case, $\\beta_{0}$ represents the $y$-intercept (value of $y$ when $x$ is equal to zero) and $\\beta$ represents the rate of change in $y$ for every unit change in $x$ (the effect).\n",
    "\n",
    "We will employ weakly informative _(\"non informative\")_ priors. This choice is always a bit of a balancing act. If the priors are too vague (wide) the MCMC sampler can wander off into nonsense areas of likelihood rather than concentrate around areas of highest likelihood (desired when wanting the outcomes to be largely driven by the data). On the other hand, if the priors are too strong, they may have an influence on the parameters. In such a simple model, this balance is very forgiving - it is for more complex models that prior choice becomes more important.\n",
    "\n",
    "For this simple model, we will go with Gaussian (normal) priors with relatively large standard deviations (1000) for both the intercept and the treatment effect and a wide uniform for the standard deviation. \n",
    "The intercept $\\beta_{0}$  will be centered at $\\hat{a}$ (`a.hat`), the least squares intercept and the slope will be zero centered. Alternatively we could center $x$ and $y$ beforehand and then use a zero-centered prior for  $\\beta_{0}$ too."
   ]
  },
  {
   "cell_type": "markdown",
   "metadata": {},
   "source": [
    "The model, likelihood $+ $ priors, is:\n",
    "\n",
    "$$\n",
    "\\begin{array}{lcl}\n",
    "    y_{i}     &\\sim &\\normaldist(\\mu_{i},\\sigma^2),\\\\[0.2cm]\n",
    "    \\mu_{i}   &=    &\\beta_{0}+\\beta\\cdot x_{i},\\\\[0.2cm]\n",
    "    \\beta_{0} &\\sim &\\normaldist(\\,0\\,,1000^2),\\\\[0.2cm]\n",
    "    \\beta     &\\sim &\\normaldist(\\,0\\,,1000^2),\\\\[0.2cm]\n",
    "    \\sigma    &\\sim &\\unifdist(0,100).\n",
    "\\end{array}\n",
    "$$"
   ]
  },
  {
   "cell_type": "markdown",
   "metadata": {},
   "source": [
    "<h3 style=\"color:red\"> Posterior prediction </h3>"
   ]
  },
  {
   "cell_type": "markdown",
   "metadata": {},
   "source": [
    "<div style=\"color:red\">\n",
    "    \n",
    "We will generate (a sample of) the posterior predictive pdf for each of the $ n$ predictor values. By the same procedure we could generate a posterior\n",
    "predictive pdf for any new set of new $x$ values.   \n",
    "    \n",
    "$$\n",
    "\\begin{array}{lcl}\n",
    "    \\mu^{\\text{POST}}_{i}   &=    &\\beta^{\\text{POST}}_{0}+\\beta^{\\text{POST}}\\cdot x_{i},\\\\[0.2cm]\n",
    "    y^{\\text{POST}}_{i}     &\\sim &\\normaldist(\\mu_{i}^{\\text{POST}},{\\sigma^{2}}^{\\text{POST}}).\n",
    "\\end{array}\n",
    "$$\n",
    "    \n",
    "</div>"
   ]
  },
  {
   "cell_type": "markdown",
   "metadata": {},
   "source": [
    "## JAGS translation"
   ]
  },
  {
   "cell_type": "markdown",
   "metadata": {},
   "source": [
    "**Remembering that in JAGS normal pdf's are specified with the precision parameter $ \\tau=1/\\sigma^{2}$.**\n",
    "\n",
    "$$\n",
    "\\begin{array}{lcl}\n",
    "    y_{i}     &\\sim &\\operatorname{N}(\\mu_{i},\\tau),\\\\[0.2cm]\n",
    "    \\mu_{i}   &=    &\\beta_{0}+\\beta\\cdot x_{i},\\\\[0.2cm]\n",
    "    \\tau      &=    &1/\\sigma^2,\\\\[0.2cm]\n",
    "    \\beta_{0} &\\sim &\\normaldist(\\,0\\,,1.0E-6),\\mskip10mu\\text{noninformative prior,}\\\\[0.2cm]\n",
    "    \\beta     &\\sim &\\normaldist(\\,0\\,,1.0E-6),\\mskip10mu\\text{noninformative prior,}\\\\[0.2cm]\n",
    "    \\sigma    &\\sim &\\unifdist(0,100),\\mskip10mu\\text{noninformative prior.}\n",
    "\\end{array}\n",
    "$$"
   ]
  },
  {
   "cell_type": "markdown",
   "metadata": {},
   "source": [
    "## JAGS code"
   ]
  },
  {
   "cell_type": "markdown",
   "metadata": {},
   "source": [
    "We will run the JAGS via the R2jags interface. \n",
    "\n",
    "Some authors recommend to run any kind of randomization function just to initiate the `.Random.seed` variable the first time `jags` is run after the `R2jags` package is loaded \n",
    "(just as we tend to do with `set.seed()` in R."
   ]
  },
  {
   "cell_type": "code",
   "execution_count": 12,
   "metadata": {},
   "outputs": [
    {
     "name": "stderr",
     "output_type": "stream",
     "text": [
      "Linked to JAGS 4.3.1\n",
      "\n",
      "Loaded modules: basemod,bugs\n",
      "\n",
      "\n",
      "Attaching package: 'R2jags'\n",
      "\n",
      "\n",
      "The following object is masked from 'package:coda':\n",
      "\n",
      "    traceplot\n",
      "\n",
      "\n"
     ]
    }
   ],
   "source": [
    "#install.packages(\"R2jags\",dependencies=TRUE,repos= \"https://cloud.r-project.org\")\n",
    "require(R2jags,quietly=TRUE)"
   ]
  },
  {
   "cell_type": "code",
   "execution_count": 13,
   "metadata": {},
   "outputs": [],
   "source": [
    "simple.regression.pred.JAGS.01.modelString= \"\n",
    "    model{\n",
    "    #Likelihood\n",
    "    for (i in 1:n){\n",
    "        y[i]~dnorm(mu[i],tau)\n",
    "        mu[i] <- b.0+b.1*x[i]\n",
    "        }\n",
    "  \n",
    "    #Priors\n",
    "    b.0 ~ dnorm(0.0,1.0E-6)\n",
    "    b.1 ~ dnorm(0.0,1.0E-6)\n",
    "    tau<-pow(sigma,-2)          \n",
    "    sigma~dunif(0,100)\n",
    "\n",
    "    # Posterior predictive distributions\n",
    "    # Since this is a small dataset we compute a posterior predictive pdf for \n",
    "    # each x in the original set.\n",
    "    # In fact we could have used any set of x's (or just a single one)\n",
    "\n",
    "    for (i in 1:n){\n",
    "        y.pred[i]~dnorm(mu.post[i],tau)\n",
    "        mu.post[i] <- b.0+b.1*x[i]\n",
    "        }\n",
    "  }\"\n",
    "\n",
    "## write the model to text file \n",
    "writeLines(simple.regression.pred.JAGS.01.modelString, con = \"./simple.regression.pred.JAGS.01.jag\")"
   ]
  },
  {
   "cell_type": "markdown",
   "metadata": {},
   "source": [
    "### Data list\n",
    "\n",
    "Arrange the data as a list (as required by JAGS). As input, JAGS will need to be supplied with:\n",
    "\n",
    "- The response variable ($ y$)\n",
    "- The predictor variable ($x$)\n",
    "- The total number of observed items ($n$)\n",
    "- The  mean of the prior for $\\beta_{0}$\n",
    "\n",
    "This all needs to be contained within a list object. "
   ]
  },
  {
   "cell_type": "code",
   "execution_count": 14,
   "metadata": {},
   "outputs": [],
   "source": [
    "simple.regression.pred.JAGS.01.data.list <- list(y = y, x = x, n = sampleSize)"
   ]
  },
  {
   "cell_type": "markdown",
   "metadata": {},
   "source": [
    "### Define initial values\n",
    "\n",
    "Define the initial values of $ \\beta_{0}$, $\\beta_{1}$ and $\\sigma$ for the chain. Reasonable starting points can be gleaned from the data themselves. "
   ]
  },
  {
   "cell_type": "markdown",
   "metadata": {},
   "source": [
    "#### Note\n",
    "\n",
    "This step is not absolutely necessary for simple models as the `R2jags` interface will automatically create sensible initial values for the parameters based on simple data summaries.\n",
    "\n",
    "On the other hand it is possible to define (random) functions to generate different initial points on each run."
   ]
  },
  {
   "cell_type": "code",
   "execution_count": 15,
   "metadata": {},
   "outputs": [],
   "source": [
    "simple.regression.pred.JAGS.01.inits<-rep(list(list(b.0=a.hat, b.1 = b.hat, sigma = sd(y))), 3)"
   ]
  },
  {
   "cell_type": "markdown",
   "metadata": {},
   "source": [
    "### Define the MCMC chain parameters\n",
    "\n",
    "Next we should define the \"behavioral\" parameters of the MCMC sampling chains:\n",
    "\n",
    "- The nodes (estimated parameters) to monitor (return samples for)\n",
    "- The number of MCMC chains (3)\n",
    "- The number of burnIn steps (3000)\n",
    "- The thinning factor (10)\n",
    "- The number of MCMC iterations - determined by the number of samples to save, the rate of thinning and the number of chains"
   ]
  },
  {
   "cell_type": "code",
   "execution_count": 16,
   "metadata": {},
   "outputs": [
    {
     "data": {
      "text/html": [
       "53000"
      ],
      "text/latex": [
       "53000"
      ],
      "text/markdown": [
       "53000"
      ],
      "text/plain": [
       "[1] 53000"
      ]
     },
     "metadata": {},
     "output_type": "display_data"
    }
   ],
   "source": [
    "params <- c(\"b.0\", \"b.1\", \"sigma\",\"mu.post\",\"y.pred\")\n",
    "nChains = 3\n",
    "burnInSteps = 3000\n",
    "thinSteps = 10\n",
    "numSavedSteps = 15000  #across all chains\n",
    "nIter = ceiling(burnInSteps + (numSavedSteps * thinSteps)/nChains)\n",
    "nIter"
   ]
  },
  {
   "cell_type": "markdown",
   "metadata": {},
   "source": [
    "## Fitting the model "
   ]
  },
  {
   "cell_type": "code",
   "execution_count": 17,
   "metadata": {},
   "outputs": [
    {
     "name": "stderr",
     "output_type": "stream",
     "text": [
      "module glm loaded\n",
      "\n"
     ]
    },
    {
     "name": "stdout",
     "output_type": "stream",
     "text": [
      "Compiling model graph\n",
      "   Resolving undeclared variables\n",
      "   Allocating nodes\n",
      "Graph information:\n",
      "   Observed stochastic nodes: 20\n",
      "   Unobserved stochastic nodes: 23\n",
      "   Total graph size: 110\n",
      "\n",
      "Initializing model\n",
      "\n"
     ]
    }
   ],
   "source": [
    "simple.regression.pred.JAGS.01.m<- jags(data = simple.regression.pred.JAGS.01.data.list, \n",
    "                             inits = simple.regression.pred.JAGS.01.inits, \n",
    "                            parameters.to.save = params, model.file = \"./simple.regression.pred.JAGS.01.jag\",\n",
    "                            n.chains = nChains, n.iter = nIter, n.burnin = burnInSteps, n.thin = thinSteps)"
   ]
  },
  {
   "cell_type": "code",
   "execution_count": 18,
   "metadata": {},
   "outputs": [
    {
     "name": "stdout",
     "output_type": "stream",
     "text": [
      "Inference for Bugs model at \"./simple.regression.pred.JAGS.01.jag\", fit using jags,\n",
      " 3 chains, each with 53000 iterations (first 3000 discarded), n.thin = 10\n",
      " n.sims = 15000 iterations saved\n",
      "            mu.vect sd.vect    2.5%     25%     50%     75%   97.5%  Rhat n.eff\n",
      "b.0           2.535   2.947  -3.307   0.616   2.550   4.444   8.316 1.001 15000\n",
      "b.1           4.227   0.507   3.225   3.894   4.231   4.556   5.230 1.001 15000\n",
      "mu.post[1]  -37.619   5.629 -48.748 -41.336 -37.620 -33.932 -26.469 1.001 15000\n",
      "mu.post[2]  -33.392   5.203 -43.673 -36.829 -33.385 -29.982 -23.104 1.001 15000\n",
      "mu.post[3]  -29.165   4.794 -38.570 -32.330 -29.175 -26.022 -19.628 1.001 15000\n",
      "mu.post[4]  -24.939   4.405 -33.560 -27.838 -24.946 -22.041 -16.181 1.001 15000\n",
      "mu.post[5]  -20.712   4.042 -28.655 -23.379 -20.719 -18.071 -12.677 1.001 15000\n",
      "mu.post[6]  -16.485   3.713 -23.755 -18.918 -16.483 -14.083  -9.150 1.001 15000\n",
      "mu.post[7]  -12.258   3.428 -19.020 -14.469 -12.241 -10.040  -5.492 1.001 15000\n",
      "mu.post[8]   -8.031   3.198 -14.383 -10.085  -8.018  -5.956  -1.736 1.001 15000\n",
      "mu.post[9]   -3.805   3.037  -9.869  -5.763  -3.798  -1.829   2.190 1.001 15000\n",
      "mu.post[10]   0.422   2.955  -5.439  -1.506   0.429   2.362   6.243 1.001 15000\n",
      "mu.post[11]   4.649   2.960  -1.272   2.744   4.661   6.572  10.471 1.001 13000\n",
      "mu.post[12]   8.876   3.049   2.785   6.894   8.894  10.854  14.945 1.001 10000\n",
      "mu.post[13]  13.102   3.217   6.696  11.028  13.124  15.196  19.473 1.001  9100\n",
      "mu.post[14]  17.329   3.453  10.414  15.090  17.356  19.564  24.194 1.001 12000\n",
      "mu.post[15]  21.556   3.742  14.105  19.129  21.562  24.004  28.972 1.001 11000\n",
      "mu.post[16]  25.783   4.075  17.688  23.151  25.771  28.423  33.844 1.001 10000\n",
      "mu.post[17]  30.009   4.440  21.262  27.111  30.004  32.869  38.702 1.001 10000\n",
      "mu.post[18]  34.236   4.832  24.731  31.084  34.222  37.339  43.731 1.001 10000\n",
      "mu.post[19]  38.463   5.243  28.131  35.038  38.486  41.838  48.703 1.001 10000\n",
      "mu.post[20]  42.690   5.670  31.580  38.979  42.703  46.364  53.824 1.001 11000\n",
      "sigma        12.965   2.371   9.336  11.276  12.615  14.284  18.547 1.001 15000\n",
      "y.pred[1]   -37.616  14.558 -66.393 -46.884 -37.669 -28.347  -8.595 1.001  9600\n",
      "y.pred[2]   -33.502  14.185 -62.146 -42.742 -33.390 -24.234  -5.276 1.001  6800\n",
      "y.pred[3]   -29.158  13.962 -56.996 -38.332 -29.163 -20.120  -1.766 1.001 15000\n",
      "y.pred[4]   -25.037  13.770 -52.710 -33.810 -24.888 -16.087   1.900 1.001 15000\n",
      "y.pred[5]   -20.459  13.732 -47.511 -29.518 -20.551 -11.516   6.646 1.001 15000\n",
      "y.pred[6]   -16.325  13.572 -43.016 -25.064 -16.303  -7.453  10.291 1.001  9800\n",
      "y.pred[7]   -12.337  13.575 -39.173 -21.098 -12.249  -3.501  14.238 1.001  4100\n",
      "y.pred[8]    -8.100  13.463 -34.692 -16.858  -8.020   0.555  18.451 1.001 15000\n",
      "y.pred[9]    -3.737  13.428 -30.307 -12.388  -3.818   4.952  22.873 1.001 15000\n",
      "y.pred[10]    0.568  13.443 -25.996  -8.165   0.344   9.259  27.714 1.001 15000\n",
      "y.pred[11]    4.597  13.561 -21.872  -4.232   4.610  13.169  31.817 1.001 13000\n",
      "y.pred[12]    8.926  13.453 -17.584   0.284   8.896  17.762  35.741 1.001 15000\n",
      "y.pred[13]   13.151  13.524 -13.599   4.324  13.142  21.880  39.966 1.001 15000\n",
      "y.pred[14]   17.480  13.602  -9.480   8.556  17.548  26.302  44.487 1.001 15000\n",
      "y.pred[15]   21.530  13.728  -6.048  12.769  21.565  30.363  48.569 1.001  9000\n",
      "y.pred[16]   25.545  13.761  -1.468  16.624  25.427  34.454  52.892 1.001 15000\n",
      "y.pred[17]   30.176  14.012   2.259  21.198  30.119  39.100  58.272 1.001  8100\n",
      "y.pred[18]   34.033  14.057   6.155  25.017  33.940  43.058  61.716 1.001 12000\n",
      "y.pred[19]   38.432  14.082  10.287  29.439  38.484  47.563  65.937 1.001 15000\n",
      "y.pred[20]   42.757  14.371  14.403  33.516  42.612  52.074  71.652 1.001 15000\n",
      "deviance    157.635   2.774 154.456 155.595 156.912 158.919 164.800 1.001  6200\n",
      "\n",
      "For each parameter, n.eff is a crude measure of effective sample size,\n",
      "and Rhat is the potential scale reduction factor (at convergence, Rhat=1).\n",
      "\n",
      "DIC info (using the rule, pD = var(deviance)/2)\n",
      "pD = 3.8 and DIC = 161.5\n",
      "DIC is an estimate of expected predictive error (lower deviance is better).\n"
     ]
    }
   ],
   "source": [
    "print(simple.regression.pred.JAGS.01.m)"
   ]
  },
  {
   "cell_type": "markdown",
   "metadata": {},
   "source": [
    "## Convert output to an `mcmc` object for diagnostics and further analysis"
   ]
  },
  {
   "cell_type": "code",
   "execution_count": 19,
   "metadata": {},
   "outputs": [
    {
     "data": {
      "text/plain": [
       "\n",
       "Iterations = 3001:52991\n",
       "Thinning interval = 10 \n",
       "Number of chains = 3 \n",
       "Sample size per chain = 5000 \n",
       "\n",
       "1. Empirical mean and standard deviation for each variable,\n",
       "   plus standard error of the mean:\n",
       "\n",
       "                Mean      SD Naive SE Time-series SE\n",
       "b.0           2.5354  2.9466 0.024059       0.024671\n",
       "b.1           4.2268  0.5074 0.004143       0.004127\n",
       "deviance    157.6346  2.7737 0.022647       0.022250\n",
       "mu.post[1]  -37.6189  5.6288 0.045959       0.044540\n",
       "mu.post[10]   0.4221  2.9554 0.024131       0.024805\n",
       "mu.post[11]   4.6488  2.9595 0.024165       0.023993\n",
       "mu.post[12]   8.8756  3.0493 0.024897       0.025094\n",
       "mu.post[13]  13.1024  3.2175 0.026271       0.026535\n",
       "mu.post[14]  17.3291  3.4527 0.028191       0.028577\n",
       "mu.post[15]  21.5559  3.7423 0.030556       0.030769\n",
       "mu.post[16]  25.7827  4.0748 0.033270       0.033535\n",
       "mu.post[17]  30.0095  4.4404 0.036256       0.036570\n",
       "mu.post[18]  34.2362  4.8317 0.039451       0.039814\n",
       "mu.post[19]  38.4630  5.2430 0.042809       0.043219\n",
       "mu.post[2]  -33.3921  5.2033 0.042485       0.041180\n",
       "mu.post[20]  42.6898  5.6698 0.046294       0.046750\n",
       "mu.post[3]  -29.1653  4.7937 0.039141       0.037955\n",
       "mu.post[4]  -24.9386  4.4046 0.035963       0.034905\n",
       "mu.post[5]  -20.7118  4.0417 0.033000       0.032078\n",
       "mu.post[6]  -16.4850  3.7129 0.030316       0.029539\n",
       "mu.post[7]  -12.2583  3.4279 0.027989       0.027496\n",
       "mu.post[8]   -8.0315  3.1985 0.026116       0.026687\n",
       "mu.post[9]   -3.8047  3.0373 0.024799       0.025584\n",
       "sigma        12.9652  2.3708 0.019357       0.019358\n",
       "y.pred[1]   -37.6163 14.5581 0.118867       0.120016\n",
       "y.pred[10]    0.5681 13.4432 0.109763       0.109770\n",
       "y.pred[11]    4.5965 13.5612 0.110727       0.110726\n",
       "y.pred[12]    8.9262 13.4527 0.109841       0.110661\n",
       "y.pred[13]   13.1509 13.5242 0.110424       0.110429\n",
       "y.pred[14]   17.4795 13.6020 0.111060       0.112033\n",
       "y.pred[15]   21.5295 13.7279 0.112088       0.110931\n",
       "y.pred[16]   25.5453 13.7607 0.112355       0.114244\n",
       "y.pred[17]   30.1760 14.0119 0.114406       0.113254\n",
       "y.pred[18]   34.0327 14.0569 0.114774       0.113491\n",
       "y.pred[19]   38.4319 14.0820 0.114979       0.118237\n",
       "y.pred[2]   -33.5016 14.1848 0.115818       0.115809\n",
       "y.pred[20]   42.7571 14.3707 0.117336       0.116510\n",
       "y.pred[3]   -29.1584 13.9623 0.114002       0.114004\n",
       "y.pred[4]   -25.0365 13.7705 0.112436       0.116673\n",
       "y.pred[5]   -20.4588 13.7321 0.112122       0.111420\n",
       "y.pred[6]   -16.3249 13.5720 0.110815       0.110811\n",
       "y.pred[7]   -12.3373 13.5751 0.110840       0.111715\n",
       "y.pred[8]    -8.1002 13.4635 0.109929       0.111437\n",
       "y.pred[9]    -3.7375 13.4280 0.109639       0.111286\n",
       "\n",
       "2. Quantiles for each variable:\n",
       "\n",
       "               2.5%      25%      50%      75%   97.5%\n",
       "b.0          -3.307   0.6163   2.5500   4.4442   8.316\n",
       "b.1           3.225   3.8939   4.2313   4.5564   5.230\n",
       "deviance    154.456 155.5952 156.9123 158.9186 164.800\n",
       "mu.post[1]  -48.748 -41.3358 -37.6204 -33.9321 -26.469\n",
       "mu.post[10]  -5.439  -1.5059   0.4287   2.3623   6.243\n",
       "mu.post[11]  -1.272   2.7437   4.6607   6.5721  10.471\n",
       "mu.post[12]   2.785   6.8944   8.8935  10.8538  14.945\n",
       "mu.post[13]   6.696  11.0276  13.1239  15.1961  19.473\n",
       "mu.post[14]  10.414  15.0903  17.3557  19.5639  24.194\n",
       "mu.post[15]  14.105  19.1286  21.5624  24.0039  28.972\n",
       "mu.post[16]  17.688  23.1513  25.7707  28.4230  33.844\n",
       "mu.post[17]  21.262  27.1107  30.0043  32.8691  38.702\n",
       "mu.post[18]  24.731  31.0843  34.2222  37.3393  43.731\n",
       "mu.post[19]  28.131  35.0381  38.4863  41.8380  48.703\n",
       "mu.post[2]  -43.673 -36.8290 -33.3851 -29.9823 -23.104\n",
       "mu.post[20]  31.580  38.9793  42.7026  46.3645  53.824\n",
       "mu.post[3]  -38.570 -32.3300 -29.1750 -26.0223 -19.628\n",
       "mu.post[4]  -33.560 -27.8378 -24.9460 -22.0407 -16.181\n",
       "mu.post[5]  -28.655 -23.3789 -20.7190 -18.0711 -12.677\n",
       "mu.post[6]  -23.755 -18.9178 -16.4833 -14.0825  -9.150\n",
       "mu.post[7]  -19.020 -14.4689 -12.2406 -10.0395  -5.492\n",
       "mu.post[8]  -14.383 -10.0850  -8.0178  -5.9563  -1.736\n",
       "mu.post[9]   -9.869  -5.7629  -3.7978  -1.8287   2.190\n",
       "sigma         9.336  11.2765  12.6152  14.2838  18.547\n",
       "y.pred[1]   -66.393 -46.8836 -37.6689 -28.3471  -8.595\n",
       "y.pred[10]  -25.996  -8.1652   0.3436   9.2586  27.714\n",
       "y.pred[11]  -21.872  -4.2323   4.6104  13.1693  31.817\n",
       "y.pred[12]  -17.584   0.2843   8.8962  17.7625  35.741\n",
       "y.pred[13]  -13.599   4.3239  13.1421  21.8802  39.966\n",
       "y.pred[14]   -9.480   8.5558  17.5478  26.3017  44.487\n",
       "y.pred[15]   -6.048  12.7685  21.5649  30.3626  48.569\n",
       "y.pred[16]   -1.468  16.6241  25.4265  34.4537  52.892\n",
       "y.pred[17]    2.259  21.1984  30.1195  39.1004  58.272\n",
       "y.pred[18]    6.155  25.0167  33.9398  43.0583  61.716\n",
       "y.pred[19]   10.287  29.4386  38.4840  47.5634  65.937\n",
       "y.pred[2]   -62.146 -42.7424 -33.3899 -24.2340  -5.276\n",
       "y.pred[20]   14.403  33.5164  42.6119  52.0736  71.652\n",
       "y.pred[3]   -56.996 -38.3315 -29.1635 -20.1204  -1.766\n",
       "y.pred[4]   -52.710 -33.8096 -24.8878 -16.0870   1.900\n",
       "y.pred[5]   -47.511 -29.5183 -20.5511 -11.5156   6.646\n",
       "y.pred[6]   -43.016 -25.0636 -16.3034  -7.4530  10.291\n",
       "y.pred[7]   -39.173 -21.0977 -12.2494  -3.5011  14.238\n",
       "y.pred[8]   -34.692 -16.8576  -8.0204   0.5554  18.451\n",
       "y.pred[9]   -30.307 -12.3880  -3.8183   4.9519  22.873\n"
      ]
     },
     "metadata": {},
     "output_type": "display_data"
    }
   ],
   "source": [
    "simple.regression.pred.JAGS.01.mcmc<-as.mcmc(simple.regression.pred.JAGS.01.m)\n",
    "summary(simple.regression.pred.JAGS.01.mcmc)"
   ]
  },
  {
   "cell_type": "code",
   "execution_count": 20,
   "metadata": {},
   "outputs": [],
   "source": [
    "#str(simple.regression.pred.JAGS.01.mcmc)"
   ]
  },
  {
   "cell_type": "code",
   "execution_count": 21,
   "metadata": {},
   "outputs": [
    {
     "name": "stderr",
     "output_type": "stream",
     "text": [
      "Loading required package: bayesplot\n",
      "\n",
      "This is bayesplot version 1.10.0\n",
      "\n",
      "- Online documentation and vignettes at mc-stan.org/bayesplot\n",
      "\n",
      "- bayesplot theme set to bayesplot::theme_default()\n",
      "\n",
      "   * Does _not_ affect other ggplot2 plots\n",
      "\n",
      "   * See ?bayesplot_theme_set for details on theme setting\n",
      "\n"
     ]
    }
   ],
   "source": [
    "#install.packages(\"bayesplot\",dependencies=TRUE,repos= \"https://cloud.r-project.org\")\n",
    "require(bayesplot)"
   ]
  },
  {
   "cell_type": "markdown",
   "metadata": {},
   "source": [
    "### Traceplot"
   ]
  },
  {
   "cell_type": "code",
   "execution_count": 22,
   "metadata": {},
   "outputs": [
    {
     "data": {
      "image/png": "[encoded data removed]",
      "text/plain": [
       "plot without title"
      ]
     },
     "metadata": {
      "image/png": {
       "height": 360,
       "width": 960
      }
     },
     "output_type": "display_data"
    }
   ],
   "source": [
    "options(repr.plot.width=16, repr.plot.height=6)\n",
    "color_scheme_set(\"mix-blue-red\")\n",
    "mcmc_trace(simple.regression.pred.JAGS.01.mcmc, pars = c(\"b.0\",\"b.1\",\"sigma\"))"
   ]
  },
  {
   "cell_type": "markdown",
   "metadata": {},
   "source": [
    "### Autocorrelation plot"
   ]
  },
  {
   "cell_type": "code",
   "execution_count": 23,
   "metadata": {},
   "outputs": [
    {
     "data": {
      "image/png": "[encoded data removed]",
      "text/plain": [
       "plot without title"
      ]
     },
     "metadata": {
      "image/png": {
       "height": 360,
       "width": 960
      }
     },
     "output_type": "display_data"
    }
   ],
   "source": [
    "options(repr.plot.width=16, repr.plot.height=6)\n",
    "color_scheme_set(\"mix-blue-red\")\n",
    "mcmc_acf(simple.regression.pred.JAGS.01.mcmc, pars = c(\"b.0\",\"b.1\",\"sigma\"))"
   ]
  },
  {
   "cell_type": "markdown",
   "metadata": {},
   "source": [
    "###  Posterior area plots (posterior density + posterior credible intervals)"
   ]
  },
  {
   "cell_type": "code",
   "execution_count": 24,
   "metadata": {
    "tags": []
   },
   "outputs": [
    {
     "data": {
      "image/png": "[encoded data removed]",
      "text/plain": [
       "plot without title"
      ]
     },
     "metadata": {
      "image/png": {
       "height": 360,
       "width": 960
      }
     },
     "output_type": "display_data"
    }
   ],
   "source": [
    "options(repr.plot.width=16, repr.plot.height=6)\n",
    "color_scheme_set(\"mix-blue-red\")\n",
    "mcmc_areas(simple.regression.pred.JAGS.01.mcmc, pars = c(\"b.0\",\"b.1\",\"sigma\"))"
   ]
  },
  {
   "cell_type": "markdown",
   "metadata": {},
   "source": [
    "Problem with plotting parameters together is, either range or dispersion can be quite different.\n",
    "\n",
    "Then one can plot them separately to better visualize."
   ]
  },
  {
   "cell_type": "code",
   "execution_count": 25,
   "metadata": {
    "tags": []
   },
   "outputs": [
    {
     "data": {
      "image/png": "[encoded data removed]",
      "text/plain": [
       "plot without title"
      ]
     },
     "metadata": {
      "image/png": {
       "height": 360,
       "width": 480
      }
     },
     "output_type": "display_data"
    }
   ],
   "source": [
    "options(repr.plot.width=8, repr.plot.height=6)\n",
    "color_scheme_set(\"mix-blue-red\")\n",
    "mcmc_areas(simple.regression.pred.JAGS.01.mcmc, pars = c(\"b.0\",\"b.1\"))"
   ]
  },
  {
   "cell_type": "code",
   "execution_count": 26,
   "metadata": {
    "tags": []
   },
   "outputs": [
    {
     "data": {
      "image/png": "[encoded data removed]",
      "text/plain": [
       "plot without title"
      ]
     },
     "metadata": {
      "image/png": {
       "height": 360,
       "width": 360
      }
     },
     "output_type": "display_data"
    }
   ],
   "source": [
    "options(repr.plot.width=6, repr.plot.height=6)\n",
    "color_scheme_set(\"mix-blue-red\")\n",
    "mcmc_areas(simple.regression.pred.JAGS.01.mcmc, pars = c(\"b.0\"))"
   ]
  },
  {
   "cell_type": "markdown",
   "metadata": {},
   "source": [
    "###  Posterior density plots"
   ]
  },
  {
   "cell_type": "code",
   "execution_count": 27,
   "metadata": {},
   "outputs": [
    {
     "data": {
      "image/png": "[encoded data removed]",
      "text/plain": [
       "plot without title"
      ]
     },
     "metadata": {
      "image/png": {
       "height": 360,
       "width": 960
      }
     },
     "output_type": "display_data"
    }
   ],
   "source": [
    "options(repr.plot.width=16, repr.plot.height=6)\n",
    "color_scheme_set(\"brightblue\")\n",
    "mcmc_dens(simple.regression.pred.JAGS.01.mcmc, pars = c(\"y.pred[1]\",\"y.pred[5]\",\"y.pred[10]\"))"
   ]
  },
  {
   "cell_type": "markdown",
   "metadata": {},
   "source": [
    "# 03. The `Advertising` dataset"
   ]
  },
  {
   "cell_type": "markdown",
   "metadata": {},
   "source": [
    "From [An Introduction to Statistical Learning with Applications in R (ISLR)](https://www.statlearning.com/). \n",
    "\n",
    "File [`Advertising.csv`](https://www.statlearning.com/s/Advertising.csv) from the textbook web page. \n",
    "\n",
    "In this section we follow the treatment of the `Advertising` dataset from chapters 2 and 3."
   ]
  },
  {
   "cell_type": "markdown",
   "metadata": {},
   "source": [
    "Suppose that we are statistical consultants hired by a client to investigate  the  association  between \n",
    "advertising  and  sales  of  a  particular product.  The  `Advertising`  data  set  consists  of  the\n",
    "sales  of  that  product in 200 different markets, along with advertising budgets for the product in each \n",
    "of those markets for three different media: TV, radio, and newspaper.  It  is  not  possible  for  our\n",
    "client  to directly increase sales of the product. \n",
    "\n",
    "On the other hand, they can control the advertising\n",
    "expenditure  in  each  of  the  three  media.  Therefore,  if  we determine that there \n",
    "is an association between advertising and sales, then we can instruct our client to adjust \n",
    "advertising budgets, thereby indirectly increasing sales."
   ]
  },
  {
   "cell_type": "markdown",
   "metadata": {},
   "source": [
    "In other words, our goal is to develop an accurate model that can be used to predict sales on the basis of the three media budgets.\n",
    "In this setting, the advertising budgets are  input  variables  while sales is an output  variable. \n",
    "The input variables are typically denoted using the symbol $X$, with a subscript to distinguish them. So $X_{1}$ might be the TV budget, \n",
    "$ X_{2}$ the radio  budget, and $X_{3}$ the newspaper  budget. The inputs go by different names, such as _predictors,_\n",
    "_independent variables,_ _features,_ or sometimes just _variables._ The output variable —in this case, sales— is often \n",
    "called the _response_  or _dependent  variable,_ and is typically denoted using the symbol $Y$."
   ]
  },
  {
   "cell_type": "markdown",
   "metadata": {},
   "source": [
    "### Read dataset.\n",
    "\n",
    "Omit first column, the index of each sample. If needed it could be recovered by: `row.names(Advertising)`."
   ]
  },
  {
   "cell_type": "code",
   "execution_count": 28,
   "metadata": {},
   "outputs": [],
   "source": [
    "Advertising<-read.csv(\"Data/Advertising.csv\")\n",
    "#Advertising<-read.csv(\"https://www.statlearning.com/s/Advertising.csv\")\n",
    "Advertising<-Advertising[,-1]  # This line, if read from local .csv"
   ]
  },
  {
   "cell_type": "code",
   "execution_count": 29,
   "metadata": {},
   "outputs": [
    {
     "data": {
      "image/png": "[encoded data removed]",
      "text/plain": [
       "plot without title"
      ]
     },
     "metadata": {
      "image/png": {
       "height": 720,
       "width": 720
      }
     },
     "output_type": "display_data"
    }
   ],
   "source": [
    "options(repr.plot.width=12, repr.plot.height=12)\n",
    "plot(Advertising,pch=19,col=\"LightGreen\",cex=0.8,main=\"Pairwise scatterplots\",cex.main=1.5)"
   ]
  },
  {
   "cell_type": "code",
   "execution_count": 30,
   "metadata": {},
   "outputs": [
    {
     "data": {
      "text/html": [
       "<table class=\"dataframe\">\n",
       "<caption>A matrix: 4 × 4 of type dbl</caption>\n",
       "<thead>\n",
       "\t<tr><th></th><th scope=col>TV</th><th scope=col>Radio</th><th scope=col>Newspaper</th><th scope=col>Sales</th></tr>\n",
       "</thead>\n",
       "<tbody>\n",
       "\t<tr><th scope=row>TV</th><td>1.0</td><td>0.1</td><td>0.1</td><td>0.8</td></tr>\n",
       "\t<tr><th scope=row>Radio</th><td>0.1</td><td>1.0</td><td>0.4</td><td>0.6</td></tr>\n",
       "\t<tr><th scope=row>Newspaper</th><td>0.1</td><td>0.4</td><td>1.0</td><td>0.2</td></tr>\n",
       "\t<tr><th scope=row>Sales</th><td>0.8</td><td>0.6</td><td>0.2</td><td>1.0</td></tr>\n",
       "</tbody>\n",
       "</table>\n"
      ],
      "text/latex": [
       "A matrix: 4 × 4 of type dbl\n",
       "\\begin{tabular}{r|llll}\n",
       "  & TV & Radio & Newspaper & Sales\\\\\n",
       "\\hline\n",
       "\tTV & 1.0 & 0.1 & 0.1 & 0.8\\\\\n",
       "\tRadio & 0.1 & 1.0 & 0.4 & 0.6\\\\\n",
       "\tNewspaper & 0.1 & 0.4 & 1.0 & 0.2\\\\\n",
       "\tSales & 0.8 & 0.6 & 0.2 & 1.0\\\\\n",
       "\\end{tabular}\n"
      ],
      "text/markdown": [
       "\n",
       "A matrix: 4 × 4 of type dbl\n",
       "\n",
       "| <!--/--> | TV | Radio | Newspaper | Sales |\n",
       "|---|---|---|---|---|\n",
       "| TV | 1.0 | 0.1 | 0.1 | 0.8 |\n",
       "| Radio | 0.1 | 1.0 | 0.4 | 0.6 |\n",
       "| Newspaper | 0.1 | 0.4 | 1.0 | 0.2 |\n",
       "| Sales | 0.8 | 0.6 | 0.2 | 1.0 |\n",
       "\n"
      ],
      "text/plain": [
       "          TV  Radio Newspaper Sales\n",
       "TV        1.0 0.1   0.1       0.8  \n",
       "Radio     0.1 1.0   0.4       0.6  \n",
       "Newspaper 0.1 0.4   1.0       0.2  \n",
       "Sales     0.8 0.6   0.2       1.0  "
      ]
     },
     "metadata": {},
     "output_type": "display_data"
    }
   ],
   "source": [
    "#cor(Advertising)\n",
    "#round(cor(Advertising),2)\n",
    "round(cor(Advertising),1)"
   ]
  },
  {
   "cell_type": "markdown",
   "metadata": {},
   "source": [
    "## Multiple regression (classical)"
   ]
  },
  {
   "cell_type": "markdown",
   "metadata": {},
   "source": [
    "Multiple linear regression of Sales on all three predictors"
   ]
  },
  {
   "cell_type": "code",
   "execution_count": 31,
   "metadata": {},
   "outputs": [
    {
     "data": {
      "text/plain": [
       "\n",
       "Call:\n",
       "lm(formula = Sales ~ TV + Radio + Newspaper, data = Advertising)\n",
       "\n",
       "Residuals:\n",
       "    Min      1Q  Median      3Q     Max \n",
       "-8.8277 -0.8908  0.2418  1.1893  2.8292 \n",
       "\n",
       "Coefficients:\n",
       "             Estimate Std. Error t value Pr(>|t|)    \n",
       "(Intercept)  2.938889   0.311908   9.422   <2e-16 ***\n",
       "TV           0.045765   0.001395  32.809   <2e-16 ***\n",
       "Radio        0.188530   0.008611  21.893   <2e-16 ***\n",
       "Newspaper   -0.001037   0.005871  -0.177     0.86    \n",
       "---\n",
       "Signif. codes:  0 '***' 0.001 '**' 0.01 '*' 0.05 '.' 0.1 ' ' 1\n",
       "\n",
       "Residual standard error: 1.686 on 196 degrees of freedom\n",
       "Multiple R-squared:  0.8972,\tAdjusted R-squared:  0.8956 \n",
       "F-statistic: 570.3 on 3 and 196 DF,  p-value: < 2.2e-16\n"
      ]
     },
     "metadata": {},
     "output_type": "display_data"
    }
   ],
   "source": [
    "lm.Advertising.01<-lm(Sales~TV+Radio+Newspaper,data=Advertising)\n",
    "# Equivalent, alternative notation\n",
    "#lm.Advertising.01<-lm(Sales~.,data=Advertising)\n",
    "S<-summary(lm.Advertising.01)\n",
    "S"
   ]
  },
  {
   "cell_type": "code",
   "execution_count": 32,
   "metadata": {},
   "outputs": [
    {
     "data": {
      "text/html": [
       "<table class=\"dataframe\">\n",
       "<caption>A anova: 4 × 5</caption>\n",
       "<thead>\n",
       "\t<tr><th></th><th scope=col>Df</th><th scope=col>Sum Sq</th><th scope=col>Mean Sq</th><th scope=col>F value</th><th scope=col>Pr(&gt;F)</th></tr>\n",
       "\t<tr><th></th><th scope=col>&lt;int&gt;</th><th scope=col>&lt;dbl&gt;</th><th scope=col>&lt;dbl&gt;</th><th scope=col>&lt;dbl&gt;</th><th scope=col>&lt;dbl&gt;</th></tr>\n",
       "</thead>\n",
       "<tbody>\n",
       "\t<tr><th scope=row>TV</th><td>  1</td><td>3.314618e+03</td><td>3.314618e+03</td><td>1.166731e+03</td><td>1.809337e-84</td></tr>\n",
       "\t<tr><th scope=row>Radio</th><td>  1</td><td>1.545617e+03</td><td>1.545617e+03</td><td>5.440501e+02</td><td>1.882722e-58</td></tr>\n",
       "\t<tr><th scope=row>Newspaper</th><td>  1</td><td>8.871717e-02</td><td>8.871717e-02</td><td>3.122805e-02</td><td>8.599151e-01</td></tr>\n",
       "\t<tr><th scope=row>Residuals</th><td>196</td><td>5.568253e+02</td><td>2.840945e+00</td><td>          NA</td><td>          NA</td></tr>\n",
       "</tbody>\n",
       "</table>\n"
      ],
      "text/latex": [
       "A anova: 4 × 5\n",
       "\\begin{tabular}{r|lllll}\n",
       "  & Df & Sum Sq & Mean Sq & F value & Pr(>F)\\\\\n",
       "  & <int> & <dbl> & <dbl> & <dbl> & <dbl>\\\\\n",
       "\\hline\n",
       "\tTV &   1 & 3.314618e+03 & 3.314618e+03 & 1.166731e+03 & 1.809337e-84\\\\\n",
       "\tRadio &   1 & 1.545617e+03 & 1.545617e+03 & 5.440501e+02 & 1.882722e-58\\\\\n",
       "\tNewspaper &   1 & 8.871717e-02 & 8.871717e-02 & 3.122805e-02 & 8.599151e-01\\\\\n",
       "\tResiduals & 196 & 5.568253e+02 & 2.840945e+00 &           NA &           NA\\\\\n",
       "\\end{tabular}\n"
      ],
      "text/markdown": [
       "\n",
       "A anova: 4 × 5\n",
       "\n",
       "| <!--/--> | Df &lt;int&gt; | Sum Sq &lt;dbl&gt; | Mean Sq &lt;dbl&gt; | F value &lt;dbl&gt; | Pr(&gt;F) &lt;dbl&gt; |\n",
       "|---|---|---|---|---|---|\n",
       "| TV |   1 | 3.314618e+03 | 3.314618e+03 | 1.166731e+03 | 1.809337e-84 |\n",
       "| Radio |   1 | 1.545617e+03 | 1.545617e+03 | 5.440501e+02 | 1.882722e-58 |\n",
       "| Newspaper |   1 | 8.871717e-02 | 8.871717e-02 | 3.122805e-02 | 8.599151e-01 |\n",
       "| Residuals | 196 | 5.568253e+02 | 2.840945e+00 |           NA |           NA |\n",
       "\n"
      ],
      "text/plain": [
       "          Df  Sum Sq       Mean Sq      F value      Pr(>F)      \n",
       "TV          1 3.314618e+03 3.314618e+03 1.166731e+03 1.809337e-84\n",
       "Radio       1 1.545617e+03 1.545617e+03 5.440501e+02 1.882722e-58\n",
       "Newspaper   1 8.871717e-02 8.871717e-02 3.122805e-02 8.599151e-01\n",
       "Residuals 196 5.568253e+02 2.840945e+00           NA           NA"
      ]
     },
     "metadata": {},
     "output_type": "display_data"
    }
   ],
   "source": [
    "anova(lm.Advertising.01)"
   ]
  },
  {
   "cell_type": "markdown",
   "metadata": {},
   "source": [
    "Rename response and model for the sake of pithy expressions"
   ]
  },
  {
   "cell_type": "code",
   "execution_count": 33,
   "metadata": {},
   "outputs": [
    {
     "data": {
      "text/html": [
       "3"
      ],
      "text/latex": [
       "3"
      ],
      "text/markdown": [
       "3"
      ],
      "text/plain": [
       "[1] 3"
      ]
     },
     "metadata": {},
     "output_type": "display_data"
    },
    {
     "data": {
      "text/html": [
       "200"
      ],
      "text/latex": [
       "200"
      ],
      "text/markdown": [
       "200"
      ],
      "text/plain": [
       "[1] 200"
      ]
     },
     "metadata": {},
     "output_type": "display_data"
    }
   ],
   "source": [
    "y<-Advertising$Sales\n",
    "n<-length(y)\n",
    "# (number of predictors)\n",
    "p<-3 \n",
    "# (number of columns in the regression matrix, including the colummn of ones for the intercept)\n",
    "m<-p+1\n",
    "p\n",
    "n"
   ]
  },
  {
   "cell_type": "code",
   "execution_count": 34,
   "metadata": {},
   "outputs": [],
   "source": [
    "lm.1<-lm.Advertising.01"
   ]
  },
  {
   "cell_type": "code",
   "execution_count": 35,
   "metadata": {},
   "outputs": [
    {
     "data": {
      "text/html": [
       "2.9389"
      ],
      "text/latex": [
       "2.9389"
      ],
      "text/markdown": [
       "2.9389"
      ],
      "text/plain": [
       "[1] 2.9389"
      ]
     },
     "metadata": {},
     "output_type": "display_data"
    }
   ],
   "source": [
    "# Keep the classical intercept (eventually to center the Bayesian prior for the intercept parameter)\n",
    "beta<-as.numeric(coef(lm.1))\n",
    "beta0.hat<-beta[1]\n",
    "round(beta0.hat,4)"
   ]
  },
  {
   "cell_type": "markdown",
   "metadata": {},
   "source": [
    "$X$ is the matrix with the predictor values for each of the observed samples. \n",
    "\n",
    "This is the regression model matrix minus the column of ones corresponding to the intercept."
   ]
  },
  {
   "cell_type": "code",
   "execution_count": 36,
   "metadata": {},
   "outputs": [
    {
     "data": {
      "text/html": [
       "<table class=\"dataframe\">\n",
       "<caption>A matrix: 6 × 3 of type dbl</caption>\n",
       "<thead>\n",
       "\t<tr><th></th><th scope=col>TV</th><th scope=col>Radio</th><th scope=col>Newspaper</th></tr>\n",
       "</thead>\n",
       "<tbody>\n",
       "\t<tr><th scope=row>1</th><td>230.1</td><td>37.8</td><td>69.2</td></tr>\n",
       "\t<tr><th scope=row>2</th><td> 44.5</td><td>39.3</td><td>45.1</td></tr>\n",
       "\t<tr><th scope=row>3</th><td> 17.2</td><td>45.9</td><td>69.3</td></tr>\n",
       "\t<tr><th scope=row>4</th><td>151.5</td><td>41.3</td><td>58.5</td></tr>\n",
       "\t<tr><th scope=row>5</th><td>180.8</td><td>10.8</td><td>58.4</td></tr>\n",
       "\t<tr><th scope=row>6</th><td>  8.7</td><td>48.9</td><td>75.0</td></tr>\n",
       "</tbody>\n",
       "</table>\n"
      ],
      "text/latex": [
       "A matrix: 6 × 3 of type dbl\n",
       "\\begin{tabular}{r|lll}\n",
       "  & TV & Radio & Newspaper\\\\\n",
       "\\hline\n",
       "\t1 & 230.1 & 37.8 & 69.2\\\\\n",
       "\t2 &  44.5 & 39.3 & 45.1\\\\\n",
       "\t3 &  17.2 & 45.9 & 69.3\\\\\n",
       "\t4 & 151.5 & 41.3 & 58.5\\\\\n",
       "\t5 & 180.8 & 10.8 & 58.4\\\\\n",
       "\t6 &   8.7 & 48.9 & 75.0\\\\\n",
       "\\end{tabular}\n"
      ],
      "text/markdown": [
       "\n",
       "A matrix: 6 × 3 of type dbl\n",
       "\n",
       "| <!--/--> | TV | Radio | Newspaper |\n",
       "|---|---|---|---|\n",
       "| 1 | 230.1 | 37.8 | 69.2 |\n",
       "| 2 |  44.5 | 39.3 | 45.1 |\n",
       "| 3 |  17.2 | 45.9 | 69.3 |\n",
       "| 4 | 151.5 | 41.3 | 58.5 |\n",
       "| 5 | 180.8 | 10.8 | 58.4 |\n",
       "| 6 |   8.7 | 48.9 | 75.0 |\n",
       "\n"
      ],
      "text/plain": [
       "  TV    Radio Newspaper\n",
       "1 230.1 37.8  69.2     \n",
       "2  44.5 39.3  45.1     \n",
       "3  17.2 45.9  69.3     \n",
       "4 151.5 41.3  58.5     \n",
       "5 180.8 10.8  58.4     \n",
       "6   8.7 48.9  75.0     "
      ]
     },
     "metadata": {},
     "output_type": "display_data"
    }
   ],
   "source": [
    "X<-model.matrix(lm.1)\n",
    "attr(X,\"assign\")<-NULL\n",
    "X<-X[, -1]\n",
    "#str(X)\n",
    "head(X)"
   ]
  },
  {
   "cell_type": "markdown",
   "metadata": {},
   "source": [
    "## 04. Bayesian linear regression"
   ]
  },
  {
   "cell_type": "markdown",
   "metadata": {},
   "source": [
    "## Model"
   ]
  },
  {
   "cell_type": "markdown",
   "metadata": {},
   "source": [
    "### Likelihood\n",
    "\n",
    "Each of the $ n$ observed responses $y_{i}$ ($1\\leq i\\leq n$) is assumed to be drawn from a normal distribution with mean $\\mu_{i}$ and standard deviation $\\sigma$ (or precision $\\tau=1/\\sigma^{2}$).\n",
    "\n",
    "The expected values $\\mu_{i}$ are themselves determined by the linear predictor, $\\mu_{i}=\\beta_{0}+x_{i}\\cdot\\beta$, $x_{i}\\in\\mathbb{R}^p$. \n",
    "\n",
    "$\\beta_{0}$ is the $y$-intercept and each $\\beta_{j}\\in\\R$, $j\\geq 1$ represents the rate of change in $y$ for every unit change in the $j$-th effect $x_{j}$ ($1\\leq j\\leq p$).\n",
    "\n",
    "$$\n",
    "\\begin{array}{lcl}\n",
    "        y_{i}         &\\sim &\\normaldist(\\mu_{i},\\tau),\\\\[0.2cm]\n",
    "        y             &\\sim &\\normaldist(\\mu,\\tau), \\mskip40mu\\text{(in vector notation)}\n",
    "\\end{array}\n",
    "$$"
   ]
  },
  {
   "cell_type": "markdown",
   "metadata": {},
   "source": [
    "### Priors\n",
    "\n",
    "Gaussian (normal) priors centered on zero with relatively large standard deviations for the regression coefficients and a uniform for the standard deviation. \n",
    "\n",
    "In JAGS the normal distribution is parameterized with mean and precision $\\tau=1/\\sigma^{2}$, hence a noninformative normal prior will have a _small_ precision.\n",
    "\n",
    "$$\n",
    "\\begin{array}{lcl}\n",
    "        \\mu_{i}       &=    &\\beta_{0}+x_{i}\\cdot\\beta,\\mskip20mu 1\\leq i\\leq n.\\\\[0.2cm]\n",
    "        \\mu           &=    &\\beta_{0}+X\\cdot\\beta, \\mskip20mu\\text{(matrix notation)}\\\\[0.2cm]\n",
    "        \\beta_{0}     &\\sim &\\normaldist(0,1.0E-6),\\\\[0.2cm]\n",
    "        \\beta_{j}     &\\sim &\\normaldist(0,1.0E-6),\\mskip20mu 1\\leq j\\leq p.\\\\[0.2cm]\n",
    "        \\tau          &=    &1/\\sigma^{2},\\\\[0.2cm]\n",
    "        \\sigma^{2}&\\sim &\\unifdist(0,100).\n",
    "\\end{array}\n",
    "$$\n",
    "  \n"
   ]
  },
  {
   "cell_type": "markdown",
   "metadata": {},
   "source": [
    "<h3 style=\"color:red\"> Posterior prediction </h3>"
   ]
  },
  {
   "cell_type": "markdown",
   "metadata": {},
   "source": [
    "<div style=\"color:red\">\n",
    "    \n",
    "We will generate (a sample of) the posterior predictive pdf for just a new $\\widetilde{x}$. \n",
    "\n",
    "We do not compute the posterior prediction for the whole set of values in the observed sample, we just choose an example point.\n",
    "    \n",
    "For instance, let's take $\\widetilde{x}=$ the average row vector of $X$. \n",
    "    \n",
    "$$\n",
    "\\begin{array}{lcl}\n",
    "    \\widetilde{\\mu}{\\,}^{\\text{POST}}   &=    &\\beta_{0}{\\,}^{\\text{POST}}+\\tilde{x}_{i}\\cdot \\beta{\\,}^{\\text{POST}},\\\\[0.2cm]\n",
    "    \\widetilde{y}{\\,}^{\\text{POST}}     &\\sim &\\normaldist(\\widetilde{\\mu}{\\,}^{\\text{POST}},{\\sigma^{2}}{\\,}^{\\text{POST}}).\n",
    "\\end{array}\n",
    "$$\n",
    "    \n",
    "</div>"
   ]
  },
  {
   "cell_type": "code",
   "execution_count": 37,
   "metadata": {},
   "outputs": [
    {
     "data": {
      "text/html": [
       "<style>\n",
       ".dl-inline {width: auto; margin:0; padding: 0}\n",
       ".dl-inline>dt, .dl-inline>dd {float: none; width: auto; display: inline-block}\n",
       ".dl-inline>dt::after {content: \":\\0020\"; padding-right: .5ex}\n",
       ".dl-inline>dt:not(:first-of-type) {padding-left: .5ex}\n",
       "</style><dl class=dl-inline><dt>TV</dt><dd>147.04</dd><dt>Radio</dt><dd>23.26</dd><dt>Newspaper</dt><dd>30.55</dd></dl>\n"
      ],
      "text/latex": [
       "\\begin{description*}\n",
       "\\item[TV] 147.04\n",
       "\\item[Radio] 23.26\n",
       "\\item[Newspaper] 30.55\n",
       "\\end{description*}\n"
      ],
      "text/markdown": [
       "TV\n",
       ":   147.04Radio\n",
       ":   23.26Newspaper\n",
       ":   30.55\n",
       "\n"
      ],
      "text/plain": [
       "       TV     Radio Newspaper \n",
       "   147.04     23.26     30.55 "
      ]
     },
     "metadata": {},
     "output_type": "display_data"
    }
   ],
   "source": [
    "x.tilde<-colMeans(X)\n",
    "round(x.tilde,2)"
   ]
  },
  {
   "cell_type": "markdown",
   "metadata": {},
   "source": [
    "## JAGS code "
   ]
  },
  {
   "cell_type": "code",
   "execution_count": 38,
   "metadata": {},
   "outputs": [],
   "source": [
    "Advertising.Pred.JAGS.01.modelString = \"\n",
    "    model {\n",
    "    #Likelihood\n",
    "    for (i in 1:n) {\n",
    "        y[i]~dnorm(mu[i],tau)\n",
    "        mu[i] <- beta0 + inprod(beta[],X[i,])\n",
    "        }\n",
    "  \n",
    "    #Priors\n",
    "    beta0 ~ dnorm(0.0,1.0E-6)\n",
    "    for (j in 1:p) {\n",
    "        beta[j] ~ dnorm(0.0,1.0E-6)\n",
    "        }\n",
    "    tau<-pow(sigma,-2)\n",
    "    sigma~dunif(0,100)\n",
    "\n",
    "    #Posterior prediction\n",
    "    mu.tilde<-beta0+inprod(beta[],x.tilde[])\n",
    "    y.tilde~dnorm(mu.tilde,tau)\n",
    "    }\n",
    "    \"\n",
    "\n",
    "## write the model to text file \n",
    "writeLines(Advertising.Pred.JAGS.01.modelString, con = \"./Advertising.Pred.JAGS.01.jag\")"
   ]
  },
  {
   "cell_type": "code",
   "execution_count": 39,
   "metadata": {},
   "outputs": [],
   "source": [
    "Advertising.Pred.JAGS.01.data.list <- list(y = y, X = X, p = p, n = n, x.tilde = x.tilde)"
   ]
  },
  {
   "cell_type": "code",
   "execution_count": 40,
   "metadata": {},
   "outputs": [
    {
     "data": {
      "text/html": [
       "28000"
      ],
      "text/latex": [
       "28000"
      ],
      "text/markdown": [
       "28000"
      ],
      "text/plain": [
       "[1] 28000"
      ]
     },
     "metadata": {},
     "output_type": "display_data"
    }
   ],
   "source": [
    "Advertising.Pred.JAGS.01.params <- c(\"beta0\", \"beta\", \"sigma\",\"mu.tilde\",\"y.tilde\")\n",
    "nChains = 3\n",
    "burnInSteps = 3000\n",
    "thinSteps = 5\n",
    "numSavedSteps = 15000  #across all chains\n",
    "nIter = ceiling(burnInSteps + (numSavedSteps * thinSteps)/nChains)\n",
    "nIter"
   ]
  },
  {
   "cell_type": "code",
   "execution_count": 41,
   "metadata": {},
   "outputs": [
    {
     "name": "stdout",
     "output_type": "stream",
     "text": [
      "Compiling model graph\n",
      "   Resolving undeclared variables\n",
      "   Allocating nodes\n",
      "Graph information:\n",
      "   Observed stochastic nodes: 200\n",
      "   Unobserved stochastic nodes: 6\n",
      "   Total graph size: 1421\n",
      "\n",
      "Initializing model\n",
      "\n"
     ]
    }
   ],
   "source": [
    "Advertising.Pred.JAGS.01.m <- jags(data = Advertising.Pred.JAGS.01.data.list, inits = NULL, \n",
    "                                   parameters.to.save = Advertising.Pred.JAGS.01.params,\n",
    "    model.file = \"./Advertising.Pred.JAGS.01.jag\", n.chains = nChains, n.iter = nIter,\n",
    "    n.burnin = burnInSteps, n.thin = thinSteps)"
   ]
  },
  {
   "cell_type": "markdown",
   "metadata": {},
   "source": [
    "## Summary of JAGS output"
   ]
  },
  {
   "cell_type": "code",
   "execution_count": 42,
   "metadata": {},
   "outputs": [
    {
     "name": "stdout",
     "output_type": "stream",
     "text": [
      "Inference for Bugs model at \"./Advertising.Pred.JAGS.01.jag\", fit using jags,\n",
      " 3 chains, each with 28000 iterations (first 3000 discarded), n.thin = 5\n",
      " n.sims = 15000 iterations saved\n",
      "         mu.vect sd.vect    2.5%     25%     50%     75%   97.5%  Rhat n.eff\n",
      "beta[1]    0.046   0.001   0.043   0.045   0.046   0.047   0.049 1.001 15000\n",
      "beta[2]    0.189   0.009   0.172   0.183   0.188   0.194   0.206 1.001 15000\n",
      "beta[3]   -0.001   0.006  -0.013  -0.005  -0.001   0.003   0.011 1.001 14000\n",
      "beta0      2.937   0.313   2.325   2.728   2.940   3.152   3.539 1.001 15000\n",
      "mu.tilde  14.023   0.120  13.789  13.941  14.022  14.104  14.260 1.001 15000\n",
      "sigma      1.695   0.087   1.535   1.635   1.693   1.752   1.876 1.001 15000\n",
      "y.tilde   14.030   1.690  10.668  12.916  14.039  15.154  17.353 1.001 15000\n",
      "deviance 777.486   3.216 773.211 775.103 776.867 779.131 785.446 1.001  5500\n",
      "\n",
      "For each parameter, n.eff is a crude measure of effective sample size,\n",
      "and Rhat is the potential scale reduction factor (at convergence, Rhat=1).\n",
      "\n",
      "DIC info (using the rule, pD = var(deviance)/2)\n",
      "pD = 5.2 and DIC = 782.7\n",
      "DIC is an estimate of expected predictive error (lower deviance is better).\n"
     ]
    }
   ],
   "source": [
    "print(Advertising.Pred.JAGS.01.m)"
   ]
  },
  {
   "cell_type": "markdown",
   "metadata": {},
   "source": [
    "#### Compare with classical solution coefficients"
   ]
  },
  {
   "cell_type": "code",
   "execution_count": 43,
   "metadata": {},
   "outputs": [
    {
     "data": {
      "text/html": [
       "<table class=\"dataframe\">\n",
       "<caption>A matrix: 4 × 4 of type dbl</caption>\n",
       "<thead>\n",
       "\t<tr><th></th><th scope=col>Estimate</th><th scope=col>Std. Error</th><th scope=col>t value</th><th scope=col>Pr(&gt;|t|)</th></tr>\n",
       "</thead>\n",
       "<tbody>\n",
       "\t<tr><th scope=row>TV</th><td> 0.04576</td><td>0.00139</td><td>32.80862</td><td>0.00000</td></tr>\n",
       "\t<tr><th scope=row>Radio</th><td> 0.18853</td><td>0.00861</td><td>21.89350</td><td>0.00000</td></tr>\n",
       "\t<tr><th scope=row>Newspaper</th><td>-0.00104</td><td>0.00587</td><td>-0.17671</td><td>0.85992</td></tr>\n",
       "\t<tr><th scope=row>(Intercept)</th><td> 2.93889</td><td>0.31191</td><td> 9.42229</td><td>0.00000</td></tr>\n",
       "</tbody>\n",
       "</table>\n"
      ],
      "text/latex": [
       "A matrix: 4 × 4 of type dbl\n",
       "\\begin{tabular}{r|llll}\n",
       "  & Estimate & Std. Error & t value & Pr(>\\textbar{}t\\textbar{})\\\\\n",
       "\\hline\n",
       "\tTV &  0.04576 & 0.00139 & 32.80862 & 0.00000\\\\\n",
       "\tRadio &  0.18853 & 0.00861 & 21.89350 & 0.00000\\\\\n",
       "\tNewspaper & -0.00104 & 0.00587 & -0.17671 & 0.85992\\\\\n",
       "\t(Intercept) &  2.93889 & 0.31191 &  9.42229 & 0.00000\\\\\n",
       "\\end{tabular}\n"
      ],
      "text/markdown": [
       "\n",
       "A matrix: 4 × 4 of type dbl\n",
       "\n",
       "| <!--/--> | Estimate | Std. Error | t value | Pr(&gt;|t|) |\n",
       "|---|---|---|---|---|\n",
       "| TV |  0.04576 | 0.00139 | 32.80862 | 0.00000 |\n",
       "| Radio |  0.18853 | 0.00861 | 21.89350 | 0.00000 |\n",
       "| Newspaper | -0.00104 | 0.00587 | -0.17671 | 0.85992 |\n",
       "| (Intercept) |  2.93889 | 0.31191 |  9.42229 | 0.00000 |\n",
       "\n"
      ],
      "text/plain": [
       "            Estimate Std. Error t value  Pr(>|t|)\n",
       "TV           0.04576 0.00139    32.80862 0.00000 \n",
       "Radio        0.18853 0.00861    21.89350 0.00000 \n",
       "Newspaper   -0.00104 0.00587    -0.17671 0.85992 \n",
       "(Intercept)  2.93889 0.31191     9.42229 0.00000 "
      ]
     },
     "metadata": {},
     "output_type": "display_data"
    }
   ],
   "source": [
    "round(S$coefficients[c(2,3,4,1),],5)"
   ]
  },
  {
   "cell_type": "code",
   "execution_count": 44,
   "metadata": {},
   "outputs": [
    {
     "data": {
      "text/html": [
       "1.68551"
      ],
      "text/latex": [
       "1.68551"
      ],
      "text/markdown": [
       "1.68551"
      ],
      "text/plain": [
       "[1] 1.68551"
      ]
     },
     "metadata": {},
     "output_type": "display_data"
    }
   ],
   "source": [
    "round(sigma(lm.1),5)"
   ]
  },
  {
   "cell_type": "code",
   "execution_count": 45,
   "metadata": {},
   "outputs": [
    {
     "data": {
      "text/html": [
       "0.89721"
      ],
      "text/latex": [
       "0.89721"
      ],
      "text/markdown": [
       "0.89721"
      ],
      "text/plain": [
       "[1] 0.89721"
      ]
     },
     "metadata": {},
     "output_type": "display_data"
    }
   ],
   "source": [
    "round(S$r.squared,5)"
   ]
  },
  {
   "cell_type": "code",
   "execution_count": 46,
   "metadata": {},
   "outputs": [
    {
     "data": {
      "text/html": [
       "<table class=\"dataframe\">\n",
       "<caption>A anova: 4 × 5</caption>\n",
       "<thead>\n",
       "\t<tr><th></th><th scope=col>Df</th><th scope=col>Sum Sq</th><th scope=col>Mean Sq</th><th scope=col>F value</th><th scope=col>Pr(&gt;F)</th></tr>\n",
       "\t<tr><th></th><th scope=col>&lt;int&gt;</th><th scope=col>&lt;dbl&gt;</th><th scope=col>&lt;dbl&gt;</th><th scope=col>&lt;dbl&gt;</th><th scope=col>&lt;dbl&gt;</th></tr>\n",
       "</thead>\n",
       "<tbody>\n",
       "\t<tr><th scope=row>TV</th><td>  1</td><td>3.314618e+03</td><td>3.314618e+03</td><td>1.166731e+03</td><td>1.809337e-84</td></tr>\n",
       "\t<tr><th scope=row>Radio</th><td>  1</td><td>1.545617e+03</td><td>1.545617e+03</td><td>5.440501e+02</td><td>1.882722e-58</td></tr>\n",
       "\t<tr><th scope=row>Newspaper</th><td>  1</td><td>8.871717e-02</td><td>8.871717e-02</td><td>3.122805e-02</td><td>8.599151e-01</td></tr>\n",
       "\t<tr><th scope=row>Residuals</th><td>196</td><td>5.568253e+02</td><td>2.840945e+00</td><td>          NA</td><td>          NA</td></tr>\n",
       "</tbody>\n",
       "</table>\n"
      ],
      "text/latex": [
       "A anova: 4 × 5\n",
       "\\begin{tabular}{r|lllll}\n",
       "  & Df & Sum Sq & Mean Sq & F value & Pr(>F)\\\\\n",
       "  & <int> & <dbl> & <dbl> & <dbl> & <dbl>\\\\\n",
       "\\hline\n",
       "\tTV &   1 & 3.314618e+03 & 3.314618e+03 & 1.166731e+03 & 1.809337e-84\\\\\n",
       "\tRadio &   1 & 1.545617e+03 & 1.545617e+03 & 5.440501e+02 & 1.882722e-58\\\\\n",
       "\tNewspaper &   1 & 8.871717e-02 & 8.871717e-02 & 3.122805e-02 & 8.599151e-01\\\\\n",
       "\tResiduals & 196 & 5.568253e+02 & 2.840945e+00 &           NA &           NA\\\\\n",
       "\\end{tabular}\n"
      ],
      "text/markdown": [
       "\n",
       "A anova: 4 × 5\n",
       "\n",
       "| <!--/--> | Df &lt;int&gt; | Sum Sq &lt;dbl&gt; | Mean Sq &lt;dbl&gt; | F value &lt;dbl&gt; | Pr(&gt;F) &lt;dbl&gt; |\n",
       "|---|---|---|---|---|---|\n",
       "| TV |   1 | 3.314618e+03 | 3.314618e+03 | 1.166731e+03 | 1.809337e-84 |\n",
       "| Radio |   1 | 1.545617e+03 | 1.545617e+03 | 5.440501e+02 | 1.882722e-58 |\n",
       "| Newspaper |   1 | 8.871717e-02 | 8.871717e-02 | 3.122805e-02 | 8.599151e-01 |\n",
       "| Residuals | 196 | 5.568253e+02 | 2.840945e+00 |           NA |           NA |\n",
       "\n"
      ],
      "text/plain": [
       "          Df  Sum Sq       Mean Sq      F value      Pr(>F)      \n",
       "TV          1 3.314618e+03 3.314618e+03 1.166731e+03 1.809337e-84\n",
       "Radio       1 1.545617e+03 1.545617e+03 5.440501e+02 1.882722e-58\n",
       "Newspaper   1 8.871717e-02 8.871717e-02 3.122805e-02 8.599151e-01\n",
       "Residuals 196 5.568253e+02 2.840945e+00           NA           NA"
      ]
     },
     "metadata": {},
     "output_type": "display_data"
    }
   ],
   "source": [
    "A<-anova(lm.1)\n",
    "A"
   ]
  },
  {
   "cell_type": "code",
   "execution_count": 47,
   "metadata": {},
   "outputs": [],
   "source": [
    "#str(A)"
   ]
  },
  {
   "cell_type": "code",
   "execution_count": 48,
   "metadata": {},
   "outputs": [
    {
     "data": {
      "text/html": [
       "<style>\n",
       ".list-inline {list-style: none; margin:0; padding: 0}\n",
       ".list-inline>li {display: inline-block}\n",
       ".list-inline>li:not(:last-child)::after {content: \"\\00b7\"; padding: 0 .5ex}\n",
       "</style>\n",
       "<ol class=list-inline><li>3314.61817</li><li>1545.6166</li><li>0.08872</li><li>556.82526</li></ol>\n"
      ],
      "text/latex": [
       "\\begin{enumerate*}\n",
       "\\item 3314.61817\n",
       "\\item 1545.6166\n",
       "\\item 0.08872\n",
       "\\item 556.82526\n",
       "\\end{enumerate*}\n"
      ],
      "text/markdown": [
       "1. 3314.61817\n",
       "2. 1545.6166\n",
       "3. 0.08872\n",
       "4. 556.82526\n",
       "\n",
       "\n"
      ],
      "text/plain": [
       "[1] 3314.61817 1545.61660    0.08872  556.82526"
      ]
     },
     "metadata": {},
     "output_type": "display_data"
    }
   ],
   "source": [
    "SS<-A$Sum\n",
    "round(SS,5)"
   ]
  },
  {
   "cell_type": "markdown",
   "metadata": {},
   "source": [
    "#### Compare the average of the posterior predictive pdf to the classical estimate\n",
    "\n",
    "We could also compare the clasical confidence interval for the predicted value to a credible interval for the posterior predicted"
   ]
  },
  {
   "cell_type": "code",
   "execution_count": 49,
   "metadata": {},
   "outputs": [
    {
     "data": {
      "text/html": [
       "14.023"
      ],
      "text/latex": [
       "14.023"
      ],
      "text/markdown": [
       "14.023"
      ],
      "text/plain": [
       "[1] 14.023"
      ]
     },
     "metadata": {},
     "output_type": "display_data"
    }
   ],
   "source": [
    "beta0.clas<-S$coefficients[1]\n",
    "beta.clas<-S$coefficients[2:4]\n",
    "y.tilde.clas.pred<-beta0.clas+sum(beta.clas*x.tilde)\n",
    "round(y.tilde.clas.pred,3)"
   ]
  },
  {
   "cell_type": "markdown",
   "metadata": {},
   "source": [
    "#### Convert to a coda `mcmc` object"
   ]
  },
  {
   "cell_type": "code",
   "execution_count": 50,
   "metadata": {},
   "outputs": [
    {
     "data": {
      "text/plain": [
       "\n",
       "Iterations = 3001:27996\n",
       "Thinning interval = 5 \n",
       "Number of chains = 3 \n",
       "Sample size per chain = 5000 \n",
       "\n",
       "1. Empirical mean and standard deviation for each variable,\n",
       "   plus standard error of the mean:\n",
       "\n",
       "               Mean       SD  Naive SE Time-series SE\n",
       "beta[1]    0.045771 0.001415 1.155e-05      1.154e-05\n",
       "beta[2]    0.188548 0.008689 7.095e-05      7.095e-05\n",
       "beta[3]   -0.001006 0.005943 4.852e-05      4.913e-05\n",
       "beta0      2.937487 0.312655 2.553e-03      2.525e-03\n",
       "deviance 777.486245 3.215688 2.626e-02      2.606e-02\n",
       "mu.tilde  14.023467 0.120110 9.807e-04      9.821e-04\n",
       "sigma      1.695491 0.086885 7.094e-04      7.149e-04\n",
       "y.tilde   14.030312 1.690199 1.380e-02      1.398e-02\n",
       "\n",
       "2. Quantiles for each variable:\n",
       "\n",
       "              2.5%        25%        50%       75%     97.5%\n",
       "beta[1]    0.04297   0.044818   0.045763 4.672e-02   0.04856\n",
       "beta[2]    0.17166   0.182718   0.188496 1.945e-01   0.20564\n",
       "beta[3]   -0.01261  -0.004996  -0.001005 2.989e-03   0.01067\n",
       "beta0      2.32480   2.728210   2.939946 3.152e+00   3.53858\n",
       "deviance 773.21107 775.103269 776.866772 7.791e+02 785.44620\n",
       "mu.tilde  13.78895  13.940939  14.022442 1.410e+01  14.25981\n",
       "sigma      1.53472   1.634736   1.692729 1.752e+00   1.87573\n",
       "y.tilde   10.66831  12.916129  14.039373 1.515e+01  17.35262\n"
      ]
     },
     "metadata": {},
     "output_type": "display_data"
    }
   ],
   "source": [
    "Advertising.Pred.JAGS.01.mcmc<-as.mcmc(Advertising.Pred.JAGS.01.m)\n",
    "summary(Advertising.Pred.JAGS.01.mcmc)"
   ]
  },
  {
   "cell_type": "code",
   "execution_count": 51,
   "metadata": {},
   "outputs": [],
   "source": [
    "#install.packages(\"bayesplot\",dependencies=TRUE,repos= \"https://cloud.r-project.org\")\n",
    "require(bayesplot,quietly=TRUE)"
   ]
  },
  {
   "cell_type": "markdown",
   "metadata": {},
   "source": [
    "### Traceplot"
   ]
  },
  {
   "cell_type": "code",
   "execution_count": 52,
   "metadata": {},
   "outputs": [
    {
     "data": {
      "image/png": "[encoded data removed]",
      "text/plain": [
       "plot without title"
      ]
     },
     "metadata": {
      "image/png": {
       "height": 360,
       "width": 960
      }
     },
     "output_type": "display_data"
    }
   ],
   "source": [
    "options(repr.plot.width=16, repr.plot.height=6)\n",
    "color_scheme_set(\"mix-blue-red\")\n",
    "mcmc_trace(Advertising.Pred.JAGS.01.mcmc, pars = c(\"beta0\",\"beta[1]\",\"beta[2]\",\"beta[3]\",\"sigma\"))"
   ]
  },
  {
   "cell_type": "markdown",
   "metadata": {},
   "source": [
    "A syntax to list all `beta` parameters"
   ]
  },
  {
   "cell_type": "code",
   "execution_count": 53,
   "metadata": {},
   "outputs": [
    {
     "data": {
      "image/png": "[encoded data removed]",
      "text/plain": [
       "plot without title"
      ]
     },
     "metadata": {
      "image/png": {
       "height": 360,
       "width": 960
      }
     },
     "output_type": "display_data"
    }
   ],
   "source": [
    "options(repr.plot.width=16, repr.plot.height=6)\n",
    "color_scheme_set(\"mix-blue-red\")\n",
    "mcmc_trace(Advertising.Pred.JAGS.01.mcmc, pars = c(vars(starts_with(\"beta\"),\"sigma\")))"
   ]
  },
  {
   "cell_type": "markdown",
   "metadata": {},
   "source": [
    "### Autocorrelation plot"
   ]
  },
  {
   "cell_type": "code",
   "execution_count": 54,
   "metadata": {},
   "outputs": [
    {
     "data": {
      "image/png": "[encoded data removed]",
      "text/plain": [
       "plot without title"
      ]
     },
     "metadata": {
      "image/png": {
       "height": 360,
       "width": 960
      }
     },
     "output_type": "display_data"
    }
   ],
   "source": [
    "options(repr.plot.width=16, repr.plot.height=6)\n",
    "color_scheme_set(\"blue\")\n",
    "mcmc_acf(Advertising.Pred.JAGS.01.mcmc, pars = c(vars(starts_with(\"beta\"),\"sigma\")))"
   ]
  },
  {
   "cell_type": "markdown",
   "metadata": {},
   "source": [
    "###  Posterior area plots (posterior density + posterior credible intervals)"
   ]
  },
  {
   "cell_type": "code",
   "execution_count": 55,
   "metadata": {},
   "outputs": [
    {
     "data": {
      "image/png": "[encoded data removed]",
      "text/plain": [
       "plot without title"
      ]
     },
     "metadata": {
      "image/png": {
       "height": 360,
       "width": 960
      }
     },
     "output_type": "display_data"
    }
   ],
   "source": [
    "options(repr.plot.width=16, repr.plot.height=6)\n",
    "color_scheme_set(\"mix-blue-red\")\n",
    "mcmc_areas(Advertising.Pred.JAGS.01.mcmc, pars = c(vars(starts_with(\"beta\"),\"sigma\")))"
   ]
  },
  {
   "cell_type": "markdown",
   "metadata": {},
   "source": [
    "Problem with plotting parameters together is, either range or dispersion can be quite different.\n",
    "\n",
    "Then one can plot them separately to better visualize."
   ]
  },
  {
   "cell_type": "code",
   "execution_count": 56,
   "metadata": {},
   "outputs": [
    {
     "data": {
      "image/png": "[encoded data removed]",
      "text/plain": [
       "plot without title"
      ]
     },
     "metadata": {
      "image/png": {
       "height": 360,
       "width": 600
      }
     },
     "output_type": "display_data"
    }
   ],
   "source": [
    "options(repr.plot.width=10, repr.plot.height=6)\n",
    "color_scheme_set(\"mix-blue-red\")\n",
    "mcmc_areas(Advertising.Pred.JAGS.01.mcmc, pars = vars(starts_with(\"beta[\")))"
   ]
  },
  {
   "cell_type": "code",
   "execution_count": 57,
   "metadata": {},
   "outputs": [
    {
     "data": {
      "image/png": "[encoded data removed]",
      "text/plain": [
       "plot without title"
      ]
     },
     "metadata": {
      "image/png": {
       "height": 420,
       "width": 1080
      }
     },
     "output_type": "display_data"
    }
   ],
   "source": [
    "options(repr.plot.width=18, repr.plot.height=7)\n",
    "color_scheme_set(\"blue\")\n",
    "mcmc_areas(Advertising.Pred.JAGS.01.mcmc, pars = c(\"mu.tilde\",\"y.tilde\"))"
   ]
  },
  {
   "cell_type": "markdown",
   "metadata": {},
   "source": [
    "Predicted `y.tilde` has two sources of uncertainty: that of the regression coefficients `beta` plus that of the generated `y`.\n",
    "\n",
    "When both quantities are represented separately, this information is lost."
   ]
  },
  {
   "cell_type": "markdown",
   "metadata": {},
   "source": [
    "###  Posterior density plots"
   ]
  },
  {
   "cell_type": "code",
   "execution_count": 58,
   "metadata": {},
   "outputs": [
    {
     "data": {
      "image/png": "[encoded data removed]",
      "text/plain": [
       "plot without title"
      ]
     },
     "metadata": {
      "image/png": {
       "height": 360,
       "width": 960
      }
     },
     "output_type": "display_data"
    }
   ],
   "source": [
    "options(repr.plot.width=16, repr.plot.height=6)\n",
    "color_scheme_set(\"brightblue\")\n",
    "mcmc_dens(Advertising.Pred.JAGS.01.mcmc, pars = c(\"mu.tilde\",\"y.tilde\"))"
   ]
  }
 ],
 "metadata": {
  "kernelspec": {
   "display_name": "R",
   "language": "R",
   "name": "ir"
  },
  "language_info": {
   "codemirror_mode": "r",
   "file_extension": ".r",
   "mimetype": "text/x-r-source",
   "name": "R",
   "pygments_lexer": "r",
   "version": "4.2.2"
  }
 },
 "nbformat": 4,
 "nbformat_minor": 4
}
