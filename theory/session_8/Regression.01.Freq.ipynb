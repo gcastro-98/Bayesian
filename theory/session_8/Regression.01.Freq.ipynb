{
 "cells": [
  {
   "cell_type": "markdown",
   "metadata": {
    "tags": []
   },
   "source": [
    "# Linear Regression\n",
    "\n",
    "## Classical (frequentist) description"
   ]
  },
  {
   "cell_type": "markdown",
   "metadata": {
    "tags": []
   },
   "source": [
    "# _Josep Fortiana_ &emsp;&emsp;&emsp;&emsp;&emsp; 2023-04-17"
   ]
  },
  {
   "cell_type": "markdown",
   "metadata": {},
   "source": [
    "***\n",
    "###### LaTeX macros\n",
    "$\\def\\prob{P}$\n",
    "$\\def\\argmax{\\operatorname{arg\\,max}}$\n",
    "$\\def\\argmin{\\operatorname{arg\\,min}}$\n",
    "$\\def\\borel{\\operatorname{Borel}}$\n",
    "$\\def\\cE{\\cal E}$\n",
    "$\\def\\cP{\\cal P}$\n",
    "$\\def\\R{\\mathbb{R}}$ \n",
    "$\\def\\N{\\mathbb{N}}$\n",
    "$\\def\\Z{\\mathbb{Z}}$\n",
    "$\\def\\Ee{\\operatorname{E}}$\n",
    "$\\def\\va{\\text{v.a.}}$\n",
    "$\\def\\var{\\operatorname{var}}$\n",
    "$\\def\\cov{\\operatorname{cov}}$\n",
    "$\\def\\cor{\\operatorname{cor}}$\n",
    "$\\def\\binomdist{\\operatorname{Binom}}$\n",
    "$\\def\\berndist{\\operatorname{Ber}}$\n",
    "$\\def\\betabinomdist{\\operatorname{Beta-Binom}}$\n",
    "$\\def\\betadist{\\operatorname{Beta}}$\n",
    "$\\def\\expdist{\\operatorname{Exp}}$\n",
    "$\\def\\fdist{\\operatorname{F}}$\n",
    "$\\def\\gammadist{\\operatorname{Gamma}}$\n",
    "$\\def\\hyperdist{\\operatorname{Hypergeom}}$\n",
    "$\\def\\hypergeomdist{\\operatorname{Hypergeom}}$\n",
    "$\\DeclareMathOperator{\\invgammadist}{IG}$\n",
    "$\\DeclareMathOperator{\\multinomialdist}{Multinomial}$\n",
    "$\\DeclareMathOperator{\\multinomdist}{Multinom}$\n",
    "$\\def\\poissondist{\\operatorname{Poisson}}$\n",
    "$\\def\\geomdist{\\operatorname{Geom}}$\n",
    "$\\def\\normaldist{\\operatorname{N}}$\n",
    "$\\def\\unifdist{\\operatorname{Unif}}$\n",
    "$\\def\\xbar{\\kern1.3pt\\overline{\\kern-1.3pt x}}$\n",
    "$\\DeclareMathOperator{\\indica}{\\mathbb{1}}$\n",
    "$\\def\\CondTo{\\mathbin{|\\mskip0.5mu}}$\n",
    "$\\def\\eqdef{\\stackrel{\\text{def}}{\\mskip3mu=\\mskip3mu}}$\n",
    "***"
   ]
  },
  {
   "cell_type": "markdown",
   "metadata": {},
   "source": [
    "# 01. Simple linear regression: A simulated example"
   ]
  },
  {
   "cell_type": "markdown",
   "metadata": {},
   "source": [
    "### Generate a simulated dataset for simple linear regression"
   ]
  },
  {
   "cell_type": "code",
   "execution_count": 1,
   "metadata": {},
   "outputs": [],
   "source": [
    "# More or less arbitrary parameters for the data generation\n",
    "trueA<-1   \n",
    "trueB<-5\n",
    "trueSd<-15\n",
    "sampleSize<-20 # n = sampleSize "
   ]
  },
  {
   "cell_type": "code",
   "execution_count": 2,
   "metadata": {},
   "outputs": [],
   "source": [
    "# Uniformly spread x values in the interval [-n/2,n/2]\n",
    "x<-(-(sampleSize-1)/2):((sampleSize-1)/2)\n",
    "# y values of the form a + b*x + N(0,trueSd)\n",
    "set.seed(123123)\n",
    "y<-trueA+trueB*x+rnorm(n=sampleSize,mean=0,sd=trueSd)"
   ]
  },
  {
   "cell_type": "code",
   "execution_count": 3,
   "metadata": {},
   "outputs": [
    {
     "data": {
      "image/png": "[encoded data removed]",
      "text/plain": [
       "Plot with title \"Test data for simple linear regression \""
      ]
     },
     "metadata": {
      "image/png": {
       "height": 420,
       "width": 420
      }
     },
     "output_type": "display_data"
    }
   ],
   "source": [
    "# Plot data points plus the line used in the generation\n",
    "# Note this line is NOT a regression line, which will be computed below\n",
    "options(repr.plot.width=7, repr.plot.height=7)\n",
    "plot(x,y,pch='+',cex=0.8,col=\"blue\",main=\"Test data for simple linear regression \",cex.lab=1.3,cex.main=1.5)\n",
    "abline(trueA,trueB,lwd=3.5,col=\"cyan\")"
   ]
  },
  {
   "cell_type": "markdown",
   "metadata": {},
   "source": [
    "### Adjust a least squares linear regression model"
   ]
  },
  {
   "cell_type": "code",
   "execution_count": 4,
   "metadata": {},
   "outputs": [
    {
     "data": {
      "image/png": "[encoded data removed]",
      "text/plain": [
       "Plot with title \"Linear regression with test data\""
      ]
     },
     "metadata": {
      "image/png": {
       "height": 420,
       "width": 420
      }
     },
     "output_type": "display_data"
    }
   ],
   "source": [
    "lm.1<-lm(y~x)\n",
    "options(repr.plot.width=7, repr.plot.height=7)\n",
    "plot(x,y,pch='+',cex=0.8,col=\"blue\",main=\"Linear regression with test data\",cex.lab=1.3,cex.main=1.5)\n",
    "yhat<-fitted.values(lm.1)\n",
    "abline(trueA,trueB,lwd=2.5,col=\"LightCyan\")\n",
    "abline(lm.1,lwd=3.5,col=\"blue\")\n",
    "points(x,yhat,pch=16,col=\"red\",cex=1.3)\n",
    "legend(\"topleft\",c(\"Original    \",\"\",\"Regression   \",\"\",\"Fitted points\"), lwd=2.5,\n",
    "       col=c(\"cyan\",\"white\",\"blue\",\"white\",\"red\"),cex=1.1)"
   ]
  },
  {
   "cell_type": "markdown",
   "metadata": {},
   "source": [
    "### Extract information from the fitted model"
   ]
  },
  {
   "cell_type": "code",
   "execution_count": 5,
   "metadata": {},
   "outputs": [
    {
     "name": "stdout",
     "output_type": "stream",
     "text": [
      "\n",
      "Call:\n",
      "lm(formula = y ~ x)\n",
      "\n",
      "Coefficients:\n",
      "(Intercept)            x  \n",
      "      2.507        4.222  \n",
      "\n"
     ]
    }
   ],
   "source": [
    "print(lm.1)"
   ]
  },
  {
   "cell_type": "code",
   "execution_count": 6,
   "metadata": {},
   "outputs": [
    {
     "data": {
      "text/plain": [
       "\n",
       "Call:\n",
       "lm(formula = y ~ x)\n",
       "\n",
       "Residuals:\n",
       "    Min      1Q  Median      3Q     Max \n",
       "-14.140  -5.951  -3.854   3.507  24.248 \n",
       "\n",
       "Coefficients:\n",
       "            Estimate Std. Error t value Pr(>|t|)    \n",
       "(Intercept)   2.5066     2.6939   0.930    0.364    \n",
       "x             4.2224     0.4672   9.038 4.13e-08 ***\n",
       "---\n",
       "Signif. codes:  0 '***' 0.001 '**' 0.01 '*' 0.05 '.' 0.1 ' ' 1\n",
       "\n",
       "Residual standard error: 12.05 on 18 degrees of freedom\n",
       "Multiple R-squared:  0.8194,\tAdjusted R-squared:  0.8094 \n",
       "F-statistic: 81.69 on 1 and 18 DF,  p-value: 4.135e-08\n"
      ]
     },
     "metadata": {},
     "output_type": "display_data"
    }
   ],
   "source": [
    "summary(lm.1)"
   ]
  },
  {
   "cell_type": "markdown",
   "metadata": {},
   "source": [
    "### Regression coefficients"
   ]
  },
  {
   "cell_type": "code",
   "execution_count": 7,
   "metadata": {
    "tags": []
   },
   "outputs": [
    {
     "data": {
      "text/html": [
       "<strong>(Intercept):</strong> 2.507"
      ],
      "text/latex": [
       "\\textbf{(Intercept):} 2.507"
      ],
      "text/markdown": [
       "**(Intercept):** 2.507"
      ],
      "text/plain": [
       "(Intercept) \n",
       "      2.507 "
      ]
     },
     "metadata": {},
     "output_type": "display_data"
    },
    {
     "data": {
      "text/html": [
       "<strong>x:</strong> 4.222"
      ],
      "text/latex": [
       "\\textbf{x:} 4.222"
      ],
      "text/markdown": [
       "**x:** 4.222"
      ],
      "text/plain": [
       "    x \n",
       "4.222 "
      ]
     },
     "metadata": {},
     "output_type": "display_data"
    }
   ],
   "source": [
    "Coeff<-coefficients(lm.1)\n",
    "a.hat<-Coeff[1]\n",
    "b.hat<-Coeff[2]\n",
    "round(a.hat,3)\n",
    "round(b.hat,3)"
   ]
  },
  {
   "cell_type": "markdown",
   "metadata": {},
   "source": [
    "### Predict the response for a new $\\tilde{x}$"
   ]
  },
  {
   "cell_type": "code",
   "execution_count": 8,
   "metadata": {
    "tags": []
   },
   "outputs": [],
   "source": [
    "x.tilde<-c(2.5,3)  # just for example\n",
    "newx<-data.frame(x=x.tilde)"
   ]
  },
  {
   "cell_type": "code",
   "execution_count": 9,
   "metadata": {
    "tags": []
   },
   "outputs": [
    {
     "data": {
      "text/html": [
       "<style>\n",
       ".dl-inline {width: auto; margin:0; padding: 0}\n",
       ".dl-inline>dt, .dl-inline>dd {float: none; width: auto; display: inline-block}\n",
       ".dl-inline>dt::after {content: \":\\0020\"; padding-right: .5ex}\n",
       ".dl-inline>dt:not(:first-of-type) {padding-left: .5ex}\n",
       "</style><dl class=dl-inline><dt>1</dt><dd>13.0627709071849</dd><dt>2</dt><dd>15.1739952690024</dd></dl>\n"
      ],
      "text/latex": [
       "\\begin{description*}\n",
       "\\item[1] 13.0627709071849\n",
       "\\item[2] 15.1739952690024\n",
       "\\end{description*}\n"
      ],
      "text/markdown": [
       "1\n",
       ":   13.06277090718492\n",
       ":   15.1739952690024\n",
       "\n"
      ],
      "text/plain": [
       "       1        2 \n",
       "13.06277 15.17400 "
      ]
     },
     "metadata": {},
     "output_type": "display_data"
    }
   ],
   "source": [
    "# Only predicted response\n",
    "predict(lm.1,newdata=newx)"
   ]
  },
  {
   "cell_type": "markdown",
   "metadata": {},
   "source": [
    "By default for linear models `type=response`"
   ]
  },
  {
   "cell_type": "code",
   "execution_count": 10,
   "metadata": {
    "tags": []
   },
   "outputs": [
    {
     "data": {
      "text/html": [
       "<table class=\"dataframe\">\n",
       "<caption>A matrix: 2 × 3 of type dbl</caption>\n",
       "<thead>\n",
       "\t<tr><th></th><th scope=col>fit</th><th scope=col>lwr</th><th scope=col>upr</th></tr>\n",
       "</thead>\n",
       "<tbody>\n",
       "\t<tr><th scope=row>1</th><td>13.06277</td><td>6.894112</td><td>19.23143</td></tr>\n",
       "\t<tr><th scope=row>2</th><td>15.17400</td><td>8.794218</td><td>21.55377</td></tr>\n",
       "</tbody>\n",
       "</table>\n"
      ],
      "text/latex": [
       "A matrix: 2 × 3 of type dbl\n",
       "\\begin{tabular}{r|lll}\n",
       "  & fit & lwr & upr\\\\\n",
       "\\hline\n",
       "\t1 & 13.06277 & 6.894112 & 19.23143\\\\\n",
       "\t2 & 15.17400 & 8.794218 & 21.55377\\\\\n",
       "\\end{tabular}\n"
      ],
      "text/markdown": [
       "\n",
       "A matrix: 2 × 3 of type dbl\n",
       "\n",
       "| <!--/--> | fit | lwr | upr |\n",
       "|---|---|---|---|\n",
       "| 1 | 13.06277 | 6.894112 | 19.23143 |\n",
       "| 2 | 15.17400 | 8.794218 | 21.55377 |\n",
       "\n"
      ],
      "text/plain": [
       "  fit      lwr      upr     \n",
       "1 13.06277 6.894112 19.23143\n",
       "2 15.17400 8.794218 21.55377"
      ]
     },
     "metadata": {},
     "output_type": "display_data"
    }
   ],
   "source": [
    "# Response + a confidence interval\n",
    "predict(lm.1,newdata=newx,interval = \"confidence\")"
   ]
  },
  {
   "cell_type": "markdown",
   "metadata": {},
   "source": [
    "Confidence intervals for fitted values\n",
    "\n",
    "$$\n",
    "    \\hat{y}=\\hat{a}+\\hat{b}\\cdot\\tilde{x}\n",
    "$$"
   ]
  },
  {
   "cell_type": "code",
   "execution_count": 11,
   "metadata": {
    "tags": []
   },
   "outputs": [
    {
     "data": {
      "text/html": [
       "<table class=\"dataframe\">\n",
       "<caption>A matrix: 2 × 3 of type dbl</caption>\n",
       "<thead>\n",
       "\t<tr><th></th><th scope=col>fit</th><th scope=col>lwr</th><th scope=col>upr</th></tr>\n",
       "</thead>\n",
       "<tbody>\n",
       "\t<tr><th scope=row>1</th><td>13.06277</td><td>-12.98873</td><td>39.11427</td></tr>\n",
       "\t<tr><th scope=row>2</th><td>15.17400</td><td>-10.92830</td><td>41.27629</td></tr>\n",
       "</tbody>\n",
       "</table>\n"
      ],
      "text/latex": [
       "A matrix: 2 × 3 of type dbl\n",
       "\\begin{tabular}{r|lll}\n",
       "  & fit & lwr & upr\\\\\n",
       "\\hline\n",
       "\t1 & 13.06277 & -12.98873 & 39.11427\\\\\n",
       "\t2 & 15.17400 & -10.92830 & 41.27629\\\\\n",
       "\\end{tabular}\n"
      ],
      "text/markdown": [
       "\n",
       "A matrix: 2 × 3 of type dbl\n",
       "\n",
       "| <!--/--> | fit | lwr | upr |\n",
       "|---|---|---|---|\n",
       "| 1 | 13.06277 | -12.98873 | 39.11427 |\n",
       "| 2 | 15.17400 | -10.92830 | 41.27629 |\n",
       "\n"
      ],
      "text/plain": [
       "  fit      lwr       upr     \n",
       "1 13.06277 -12.98873 39.11427\n",
       "2 15.17400 -10.92830 41.27629"
      ]
     },
     "metadata": {},
     "output_type": "display_data"
    }
   ],
   "source": [
    "predict(lm.1,newdata=newx,interval=\"prediction\")"
   ]
  },
  {
   "cell_type": "markdown",
   "metadata": {},
   "source": [
    "Confidence intervals for predicted values, including the $\\normaldist(0,\\sigma^{2})$ fluctuation around $\\hat{y}$.    \n",
    "(so the results are wider intervals)"
   ]
  },
  {
   "cell_type": "markdown",
   "metadata": {},
   "source": [
    "# 02. The `Advertising` dataset"
   ]
  },
  {
   "cell_type": "markdown",
   "metadata": {
    "tags": []
   },
   "source": [
    "From [An Introduction to Statistical Learning with Applications in R (ISLR)](https://www.statlearning.com/). \n",
    "\n",
    "File [`Advertising.csv`](https://www.statlearning.com/s/Advertising.csv) from the textbook web page. \n",
    "\n",
    "In this section we follow the treatment of the `Advertising` dataset from chapters 2 and 3."
   ]
  },
  {
   "cell_type": "markdown",
   "metadata": {},
   "source": [
    "Suppose that we are statistical consultants hired by a client to investigate  the  association  between \n",
    "advertising  and  sales  of  a  particular product.  \n",
    "\n",
    "The  `Advertising`  data  set  consists  of  the sales  of  that  product in 200 different markets, \n",
    "along with advertising budgets for the product in each of those markets for three different media: TV, radio, and newspaper.  \n",
    "\n",
    "It  is  not  possible  for  our client  to directly increase sales of the product. \n",
    "On the other hand, they can control the advertising expenditure  in  each  of  the  three  media.  \n",
    "\n",
    "Therefore,  if  we determine that there is an association between advertising and sales, then we can instruct our client to adjust \n",
    "advertising budgets, thereby indirectly increasing sales."
   ]
  },
  {
   "cell_type": "markdown",
   "metadata": {},
   "source": [
    "In other words, our goal is to develop an accurate model that can be used to predict sales on the basis of the three media budgets.\n",
    "In this setting, the advertising budgets are  input  variables  while sales is an output  variable. \n",
    "The input variables are typically denoted using the symbol $X$, with a subscript to distinguish them. So $ X_{1}$ might be the TV budget, \n",
    "$X_{2}$ the radio  budget, and $X_{3}$ the newspaper  budget. The inputs go by different names, such as _predictors,_\n",
    "_independent variables,_ _features,_ or sometimes just _variables._ The output variable —in this case, sales— is often \n",
    "called the _response_  or _dependent  variable,_ and is typically denoted using the symbol $Y$."
   ]
  },
  {
   "cell_type": "markdown",
   "metadata": {},
   "source": [
    "### Read dataset.\n",
    "\n",
    "Omit first column, the index of each sample. If needed it could be recovered by: `row.names(Advertising)`."
   ]
  },
  {
   "cell_type": "code",
   "execution_count": 12,
   "metadata": {},
   "outputs": [],
   "source": [
    "Advertising<-read.csv(\"Data/Advertising.csv\")\n",
    "#Advertising<-read.csv(\"https://www.statlearning.com/s/Advertising.csv\")\n",
    "Advertising<-Advertising[,-1]"
   ]
  },
  {
   "cell_type": "markdown",
   "metadata": {},
   "source": [
    "## 02.01. Pairwise simple linear regressions"
   ]
  },
  {
   "cell_type": "markdown",
   "metadata": {},
   "source": [
    "Following ISLR, Chapter 3:\n",
    "\n",
    "Compute simple linear regressions, one for each of the predictors, `TV`, `Radio`, `Newspapers`. \n",
    "\n",
    "Plot all three scatterplots, superimposing on them the regression line.\n",
    "\n",
    "What can be said about goodness-of-fit of these models?\n",
    "\n",
    "Which variable, of the possible predictors, `TV`, `Radio`, `Newspapers`, is a better predictor of `Sales`?"
   ]
  },
  {
   "cell_type": "code",
   "execution_count": 13,
   "metadata": {},
   "outputs": [
    {
     "data": {
      "text/plain": [
       "\n",
       "Call:\n",
       "lm(formula = Sales ~ TV, data = Advertising)\n",
       "\n",
       "Residuals:\n",
       "    Min      1Q  Median      3Q     Max \n",
       "-8.3860 -1.9545 -0.1913  2.0671  7.2124 \n",
       "\n",
       "Coefficients:\n",
       "            Estimate Std. Error t value Pr(>|t|)    \n",
       "(Intercept) 7.032594   0.457843   15.36   <2e-16 ***\n",
       "TV          0.047537   0.002691   17.67   <2e-16 ***\n",
       "---\n",
       "Signif. codes:  0 '***' 0.001 '**' 0.01 '*' 0.05 '.' 0.1 ' ' 1\n",
       "\n",
       "Residual standard error: 3.259 on 198 degrees of freedom\n",
       "Multiple R-squared:  0.6119,\tAdjusted R-squared:  0.6099 \n",
       "F-statistic: 312.1 on 1 and 198 DF,  p-value: < 2.2e-16\n"
      ]
     },
     "metadata": {},
     "output_type": "display_data"
    }
   ],
   "source": [
    "lm.TV<-lm(Sales~TV,data=Advertising)\n",
    "summary(lm.TV)"
   ]
  },
  {
   "cell_type": "code",
   "execution_count": 14,
   "metadata": {},
   "outputs": [],
   "source": [
    "# Components of an lm object\n",
    "#str(lm.TV)"
   ]
  },
  {
   "cell_type": "code",
   "execution_count": 15,
   "metadata": {},
   "outputs": [],
   "source": [
    "# Components of a summary.lm object\n",
    "#str(summary(lm.TV))"
   ]
  },
  {
   "cell_type": "code",
   "execution_count": 16,
   "metadata": {},
   "outputs": [
    {
     "data": {
      "text/html": [
       "0.612"
      ],
      "text/latex": [
       "0.612"
      ],
      "text/markdown": [
       "0.612"
      ],
      "text/plain": [
       "[1] 0.612"
      ]
     },
     "metadata": {},
     "output_type": "display_data"
    },
    {
     "data": {
      "text/html": [
       "0.61"
      ],
      "text/latex": [
       "0.61"
      ],
      "text/markdown": [
       "0.61"
      ],
      "text/plain": [
       "[1] 0.61"
      ]
     },
     "metadata": {},
     "output_type": "display_data"
    }
   ],
   "source": [
    "# Extract R2 and adjusted R2 from the summary.lm object\n",
    "R2.TV<-summary(lm.TV)$r.squared\n",
    "adj.R2.TV<-summary(lm.TV)$adj.r.squared\n",
    "round(R2.TV,3)\n",
    "round(adj.R2.TV,3)"
   ]
  },
  {
   "cell_type": "code",
   "execution_count": 17,
   "metadata": {},
   "outputs": [
    {
     "data": {
      "text/html": [
       "<table class=\"dataframe\">\n",
       "<caption>A anova: 2 × 5</caption>\n",
       "<thead>\n",
       "\t<tr><th></th><th scope=col>Df</th><th scope=col>Sum Sq</th><th scope=col>Mean Sq</th><th scope=col>F value</th><th scope=col>Pr(&gt;F)</th></tr>\n",
       "\t<tr><th></th><th scope=col>&lt;int&gt;</th><th scope=col>&lt;dbl&gt;</th><th scope=col>&lt;dbl&gt;</th><th scope=col>&lt;dbl&gt;</th><th scope=col>&lt;dbl&gt;</th></tr>\n",
       "</thead>\n",
       "<tbody>\n",
       "\t<tr><th scope=row>TV</th><td>  1</td><td>3314.618</td><td>3314.61817</td><td>312.145</td><td>1.46739e-42</td></tr>\n",
       "\t<tr><th scope=row>Residuals</th><td>198</td><td>2102.531</td><td>  10.61884</td><td>     NA</td><td>         NA</td></tr>\n",
       "</tbody>\n",
       "</table>\n"
      ],
      "text/latex": [
       "A anova: 2 × 5\n",
       "\\begin{tabular}{r|lllll}\n",
       "  & Df & Sum Sq & Mean Sq & F value & Pr(>F)\\\\\n",
       "  & <int> & <dbl> & <dbl> & <dbl> & <dbl>\\\\\n",
       "\\hline\n",
       "\tTV &   1 & 3314.618 & 3314.61817 & 312.145 & 1.46739e-42\\\\\n",
       "\tResiduals & 198 & 2102.531 &   10.61884 &      NA &          NA\\\\\n",
       "\\end{tabular}\n"
      ],
      "text/markdown": [
       "\n",
       "A anova: 2 × 5\n",
       "\n",
       "| <!--/--> | Df &lt;int&gt; | Sum Sq &lt;dbl&gt; | Mean Sq &lt;dbl&gt; | F value &lt;dbl&gt; | Pr(&gt;F) &lt;dbl&gt; |\n",
       "|---|---|---|---|---|---|\n",
       "| TV |   1 | 3314.618 | 3314.61817 | 312.145 | 1.46739e-42 |\n",
       "| Residuals | 198 | 2102.531 |   10.61884 |      NA |          NA |\n",
       "\n"
      ],
      "text/plain": [
       "          Df  Sum Sq   Mean Sq    F value Pr(>F)     \n",
       "TV          1 3314.618 3314.61817 312.145 1.46739e-42\n",
       "Residuals 198 2102.531   10.61884      NA          NA"
      ]
     },
     "metadata": {},
     "output_type": "display_data"
    }
   ],
   "source": [
    "# Obtain ANOVA table\n",
    "anova(lm.TV)"
   ]
  },
  {
   "cell_type": "code",
   "execution_count": 18,
   "metadata": {},
   "outputs": [
    {
     "name": "stdout",
     "output_type": "stream",
     "text": [
      "Classes 'anova' and 'data.frame':\t2 obs. of  5 variables:\n",
      " $ Df     : int  1 198\n",
      " $ Sum Sq : num  3315 2103\n",
      " $ Mean Sq: num  3314.6 10.6\n",
      " $ F value: num  312 NA\n",
      " $ Pr(>F) : num  1.47e-42 NA\n",
      " - attr(*, \"heading\")= chr [1:2] \"Analysis of Variance Table\\n\" \"Response: Sales\"\n"
     ]
    }
   ],
   "source": [
    "# Components of the returned object\n",
    "str(anova(lm.TV))"
   ]
  },
  {
   "cell_type": "code",
   "execution_count": 19,
   "metadata": {},
   "outputs": [
    {
     "data": {
      "text/html": [
       "<style>\n",
       ".list-inline {list-style: none; margin:0; padding: 0}\n",
       ".list-inline>li {display: inline-block}\n",
       ".list-inline>li:not(:last-child)::after {content: \"\\00b7\"; padding: 0 .5ex}\n",
       "</style>\n",
       "<ol class=list-inline><li>3314.61816686865</li><li>2102.53058313135</li></ol>\n"
      ],
      "text/latex": [
       "\\begin{enumerate*}\n",
       "\\item 3314.61816686865\n",
       "\\item 2102.53058313135\n",
       "\\end{enumerate*}\n"
      ],
      "text/markdown": [
       "1. 3314.61816686865\n",
       "2. 2102.53058313135\n",
       "\n",
       "\n"
      ],
      "text/plain": [
       "[1] 3314.618 2102.531"
      ]
     },
     "metadata": {},
     "output_type": "display_data"
    }
   ],
   "source": [
    "# Extract the sums of squares component\n",
    "anova(lm.TV)$\"Sum Sq\""
   ]
  },
  {
   "cell_type": "code",
   "execution_count": 20,
   "metadata": {},
   "outputs": [
    {
     "data": {
      "text/html": [
       "2102.531"
      ],
      "text/latex": [
       "2102.531"
      ],
      "text/markdown": [
       "2102.531"
      ],
      "text/plain": [
       "[1] 2102.531"
      ]
     },
     "metadata": {},
     "output_type": "display_data"
    }
   ],
   "source": [
    "# And, from it, the residual sum of squares\n",
    "ResSS.TV<-anova(lm.TV)$\"Sum Sq\"[2]\n",
    "round(ResSS.TV,3)"
   ]
  },
  {
   "cell_type": "code",
   "execution_count": 21,
   "metadata": {},
   "outputs": [
    {
     "data": {
      "text/html": [
       "3314.618"
      ],
      "text/latex": [
       "3314.618"
      ],
      "text/markdown": [
       "3314.618"
      ],
      "text/plain": [
       "[1] 3314.618"
      ]
     },
     "metadata": {},
     "output_type": "display_data"
    }
   ],
   "source": [
    "# And the regression sum of squares\n",
    "RegSS.TV<-anova(lm.TV)$\"Sum Sq\"[1]\n",
    "round(RegSS.TV,3)"
   ]
  },
  {
   "cell_type": "code",
   "execution_count": 22,
   "metadata": {},
   "outputs": [
    {
     "data": {
      "image/png": "[encoded data removed]",
      "text/plain": [
       "Plot with title \"Regression of Sales vs. TV\""
      ]
     },
     "metadata": {
      "image/png": {
       "height": 420,
       "width": 420
      }
     },
     "output_type": "display_data"
    }
   ],
   "source": [
    "# Scatterplot plus regression line\n",
    "options(repr.plot.width=7, repr.plot.height=7)\n",
    "plot(Sales~TV,data=Advertising,pch=19,col=\"LightGreen\",cex=0.5,main=\"Regression of Sales vs. TV\",cex.main=1.5)\n",
    "abline(lm.TV,lwd=3.5,col=\"DarkGreen\")"
   ]
  },
  {
   "cell_type": "code",
   "execution_count": 23,
   "metadata": {},
   "outputs": [
    {
     "data": {
      "text/plain": [
       "\n",
       "Call:\n",
       "lm(formula = Sales ~ Radio, data = Advertising)\n",
       "\n",
       "Residuals:\n",
       "     Min       1Q   Median       3Q      Max \n",
       "-15.7305  -2.1324   0.7707   2.7775   8.1810 \n",
       "\n",
       "Coefficients:\n",
       "            Estimate Std. Error t value Pr(>|t|)    \n",
       "(Intercept)  9.31164    0.56290  16.542   <2e-16 ***\n",
       "Radio        0.20250    0.02041   9.921   <2e-16 ***\n",
       "---\n",
       "Signif. codes:  0 '***' 0.001 '**' 0.01 '*' 0.05 '.' 0.1 ' ' 1\n",
       "\n",
       "Residual standard error: 4.275 on 198 degrees of freedom\n",
       "Multiple R-squared:  0.332,\tAdjusted R-squared:  0.3287 \n",
       "F-statistic: 98.42 on 1 and 198 DF,  p-value: < 2.2e-16\n"
      ]
     },
     "metadata": {},
     "output_type": "display_data"
    }
   ],
   "source": [
    "lm.Radio<-lm(Sales~Radio,data=Advertising)\n",
    "summary(lm.Radio)"
   ]
  },
  {
   "cell_type": "code",
   "execution_count": 24,
   "metadata": {},
   "outputs": [],
   "source": [
    "# Components of the lm object\n",
    "#str(lm.Radio)"
   ]
  },
  {
   "cell_type": "code",
   "execution_count": 25,
   "metadata": {},
   "outputs": [],
   "source": [
    "# Components of the summary.lm object\n",
    "#str(summary(lm.Radio))"
   ]
  },
  {
   "cell_type": "code",
   "execution_count": 26,
   "metadata": {},
   "outputs": [
    {
     "data": {
      "text/html": [
       "0.332"
      ],
      "text/latex": [
       "0.332"
      ],
      "text/markdown": [
       "0.332"
      ],
      "text/plain": [
       "[1] 0.332"
      ]
     },
     "metadata": {},
     "output_type": "display_data"
    },
    {
     "data": {
      "text/html": [
       "0.329"
      ],
      "text/latex": [
       "0.329"
      ],
      "text/markdown": [
       "0.329"
      ],
      "text/plain": [
       "[1] 0.329"
      ]
     },
     "metadata": {},
     "output_type": "display_data"
    }
   ],
   "source": [
    "# Extract R2 and adjusted R2 from the summary.lm object\n",
    "R2.Radio<-summary(lm.Radio)$r.squared\n",
    "adj.R2.Radio<-summary(lm.Radio)$adj.r.squared\n",
    "round(R2.Radio,3)\n",
    "round(adj.R2.Radio,3)"
   ]
  },
  {
   "cell_type": "code",
   "execution_count": 27,
   "metadata": {},
   "outputs": [
    {
     "data": {
      "text/html": [
       "<table class=\"dataframe\">\n",
       "<caption>A anova: 2 × 5</caption>\n",
       "<thead>\n",
       "\t<tr><th></th><th scope=col>Df</th><th scope=col>Sum Sq</th><th scope=col>Mean Sq</th><th scope=col>F value</th><th scope=col>Pr(&gt;F)</th></tr>\n",
       "\t<tr><th></th><th scope=col>&lt;int&gt;</th><th scope=col>&lt;dbl&gt;</th><th scope=col>&lt;dbl&gt;</th><th scope=col>&lt;dbl&gt;</th><th scope=col>&lt;dbl&gt;</th></tr>\n",
       "</thead>\n",
       "<tbody>\n",
       "\t<tr><th scope=row>Radio</th><td>  1</td><td>1798.669</td><td>1798.66920</td><td>98.42159</td><td>4.354966e-19</td></tr>\n",
       "\t<tr><th scope=row>Residuals</th><td>198</td><td>3618.480</td><td>  18.27515</td><td>      NA</td><td>          NA</td></tr>\n",
       "</tbody>\n",
       "</table>\n"
      ],
      "text/latex": [
       "A anova: 2 × 5\n",
       "\\begin{tabular}{r|lllll}\n",
       "  & Df & Sum Sq & Mean Sq & F value & Pr(>F)\\\\\n",
       "  & <int> & <dbl> & <dbl> & <dbl> & <dbl>\\\\\n",
       "\\hline\n",
       "\tRadio &   1 & 1798.669 & 1798.66920 & 98.42159 & 4.354966e-19\\\\\n",
       "\tResiduals & 198 & 3618.480 &   18.27515 &       NA &           NA\\\\\n",
       "\\end{tabular}\n"
      ],
      "text/markdown": [
       "\n",
       "A anova: 2 × 5\n",
       "\n",
       "| <!--/--> | Df &lt;int&gt; | Sum Sq &lt;dbl&gt; | Mean Sq &lt;dbl&gt; | F value &lt;dbl&gt; | Pr(&gt;F) &lt;dbl&gt; |\n",
       "|---|---|---|---|---|---|\n",
       "| Radio |   1 | 1798.669 | 1798.66920 | 98.42159 | 4.354966e-19 |\n",
       "| Residuals | 198 | 3618.480 |   18.27515 |       NA |           NA |\n",
       "\n"
      ],
      "text/plain": [
       "          Df  Sum Sq   Mean Sq    F value  Pr(>F)      \n",
       "Radio       1 1798.669 1798.66920 98.42159 4.354966e-19\n",
       "Residuals 198 3618.480   18.27515       NA           NA"
      ]
     },
     "metadata": {},
     "output_type": "display_data"
    }
   ],
   "source": [
    "# Obtain ANOVA table\n",
    "anova(lm.Radio)"
   ]
  },
  {
   "cell_type": "code",
   "execution_count": 28,
   "metadata": {},
   "outputs": [],
   "source": [
    "# Components of the returned object\n",
    "#str(anova(lm.Radio))"
   ]
  },
  {
   "cell_type": "code",
   "execution_count": 29,
   "metadata": {},
   "outputs": [
    {
     "data": {
      "text/html": [
       "<style>\n",
       ".list-inline {list-style: none; margin:0; padding: 0}\n",
       ".list-inline>li {display: inline-block}\n",
       ".list-inline>li:not(:last-child)::after {content: \"\\00b7\"; padding: 0 .5ex}\n",
       "</style>\n",
       "<ol class=list-inline><li>1798.66920097491</li><li>3618.47954902509</li></ol>\n"
      ],
      "text/latex": [
       "\\begin{enumerate*}\n",
       "\\item 1798.66920097491\n",
       "\\item 3618.47954902509\n",
       "\\end{enumerate*}\n"
      ],
      "text/markdown": [
       "1. 1798.66920097491\n",
       "2. 3618.47954902509\n",
       "\n",
       "\n"
      ],
      "text/plain": [
       "[1] 1798.669 3618.480"
      ]
     },
     "metadata": {},
     "output_type": "display_data"
    }
   ],
   "source": [
    "# Extract the sums of squares component\n",
    "anova(lm.Radio)$\"Sum Sq\""
   ]
  },
  {
   "cell_type": "code",
   "execution_count": 30,
   "metadata": {},
   "outputs": [
    {
     "data": {
      "text/html": [
       "3618.48"
      ],
      "text/latex": [
       "3618.48"
      ],
      "text/markdown": [
       "3618.48"
      ],
      "text/plain": [
       "[1] 3618.48"
      ]
     },
     "metadata": {},
     "output_type": "display_data"
    }
   ],
   "source": [
    "# And, from it, the residual sum of squares\n",
    "ResSS.Radio<-anova(lm.Radio)$\"Sum Sq\"[2]\n",
    "round(ResSS.Radio,3)"
   ]
  },
  {
   "cell_type": "code",
   "execution_count": 31,
   "metadata": {},
   "outputs": [
    {
     "data": {
      "text/html": [
       "1798.669"
      ],
      "text/latex": [
       "1798.669"
      ],
      "text/markdown": [
       "1798.669"
      ],
      "text/plain": [
       "[1] 1798.669"
      ]
     },
     "metadata": {},
     "output_type": "display_data"
    }
   ],
   "source": [
    "# And the regression sum of squares\n",
    "RegSS.Radio<-anova(lm.Radio)$\"Sum Sq\"[1]\n",
    "round(RegSS.Radio,3)"
   ]
  },
  {
   "cell_type": "code",
   "execution_count": 32,
   "metadata": {},
   "outputs": [
    {
     "data": {
      "image/png": "[encoded data removed]",
      "text/plain": [
       "Plot with title \"Regression of Sales vs. Radio\""
      ]
     },
     "metadata": {
      "image/png": {
       "height": 420,
       "width": 420
      }
     },
     "output_type": "display_data"
    }
   ],
   "source": [
    "# Scatterplot plus regression line\n",
    "options(repr.plot.width=7, repr.plot.height=7)\n",
    "plot(Sales~Radio,data=Advertising,pch=19,col=\"LightGreen\",cex=0.5,main=\"Regression of Sales vs. Radio\",cex.main=1.5)\n",
    "abline(lm.Radio,lwd=3.5,col=\"DarkGreen\")"
   ]
  },
  {
   "cell_type": "code",
   "execution_count": 33,
   "metadata": {},
   "outputs": [
    {
     "data": {
      "text/plain": [
       "\n",
       "Call:\n",
       "lm(formula = Sales ~ Newspaper, data = Advertising)\n",
       "\n",
       "Residuals:\n",
       "     Min       1Q   Median       3Q      Max \n",
       "-11.2272  -3.3873  -0.8392   3.5059  12.7751 \n",
       "\n",
       "Coefficients:\n",
       "            Estimate Std. Error t value Pr(>|t|)    \n",
       "(Intercept) 12.35141    0.62142   19.88  < 2e-16 ***\n",
       "Newspaper    0.05469    0.01658    3.30  0.00115 ** \n",
       "---\n",
       "Signif. codes:  0 '***' 0.001 '**' 0.01 '*' 0.05 '.' 0.1 ' ' 1\n",
       "\n",
       "Residual standard error: 5.092 on 198 degrees of freedom\n",
       "Multiple R-squared:  0.05212,\tAdjusted R-squared:  0.04733 \n",
       "F-statistic: 10.89 on 1 and 198 DF,  p-value: 0.001148\n"
      ]
     },
     "metadata": {},
     "output_type": "display_data"
    }
   ],
   "source": [
    "lm.Newspaper<-lm(Sales~Newspaper,data=Advertising)\n",
    "summary(lm.Newspaper)"
   ]
  },
  {
   "cell_type": "code",
   "execution_count": 34,
   "metadata": {},
   "outputs": [],
   "source": [
    "# Components of the lm object\n",
    "#str(lm.Newspaper)"
   ]
  },
  {
   "cell_type": "code",
   "execution_count": 35,
   "metadata": {},
   "outputs": [],
   "source": [
    "# Components of the summary.lm object\n",
    "#str(summary(lm.Newspaper))"
   ]
  },
  {
   "cell_type": "code",
   "execution_count": 36,
   "metadata": {},
   "outputs": [
    {
     "data": {
      "text/html": [
       "0.052"
      ],
      "text/latex": [
       "0.052"
      ],
      "text/markdown": [
       "0.052"
      ],
      "text/plain": [
       "[1] 0.052"
      ]
     },
     "metadata": {},
     "output_type": "display_data"
    },
    {
     "data": {
      "text/html": [
       "0.047"
      ],
      "text/latex": [
       "0.047"
      ],
      "text/markdown": [
       "0.047"
      ],
      "text/plain": [
       "[1] 0.047"
      ]
     },
     "metadata": {},
     "output_type": "display_data"
    }
   ],
   "source": [
    "# Extract R2 and adjusted R2 from the summary.lm object\n",
    "R2.Newspaper<-summary(lm.Newspaper)$r.squared\n",
    "adj.R2.Newspaper<-summary(lm.Newspaper)$adj.r.squared\n",
    "round(R2.Newspaper,3)\n",
    "round(adj.R2.Newspaper,3)"
   ]
  },
  {
   "cell_type": "code",
   "execution_count": 37,
   "metadata": {},
   "outputs": [
    {
     "data": {
      "text/html": [
       "<table class=\"dataframe\">\n",
       "<caption>A anova: 2 × 5</caption>\n",
       "<thead>\n",
       "\t<tr><th></th><th scope=col>Df</th><th scope=col>Sum Sq</th><th scope=col>Mean Sq</th><th scope=col>F value</th><th scope=col>Pr(&gt;F)</th></tr>\n",
       "\t<tr><th></th><th scope=col>&lt;int&gt;</th><th scope=col>&lt;dbl&gt;</th><th scope=col>&lt;dbl&gt;</th><th scope=col>&lt;dbl&gt;</th><th scope=col>&lt;dbl&gt;</th></tr>\n",
       "</thead>\n",
       "<tbody>\n",
       "\t<tr><th scope=row>Newspaper</th><td>  1</td><td> 282.3442</td><td>282.34421</td><td>10.8873</td><td>0.001148196</td></tr>\n",
       "\t<tr><th scope=row>Residuals</th><td>198</td><td>5134.8045</td><td> 25.93336</td><td>     NA</td><td>         NA</td></tr>\n",
       "</tbody>\n",
       "</table>\n"
      ],
      "text/latex": [
       "A anova: 2 × 5\n",
       "\\begin{tabular}{r|lllll}\n",
       "  & Df & Sum Sq & Mean Sq & F value & Pr(>F)\\\\\n",
       "  & <int> & <dbl> & <dbl> & <dbl> & <dbl>\\\\\n",
       "\\hline\n",
       "\tNewspaper &   1 &  282.3442 & 282.34421 & 10.8873 & 0.001148196\\\\\n",
       "\tResiduals & 198 & 5134.8045 &  25.93336 &      NA &          NA\\\\\n",
       "\\end{tabular}\n"
      ],
      "text/markdown": [
       "\n",
       "A anova: 2 × 5\n",
       "\n",
       "| <!--/--> | Df &lt;int&gt; | Sum Sq &lt;dbl&gt; | Mean Sq &lt;dbl&gt; | F value &lt;dbl&gt; | Pr(&gt;F) &lt;dbl&gt; |\n",
       "|---|---|---|---|---|---|\n",
       "| Newspaper |   1 |  282.3442 | 282.34421 | 10.8873 | 0.001148196 |\n",
       "| Residuals | 198 | 5134.8045 |  25.93336 |      NA |          NA |\n",
       "\n"
      ],
      "text/plain": [
       "          Df  Sum Sq    Mean Sq   F value Pr(>F)     \n",
       "Newspaper   1  282.3442 282.34421 10.8873 0.001148196\n",
       "Residuals 198 5134.8045  25.93336      NA          NA"
      ]
     },
     "metadata": {},
     "output_type": "display_data"
    }
   ],
   "source": [
    "# Obtain ANOVA table\n",
    "anova(lm.Newspaper)"
   ]
  },
  {
   "cell_type": "code",
   "execution_count": 38,
   "metadata": {},
   "outputs": [],
   "source": [
    "# Components of the returned object\n",
    "#str(anova(lm.Newspaper))"
   ]
  },
  {
   "cell_type": "code",
   "execution_count": 39,
   "metadata": {},
   "outputs": [
    {
     "data": {
      "text/html": [
       "<style>\n",
       ".list-inline {list-style: none; margin:0; padding: 0}\n",
       ".list-inline>li {display: inline-block}\n",
       ".list-inline>li:not(:last-child)::after {content: \"\\00b7\"; padding: 0 .5ex}\n",
       "</style>\n",
       "<ol class=list-inline><li>282.34420588806</li><li>5134.80454411194</li></ol>\n"
      ],
      "text/latex": [
       "\\begin{enumerate*}\n",
       "\\item 282.34420588806\n",
       "\\item 5134.80454411194\n",
       "\\end{enumerate*}\n"
      ],
      "text/markdown": [
       "1. 282.34420588806\n",
       "2. 5134.80454411194\n",
       "\n",
       "\n"
      ],
      "text/plain": [
       "[1]  282.3442 5134.8045"
      ]
     },
     "metadata": {},
     "output_type": "display_data"
    }
   ],
   "source": [
    "# Extract the sums of squares component\n",
    "anova(lm.Newspaper)$\"Sum Sq\""
   ]
  },
  {
   "cell_type": "code",
   "execution_count": 40,
   "metadata": {},
   "outputs": [
    {
     "data": {
      "text/html": [
       "5134.805"
      ],
      "text/latex": [
       "5134.805"
      ],
      "text/markdown": [
       "5134.805"
      ],
      "text/plain": [
       "[1] 5134.805"
      ]
     },
     "metadata": {},
     "output_type": "display_data"
    }
   ],
   "source": [
    "# And, from it, the residual sum of squares\n",
    "ResSS.Newspaper<-anova(lm.Newspaper)$\"Sum Sq\"[2]\n",
    "round(ResSS.Newspaper,3)"
   ]
  },
  {
   "cell_type": "code",
   "execution_count": 41,
   "metadata": {},
   "outputs": [
    {
     "data": {
      "text/html": [
       "282.344"
      ],
      "text/latex": [
       "282.344"
      ],
      "text/markdown": [
       "282.344"
      ],
      "text/plain": [
       "[1] 282.344"
      ]
     },
     "metadata": {},
     "output_type": "display_data"
    }
   ],
   "source": [
    "# And the regression sum of squares\n",
    "RegSS.Newspaper<-anova(lm.Newspaper)$\"Sum Sq\"[1]\n",
    "round(RegSS.Newspaper,3)"
   ]
  },
  {
   "cell_type": "code",
   "execution_count": 42,
   "metadata": {},
   "outputs": [
    {
     "data": {
      "image/png": "[encoded data removed]",
      "text/plain": [
       "Plot with title \"Regression of Sales vs. Newspaper\""
      ]
     },
     "metadata": {
      "image/png": {
       "height": 420,
       "width": 420
      }
     },
     "output_type": "display_data"
    }
   ],
   "source": [
    "# Scatterplot plus regression line\n",
    "options(repr.plot.width=7, repr.plot.height=7)\n",
    "plot(Sales~Newspaper,data=Advertising,pch=19,col=\"LightGreen\",cex=0.5,main=\"Regression of Sales vs. Newspaper\",cex.main=1.5)\n",
    "abline(lm.Newspaper,lwd=3.0,col=\"DarkGreen\")"
   ]
  },
  {
   "cell_type": "markdown",
   "metadata": {},
   "source": [
    "## 02.02. Multiple regression"
   ]
  },
  {
   "cell_type": "code",
   "execution_count": 43,
   "metadata": {},
   "outputs": [
    {
     "data": {
      "image/png": "[encoded data removed]",
      "text/plain": [
       "plot without title"
      ]
     },
     "metadata": {
      "image/png": {
       "height": 720,
       "width": 720
      }
     },
     "output_type": "display_data"
    }
   ],
   "source": [
    "options(repr.plot.width=12, repr.plot.height=12)\n",
    "plot(Advertising,pch=19,col=\"LightGreen\",cex=0.8,main=\"Pairwise scatterplots\",cex.main=1.5)"
   ]
  },
  {
   "cell_type": "code",
   "execution_count": 44,
   "metadata": {},
   "outputs": [
    {
     "data": {
      "text/html": [
       "<table class=\"dataframe\">\n",
       "<caption>A matrix: 4 × 4 of type dbl</caption>\n",
       "<thead>\n",
       "\t<tr><th></th><th scope=col>TV</th><th scope=col>Radio</th><th scope=col>Newspaper</th><th scope=col>Sales</th></tr>\n",
       "</thead>\n",
       "<tbody>\n",
       "\t<tr><th scope=row>TV</th><td>1.00000000</td><td>0.05480866</td><td>0.05664787</td><td>0.7822244</td></tr>\n",
       "\t<tr><th scope=row>Radio</th><td>0.05480866</td><td>1.00000000</td><td>0.35410375</td><td>0.5762226</td></tr>\n",
       "\t<tr><th scope=row>Newspaper</th><td>0.05664787</td><td>0.35410375</td><td>1.00000000</td><td>0.2282990</td></tr>\n",
       "\t<tr><th scope=row>Sales</th><td>0.78222442</td><td>0.57622257</td><td>0.22829903</td><td>1.0000000</td></tr>\n",
       "</tbody>\n",
       "</table>\n"
      ],
      "text/latex": [
       "A matrix: 4 × 4 of type dbl\n",
       "\\begin{tabular}{r|llll}\n",
       "  & TV & Radio & Newspaper & Sales\\\\\n",
       "\\hline\n",
       "\tTV & 1.00000000 & 0.05480866 & 0.05664787 & 0.7822244\\\\\n",
       "\tRadio & 0.05480866 & 1.00000000 & 0.35410375 & 0.5762226\\\\\n",
       "\tNewspaper & 0.05664787 & 0.35410375 & 1.00000000 & 0.2282990\\\\\n",
       "\tSales & 0.78222442 & 0.57622257 & 0.22829903 & 1.0000000\\\\\n",
       "\\end{tabular}\n"
      ],
      "text/markdown": [
       "\n",
       "A matrix: 4 × 4 of type dbl\n",
       "\n",
       "| <!--/--> | TV | Radio | Newspaper | Sales |\n",
       "|---|---|---|---|---|\n",
       "| TV | 1.00000000 | 0.05480866 | 0.05664787 | 0.7822244 |\n",
       "| Radio | 0.05480866 | 1.00000000 | 0.35410375 | 0.5762226 |\n",
       "| Newspaper | 0.05664787 | 0.35410375 | 1.00000000 | 0.2282990 |\n",
       "| Sales | 0.78222442 | 0.57622257 | 0.22829903 | 1.0000000 |\n",
       "\n"
      ],
      "text/plain": [
       "          TV         Radio      Newspaper  Sales    \n",
       "TV        1.00000000 0.05480866 0.05664787 0.7822244\n",
       "Radio     0.05480866 1.00000000 0.35410375 0.5762226\n",
       "Newspaper 0.05664787 0.35410375 1.00000000 0.2282990\n",
       "Sales     0.78222442 0.57622257 0.22829903 1.0000000"
      ]
     },
     "metadata": {},
     "output_type": "display_data"
    },
    {
     "data": {
      "text/html": [
       "<table class=\"dataframe\">\n",
       "<caption>A matrix: 4 × 4 of type dbl</caption>\n",
       "<thead>\n",
       "\t<tr><th></th><th scope=col>TV</th><th scope=col>Radio</th><th scope=col>Newspaper</th><th scope=col>Sales</th></tr>\n",
       "</thead>\n",
       "<tbody>\n",
       "\t<tr><th scope=row>TV</th><td>1.00</td><td>0.05</td><td>0.06</td><td>0.78</td></tr>\n",
       "\t<tr><th scope=row>Radio</th><td>0.05</td><td>1.00</td><td>0.35</td><td>0.58</td></tr>\n",
       "\t<tr><th scope=row>Newspaper</th><td>0.06</td><td>0.35</td><td>1.00</td><td>0.23</td></tr>\n",
       "\t<tr><th scope=row>Sales</th><td>0.78</td><td>0.58</td><td>0.23</td><td>1.00</td></tr>\n",
       "</tbody>\n",
       "</table>\n"
      ],
      "text/latex": [
       "A matrix: 4 × 4 of type dbl\n",
       "\\begin{tabular}{r|llll}\n",
       "  & TV & Radio & Newspaper & Sales\\\\\n",
       "\\hline\n",
       "\tTV & 1.00 & 0.05 & 0.06 & 0.78\\\\\n",
       "\tRadio & 0.05 & 1.00 & 0.35 & 0.58\\\\\n",
       "\tNewspaper & 0.06 & 0.35 & 1.00 & 0.23\\\\\n",
       "\tSales & 0.78 & 0.58 & 0.23 & 1.00\\\\\n",
       "\\end{tabular}\n"
      ],
      "text/markdown": [
       "\n",
       "A matrix: 4 × 4 of type dbl\n",
       "\n",
       "| <!--/--> | TV | Radio | Newspaper | Sales |\n",
       "|---|---|---|---|---|\n",
       "| TV | 1.00 | 0.05 | 0.06 | 0.78 |\n",
       "| Radio | 0.05 | 1.00 | 0.35 | 0.58 |\n",
       "| Newspaper | 0.06 | 0.35 | 1.00 | 0.23 |\n",
       "| Sales | 0.78 | 0.58 | 0.23 | 1.00 |\n",
       "\n"
      ],
      "text/plain": [
       "          TV   Radio Newspaper Sales\n",
       "TV        1.00 0.05  0.06      0.78 \n",
       "Radio     0.05 1.00  0.35      0.58 \n",
       "Newspaper 0.06 0.35  1.00      0.23 \n",
       "Sales     0.78 0.58  0.23      1.00 "
      ]
     },
     "metadata": {},
     "output_type": "display_data"
    },
    {
     "data": {
      "text/html": [
       "<table class=\"dataframe\">\n",
       "<caption>A matrix: 4 × 4 of type dbl</caption>\n",
       "<thead>\n",
       "\t<tr><th></th><th scope=col>TV</th><th scope=col>Radio</th><th scope=col>Newspaper</th><th scope=col>Sales</th></tr>\n",
       "</thead>\n",
       "<tbody>\n",
       "\t<tr><th scope=row>TV</th><td>1.0</td><td>0.1</td><td>0.1</td><td>0.8</td></tr>\n",
       "\t<tr><th scope=row>Radio</th><td>0.1</td><td>1.0</td><td>0.4</td><td>0.6</td></tr>\n",
       "\t<tr><th scope=row>Newspaper</th><td>0.1</td><td>0.4</td><td>1.0</td><td>0.2</td></tr>\n",
       "\t<tr><th scope=row>Sales</th><td>0.8</td><td>0.6</td><td>0.2</td><td>1.0</td></tr>\n",
       "</tbody>\n",
       "</table>\n"
      ],
      "text/latex": [
       "A matrix: 4 × 4 of type dbl\n",
       "\\begin{tabular}{r|llll}\n",
       "  & TV & Radio & Newspaper & Sales\\\\\n",
       "\\hline\n",
       "\tTV & 1.0 & 0.1 & 0.1 & 0.8\\\\\n",
       "\tRadio & 0.1 & 1.0 & 0.4 & 0.6\\\\\n",
       "\tNewspaper & 0.1 & 0.4 & 1.0 & 0.2\\\\\n",
       "\tSales & 0.8 & 0.6 & 0.2 & 1.0\\\\\n",
       "\\end{tabular}\n"
      ],
      "text/markdown": [
       "\n",
       "A matrix: 4 × 4 of type dbl\n",
       "\n",
       "| <!--/--> | TV | Radio | Newspaper | Sales |\n",
       "|---|---|---|---|---|\n",
       "| TV | 1.0 | 0.1 | 0.1 | 0.8 |\n",
       "| Radio | 0.1 | 1.0 | 0.4 | 0.6 |\n",
       "| Newspaper | 0.1 | 0.4 | 1.0 | 0.2 |\n",
       "| Sales | 0.8 | 0.6 | 0.2 | 1.0 |\n",
       "\n"
      ],
      "text/plain": [
       "          TV  Radio Newspaper Sales\n",
       "TV        1.0 0.1   0.1       0.8  \n",
       "Radio     0.1 1.0   0.4       0.6  \n",
       "Newspaper 0.1 0.4   1.0       0.2  \n",
       "Sales     0.8 0.6   0.2       1.0  "
      ]
     },
     "metadata": {},
     "output_type": "display_data"
    }
   ],
   "source": [
    "cor(Advertising)\n",
    "round(cor(Advertising),2)\n",
    "round(cor(Advertising),1)"
   ]
  },
  {
   "cell_type": "code",
   "execution_count": 45,
   "metadata": {},
   "outputs": [
    {
     "name": "stderr",
     "output_type": "stream",
     "text": [
      "corrplot 0.92 loaded\n",
      "\n"
     ]
    }
   ],
   "source": [
    "#install.packages(\"corrplot\",dependencies=TRUE,repos= \"https://cloud.r-project.org\")\n",
    "require(corrplot,quietly=TRUE)"
   ]
  },
  {
   "cell_type": "code",
   "execution_count": 46,
   "metadata": {},
   "outputs": [
    {
     "data": {
      "image/png": "[encoded data removed]",
      "text/plain": [
       "Plot with title \"\""
      ]
     },
     "metadata": {
      "image/png": {
       "height": 360,
       "width": 360
      }
     },
     "output_type": "display_data"
    }
   ],
   "source": [
    "options(repr.plot.width=6, repr.plot.height=6)\n",
    "corrplot(cor(Advertising),method=\"color\",type=\"lower\")"
   ]
  },
  {
   "cell_type": "markdown",
   "metadata": {},
   "source": [
    "Multiple linear regression of Sales on all three predictors"
   ]
  },
  {
   "cell_type": "code",
   "execution_count": 47,
   "metadata": {},
   "outputs": [
    {
     "data": {
      "text/plain": [
       "\n",
       "Call:\n",
       "lm(formula = Sales ~ TV + Radio + Newspaper, data = Advertising)\n",
       "\n",
       "Residuals:\n",
       "    Min      1Q  Median      3Q     Max \n",
       "-8.8277 -0.8908  0.2418  1.1893  2.8292 \n",
       "\n",
       "Coefficients:\n",
       "             Estimate Std. Error t value Pr(>|t|)    \n",
       "(Intercept)  2.938889   0.311908   9.422   <2e-16 ***\n",
       "TV           0.045765   0.001395  32.809   <2e-16 ***\n",
       "Radio        0.188530   0.008611  21.893   <2e-16 ***\n",
       "Newspaper   -0.001037   0.005871  -0.177     0.86    \n",
       "---\n",
       "Signif. codes:  0 '***' 0.001 '**' 0.01 '*' 0.05 '.' 0.1 ' ' 1\n",
       "\n",
       "Residual standard error: 1.686 on 196 degrees of freedom\n",
       "Multiple R-squared:  0.8972,\tAdjusted R-squared:  0.8956 \n",
       "F-statistic: 570.3 on 3 and 196 DF,  p-value: < 2.2e-16\n"
      ]
     },
     "metadata": {},
     "output_type": "display_data"
    }
   ],
   "source": [
    "lm.Advertising.01<-lm(Sales~TV+Radio+Newspaper,data=Advertising)\n",
    "# Equivalent, alternative notation\n",
    "#lm.Advertising.01<-lm(Sales~.,data=Advertising)\n",
    "summary(lm.Advertising.01)"
   ]
  },
  {
   "cell_type": "code",
   "execution_count": 48,
   "metadata": {},
   "outputs": [
    {
     "data": {
      "text/html": [
       "<table class=\"dataframe\">\n",
       "<caption>A anova: 4 × 5</caption>\n",
       "<thead>\n",
       "\t<tr><th></th><th scope=col>Df</th><th scope=col>Sum Sq</th><th scope=col>Mean Sq</th><th scope=col>F value</th><th scope=col>Pr(&gt;F)</th></tr>\n",
       "\t<tr><th></th><th scope=col>&lt;int&gt;</th><th scope=col>&lt;dbl&gt;</th><th scope=col>&lt;dbl&gt;</th><th scope=col>&lt;dbl&gt;</th><th scope=col>&lt;dbl&gt;</th></tr>\n",
       "</thead>\n",
       "<tbody>\n",
       "\t<tr><th scope=row>TV</th><td>  1</td><td>3.314618e+03</td><td>3.314618e+03</td><td>1.166731e+03</td><td>1.809337e-84</td></tr>\n",
       "\t<tr><th scope=row>Radio</th><td>  1</td><td>1.545617e+03</td><td>1.545617e+03</td><td>5.440501e+02</td><td>1.882722e-58</td></tr>\n",
       "\t<tr><th scope=row>Newspaper</th><td>  1</td><td>8.871717e-02</td><td>8.871717e-02</td><td>3.122805e-02</td><td>8.599151e-01</td></tr>\n",
       "\t<tr><th scope=row>Residuals</th><td>196</td><td>5.568253e+02</td><td>2.840945e+00</td><td>          NA</td><td>          NA</td></tr>\n",
       "</tbody>\n",
       "</table>\n"
      ],
      "text/latex": [
       "A anova: 4 × 5\n",
       "\\begin{tabular}{r|lllll}\n",
       "  & Df & Sum Sq & Mean Sq & F value & Pr(>F)\\\\\n",
       "  & <int> & <dbl> & <dbl> & <dbl> & <dbl>\\\\\n",
       "\\hline\n",
       "\tTV &   1 & 3.314618e+03 & 3.314618e+03 & 1.166731e+03 & 1.809337e-84\\\\\n",
       "\tRadio &   1 & 1.545617e+03 & 1.545617e+03 & 5.440501e+02 & 1.882722e-58\\\\\n",
       "\tNewspaper &   1 & 8.871717e-02 & 8.871717e-02 & 3.122805e-02 & 8.599151e-01\\\\\n",
       "\tResiduals & 196 & 5.568253e+02 & 2.840945e+00 &           NA &           NA\\\\\n",
       "\\end{tabular}\n"
      ],
      "text/markdown": [
       "\n",
       "A anova: 4 × 5\n",
       "\n",
       "| <!--/--> | Df &lt;int&gt; | Sum Sq &lt;dbl&gt; | Mean Sq &lt;dbl&gt; | F value &lt;dbl&gt; | Pr(&gt;F) &lt;dbl&gt; |\n",
       "|---|---|---|---|---|---|\n",
       "| TV |   1 | 3.314618e+03 | 3.314618e+03 | 1.166731e+03 | 1.809337e-84 |\n",
       "| Radio |   1 | 1.545617e+03 | 1.545617e+03 | 5.440501e+02 | 1.882722e-58 |\n",
       "| Newspaper |   1 | 8.871717e-02 | 8.871717e-02 | 3.122805e-02 | 8.599151e-01 |\n",
       "| Residuals | 196 | 5.568253e+02 | 2.840945e+00 |           NA |           NA |\n",
       "\n"
      ],
      "text/plain": [
       "          Df  Sum Sq       Mean Sq      F value      Pr(>F)      \n",
       "TV          1 3.314618e+03 3.314618e+03 1.166731e+03 1.809337e-84\n",
       "Radio       1 1.545617e+03 1.545617e+03 5.440501e+02 1.882722e-58\n",
       "Newspaper   1 8.871717e-02 8.871717e-02 3.122805e-02 8.599151e-01\n",
       "Residuals 196 5.568253e+02 2.840945e+00           NA           NA"
      ]
     },
     "metadata": {},
     "output_type": "display_data"
    }
   ],
   "source": [
    "anova(lm.Advertising.01)"
   ]
  },
  {
   "cell_type": "code",
   "execution_count": 49,
   "metadata": {},
   "outputs": [],
   "source": [
    "#str(lm.Advertising.01)"
   ]
  },
  {
   "cell_type": "markdown",
   "metadata": {},
   "source": [
    "# 03. Relevant quantities in a regression"
   ]
  },
  {
   "cell_type": "markdown",
   "metadata": {},
   "source": [
    "Rename response and model for the sake of pithy expressions"
   ]
  },
  {
   "cell_type": "code",
   "execution_count": 50,
   "metadata": {},
   "outputs": [
    {
     "data": {
      "text/html": [
       "200"
      ],
      "text/latex": [
       "200"
      ],
      "text/markdown": [
       "200"
      ],
      "text/plain": [
       "[1] 200"
      ]
     },
     "metadata": {},
     "output_type": "display_data"
    }
   ],
   "source": [
    "y<-Advertising$Sales\n",
    "n<-length(y)\n",
    "n"
   ]
  },
  {
   "cell_type": "code",
   "execution_count": 51,
   "metadata": {},
   "outputs": [],
   "source": [
    "lm.1<-lm.Advertising.01"
   ]
  },
  {
   "cell_type": "markdown",
   "metadata": {},
   "source": [
    "## 03.01. Total Sum of Squares and centered Total Sum of Squares"
   ]
  },
  {
   "cell_type": "code",
   "execution_count": 52,
   "metadata": {},
   "outputs": [
    {
     "data": {
      "text/html": [
       "44743.25"
      ],
      "text/latex": [
       "44743.25"
      ],
      "text/markdown": [
       "44743.25"
      ],
      "text/plain": [
       "[1] 44743.25"
      ]
     },
     "metadata": {},
     "output_type": "display_data"
    },
    {
     "data": {
      "text/html": [
       "5417.149"
      ],
      "text/latex": [
       "5417.149"
      ],
      "text/markdown": [
       "5417.149"
      ],
      "text/plain": [
       "[1] 5417.149"
      ]
     },
     "metadata": {},
     "output_type": "display_data"
    }
   ],
   "source": [
    "# Total sum of squares\n",
    "TotalSS<-sum(y^2)\n",
    "round(TotalSS,3)\n",
    "# Centered data\n",
    "y0<-y-mean(y)   \n",
    "# Centered total sum of squares\n",
    "TotalSS0<-sum(y0^2)        \n",
    "round(TotalSS0,3)"
   ]
  },
  {
   "cell_type": "code",
   "execution_count": 53,
   "metadata": {},
   "outputs": [
    {
     "data": {
      "text/html": [
       "0"
      ],
      "text/latex": [
       "0"
      ],
      "text/markdown": [
       "0"
      ],
      "text/plain": [
       "[1] 0"
      ]
     },
     "metadata": {},
     "output_type": "display_data"
    }
   ],
   "source": [
    "round(sum(y0),12)"
   ]
  },
  {
   "cell_type": "code",
   "execution_count": 54,
   "metadata": {},
   "outputs": [
    {
     "data": {
      "text/html": [
       "200"
      ],
      "text/latex": [
       "200"
      ],
      "text/markdown": [
       "200"
      ],
      "text/plain": [
       "[1] 200"
      ]
     },
     "metadata": {},
     "output_type": "display_data"
    },
    {
     "data": {
      "text/html": [
       "199"
      ],
      "text/latex": [
       "199"
      ],
      "text/markdown": [
       "199"
      ],
      "text/plain": [
       "[1] 199"
      ]
     },
     "metadata": {},
     "output_type": "display_data"
    }
   ],
   "source": [
    "# Total number of degrees of freedom\n",
    "n<-length(y)\n",
    "Totaldf<-n\n",
    "# Total number of degrees of freedom of the centered y\n",
    "Totaldf0<-n-1\n",
    "Totaldf\n",
    "Totaldf0"
   ]
  },
  {
   "cell_type": "markdown",
   "metadata": {},
   "source": [
    "## 03.02. Fitted values: Regression Sum of Squares and centered Regression Sum of Squares"
   ]
  },
  {
   "cell_type": "code",
   "execution_count": 55,
   "metadata": {},
   "outputs": [],
   "source": [
    "# Fitted values\n",
    "yhat<-fitted.values(lm.1)\n",
    "#yhat<-as.numeric(lm.1$fitted.values) # Alternative syntax\n",
    "# Centered fitted values\n",
    "yhat0<-yhat-mean(yhat)"
   ]
  },
  {
   "cell_type": "markdown",
   "metadata": {},
   "source": [
    "Check that `mean(y)` coincides with `mean(yhat)`"
   ]
  },
  {
   "cell_type": "code",
   "execution_count": 56,
   "metadata": {},
   "outputs": [
    {
     "data": {
      "text/html": [
       "44186.425"
      ],
      "text/latex": [
       "44186.425"
      ],
      "text/markdown": [
       "44186.425"
      ],
      "text/plain": [
       "[1] 44186.43"
      ]
     },
     "metadata": {},
     "output_type": "display_data"
    },
    {
     "data": {
      "text/html": [
       "4860.323"
      ],
      "text/latex": [
       "4860.323"
      ],
      "text/markdown": [
       "4860.323"
      ],
      "text/plain": [
       "[1] 4860.323"
      ]
     },
     "metadata": {},
     "output_type": "display_data"
    }
   ],
   "source": [
    "# Regression Sum of Squares\n",
    "RegSS<-sum(yhat^2)\n",
    "round(RegSS,3)\n",
    "# Centered Regression Sum of Squares\n",
    "RegSS0<-sum(yhat0^2)\n",
    "round(RegSS0,3)"
   ]
  },
  {
   "cell_type": "code",
   "execution_count": 57,
   "metadata": {},
   "outputs": [
    {
     "data": {
      "text/html": [
       "4"
      ],
      "text/latex": [
       "4"
      ],
      "text/markdown": [
       "4"
      ],
      "text/plain": [
       "[1] 4"
      ]
     },
     "metadata": {},
     "output_type": "display_data"
    },
    {
     "data": {
      "text/html": [
       "3"
      ],
      "text/latex": [
       "3"
      ],
      "text/markdown": [
       "3"
      ],
      "text/plain": [
       "[1] 3"
      ]
     },
     "metadata": {},
     "output_type": "display_data"
    }
   ],
   "source": [
    "# Number of degrees of freedom of the regression\n",
    "# = Number of predictors (including intercept)\n",
    "Regdf<-length(lm.1$coefficients)\n",
    "# Number of degrees of freedom of the regression (centered)\n",
    "Regdf0<-Regdf-1\n",
    "\n",
    "Regdf\n",
    "Regdf0"
   ]
  },
  {
   "cell_type": "markdown",
   "metadata": {},
   "source": [
    "## 03.03. Regression residuals and Residual Sum of Squares"
   ]
  },
  {
   "cell_type": "code",
   "execution_count": 58,
   "metadata": {},
   "outputs": [
    {
     "data": {
      "text/html": [
       "0"
      ],
      "text/latex": [
       "0"
      ],
      "text/markdown": [
       "0"
      ],
      "text/plain": [
       "[1] 0"
      ]
     },
     "metadata": {},
     "output_type": "display_data"
    }
   ],
   "source": [
    "# The regression residuals can be extracted as:\n",
    "ytilde<-residuals(lm.1)\n",
    "# ytilde<-as.numeric(lm.11$residuals) # Alternative syntax\n",
    "# Also: \n",
    "# ytilde<-y-yhat \n",
    "# or\n",
    "# ytilde<-y0-yhat0\n",
    "#\n",
    "# Note that, since both y and yhat have the same mean, regression residuals are centered.\n",
    "ResSS<-sum(ytilde^2)\n",
    "\n",
    "round(sum(ytilde),8)"
   ]
  },
  {
   "cell_type": "code",
   "execution_count": 59,
   "metadata": {},
   "outputs": [
    {
     "data": {
      "text/html": [
       "556.825"
      ],
      "text/latex": [
       "556.825"
      ],
      "text/markdown": [
       "556.825"
      ],
      "text/plain": [
       "[1] 556.825"
      ]
     },
     "metadata": {},
     "output_type": "display_data"
    },
    {
     "data": {
      "text/html": [
       "196"
      ],
      "text/latex": [
       "196"
      ],
      "text/markdown": [
       "196"
      ],
      "text/plain": [
       "[1] 196"
      ]
     },
     "metadata": {},
     "output_type": "display_data"
    }
   ],
   "source": [
    "Resdf<-Totaldf0-Regdf0\n",
    "round(ResSS,3)\n",
    "Resdf"
   ]
  },
  {
   "cell_type": "markdown",
   "metadata": {},
   "source": [
    "## 03.04. Pythagoras\n",
    "## [Total Sum of Squares]  =  [Regression Sum of Squares]  +  [Residual Sum of Squares]"
   ]
  },
  {
   "cell_type": "code",
   "execution_count": 60,
   "metadata": {},
   "outputs": [
    {
     "data": {
      "text/html": [
       "0"
      ],
      "text/latex": [
       "0"
      ],
      "text/markdown": [
       "0"
      ],
      "text/plain": [
       "[1] 0"
      ]
     },
     "metadata": {},
     "output_type": "display_data"
    },
    {
     "data": {
      "text/html": [
       "0"
      ],
      "text/latex": [
       "0"
      ],
      "text/markdown": [
       "0"
      ],
      "text/plain": [
       "[1] 0"
      ]
     },
     "metadata": {},
     "output_type": "display_data"
    }
   ],
   "source": [
    "# Both with the non-centered and with the centered version\n",
    "round(TotalSS-(RegSS+ResSS),10)\n",
    "round(TotalSS0-(RegSS0+ResSS),10)"
   ]
  },
  {
   "cell_type": "markdown",
   "metadata": {},
   "source": [
    "## 03.05. Regression Coefficient of Determination (Multiple R-squared)"
   ]
  },
  {
   "cell_type": "code",
   "execution_count": 61,
   "metadata": {},
   "outputs": [
    {
     "data": {
      "text/html": [
       "0.8972"
      ],
      "text/latex": [
       "0.8972"
      ],
      "text/markdown": [
       "0.8972"
      ],
      "text/plain": [
       "[1] 0.8972"
      ]
     },
     "metadata": {},
     "output_type": "display_data"
    }
   ],
   "source": [
    "# By definition, with the centered sums of squares\n",
    "R2<-RegSS0/TotalSS0\n",
    "round(R2,4)"
   ]
  },
  {
   "cell_type": "markdown",
   "metadata": {},
   "source": [
    "## 03.06. Adjusted Coefficient of Determination (Adjusted for the number $p$ of predictors)\n",
    "\n",
    "$$\n",
    "    {\\bar {R}}^{2}=1-(1-R^{2})\\dfrac{n-1}{n-p-1}\n",
    "$$\n",
    "\n",
    "The Adjusted Coefficient of Determination is also equal to:\n",
    "\n",
    "$$\n",
    "    {\\displaystyle {\\bar {R}}^{2}={1-{SS_{\\text{res}}/{\\text{df}}_{e} \\over SS_{\\text{tot}0}/{\\text{df}}_{t0}}}}\n",
    "$$"
   ]
  },
  {
   "cell_type": "code",
   "execution_count": 62,
   "metadata": {},
   "outputs": [
    {
     "data": {
      "text/html": [
       "0.8956"
      ],
      "text/latex": [
       "0.8956"
      ],
      "text/markdown": [
       "0.8956"
      ],
      "text/plain": [
       "[1] 0.8956"
      ]
     },
     "metadata": {},
     "output_type": "display_data"
    },
    {
     "data": {
      "text/html": [
       "0.8956"
      ],
      "text/latex": [
       "0.8956"
      ],
      "text/markdown": [
       "0.8956"
      ],
      "text/plain": [
       "[1] 0.8956"
      ]
     },
     "metadata": {},
     "output_type": "display_data"
    }
   ],
   "source": [
    "p<-Regdf0   # When p=1 the adjustment factor is 1\n",
    "R2adj.1<-1-(1-R2)*(n-1)/(n-p-1)\n",
    "round(R2adj.1,4)\n",
    "R2adj.2<-1-(ResSS/Resdf)/(TotalSS0/Totaldf0)\n",
    "round(R2adj.1,4)"
   ]
  },
  {
   "cell_type": "markdown",
   "metadata": {},
   "source": [
    "## 03.07. Mean squares and regression F statistic"
   ]
  },
  {
   "cell_type": "markdown",
   "metadata": {},
   "source": [
    "The quotient F is a measure of by how much _Regression Mean Squares_ exceeds _Residual Mean of Squares._\n",
    "\n",
    "Its purpose is to measure how large is \"regression\" as compared to \"residuals\" (per degree of freedom), meaning how\n",
    "\"decent\" is the model (a model where residuals are proportionally large is useless, everything is noise)"
   ]
  },
  {
   "cell_type": "code",
   "execution_count": 63,
   "metadata": {},
   "outputs": [
    {
     "data": {
      "text/html": [
       "27.222"
      ],
      "text/latex": [
       "27.222"
      ],
      "text/markdown": [
       "27.222"
      ],
      "text/plain": [
       "[1] 27.222"
      ]
     },
     "metadata": {},
     "output_type": "display_data"
    },
    {
     "data": {
      "text/html": [
       "1620.108"
      ],
      "text/latex": [
       "1620.108"
      ],
      "text/markdown": [
       "1620.108"
      ],
      "text/plain": [
       "[1] 1620.108"
      ]
     },
     "metadata": {},
     "output_type": "display_data"
    },
    {
     "data": {
      "text/html": [
       "2.841"
      ],
      "text/latex": [
       "2.841"
      ],
      "text/markdown": [
       "2.841"
      ],
      "text/plain": [
       "[1] 2.841"
      ]
     },
     "metadata": {},
     "output_type": "display_data"
    },
    {
     "data": {
      "text/html": [
       "570.271"
      ],
      "text/latex": [
       "570.271"
      ],
      "text/markdown": [
       "570.271"
      ],
      "text/plain": [
       "[1] 570.271"
      ]
     },
     "metadata": {},
     "output_type": "display_data"
    }
   ],
   "source": [
    "TotalMeanS0<-TotalSS0/Totaldf0\n",
    "RegMeanS0<-RegSS0/Regdf0\n",
    "ResMeanS<-ResSS/Resdf    # Remember that residuals are centered (hence there is no need of a \"0\" here)\n",
    "F<-RegMeanS0/ResMeanS\n",
    "round(TotalMeanS0,3)\n",
    "round(RegMeanS0,3)\n",
    "round(ResMeanS,3)\n",
    "#\n",
    "round(F,3)"
   ]
  },
  {
   "cell_type": "markdown",
   "metadata": {},
   "source": [
    "When the model is a **Gauss-Markov normal regression** (meaning that individual responses are normal, uncorrelated, and with equal variance) \n",
    "this quantity follows a Fisher-Snedecor distribution  $\\sim\\fdist(\\,\\text{Regdf0},\\,\\text{Resdf}\\,)$ with degrees of freedom `Regdf0` and `Resdf`. \n",
    "\n",
    "The resulting $p$-value is computed assuming this is true. When it is larger than the standard significance level ($p$-value > 0.05) we conclude the regression model is non-significant.\n",
    "\n",
    "Note that individual observations $y_{i}$ in a linear model cannot have _equal distribution,_ as their means are all different,  $\\mu_{i}=\\Ee(y_{i})=x_{i}\\cdot\\beta$."
   ]
  },
  {
   "cell_type": "code",
   "execution_count": 64,
   "metadata": {},
   "outputs": [
    {
     "data": {
      "text/html": [
       "3"
      ],
      "text/latex": [
       "3"
      ],
      "text/markdown": [
       "3"
      ],
      "text/plain": [
       "[1] 3"
      ]
     },
     "metadata": {},
     "output_type": "display_data"
    },
    {
     "data": {
      "text/html": [
       "196"
      ],
      "text/latex": [
       "196"
      ],
      "text/markdown": [
       "196"
      ],
      "text/plain": [
       "[1] 196"
      ]
     },
     "metadata": {},
     "output_type": "display_data"
    }
   ],
   "source": [
    "Regdf0\n",
    "Resdf"
   ]
  },
  {
   "cell_type": "code",
   "execution_count": 65,
   "metadata": {},
   "outputs": [
    {
     "data": {
      "text/html": [
       "0"
      ],
      "text/latex": [
       "0"
      ],
      "text/markdown": [
       "0"
      ],
      "text/plain": [
       "[1] 0"
      ]
     },
     "metadata": {},
     "output_type": "display_data"
    }
   ],
   "source": [
    "# The p-value is the probability of obtaining F values larger than the observed one, assuming true the null \n",
    "# hypothesis that there is no regression relationship.\n",
    "p.val<-1-pf(F,df1=Regdf0,df2=Resdf)\n",
    "round(p.val,10)"
   ]
  },
  {
   "cell_type": "markdown",
   "metadata": {},
   "source": [
    "Thus the regression is **highly** significant."
   ]
  },
  {
   "cell_type": "markdown",
   "metadata": {},
   "source": [
    "## 03.08. The `anova()` function\n",
    "\n",
    "Displays the Sums of Squares and Mean Squares, broken down by  contributions from each individual predictor and residuals."
   ]
  },
  {
   "cell_type": "code",
   "execution_count": 66,
   "metadata": {},
   "outputs": [
    {
     "data": {
      "text/html": [
       "<table class=\"dataframe\">\n",
       "<caption>A anova: 4 × 5</caption>\n",
       "<thead>\n",
       "\t<tr><th></th><th scope=col>Df</th><th scope=col>Sum Sq</th><th scope=col>Mean Sq</th><th scope=col>F value</th><th scope=col>Pr(&gt;F)</th></tr>\n",
       "\t<tr><th></th><th scope=col>&lt;int&gt;</th><th scope=col>&lt;dbl&gt;</th><th scope=col>&lt;dbl&gt;</th><th scope=col>&lt;dbl&gt;</th><th scope=col>&lt;dbl&gt;</th></tr>\n",
       "</thead>\n",
       "<tbody>\n",
       "\t<tr><th scope=row>TV</th><td>  1</td><td>3.314618e+03</td><td>3.314618e+03</td><td>1.166731e+03</td><td>1.809337e-84</td></tr>\n",
       "\t<tr><th scope=row>Radio</th><td>  1</td><td>1.545617e+03</td><td>1.545617e+03</td><td>5.440501e+02</td><td>1.882722e-58</td></tr>\n",
       "\t<tr><th scope=row>Newspaper</th><td>  1</td><td>8.871717e-02</td><td>8.871717e-02</td><td>3.122805e-02</td><td>8.599151e-01</td></tr>\n",
       "\t<tr><th scope=row>Residuals</th><td>196</td><td>5.568253e+02</td><td>2.840945e+00</td><td>          NA</td><td>          NA</td></tr>\n",
       "</tbody>\n",
       "</table>\n"
      ],
      "text/latex": [
       "A anova: 4 × 5\n",
       "\\begin{tabular}{r|lllll}\n",
       "  & Df & Sum Sq & Mean Sq & F value & Pr(>F)\\\\\n",
       "  & <int> & <dbl> & <dbl> & <dbl> & <dbl>\\\\\n",
       "\\hline\n",
       "\tTV &   1 & 3.314618e+03 & 3.314618e+03 & 1.166731e+03 & 1.809337e-84\\\\\n",
       "\tRadio &   1 & 1.545617e+03 & 1.545617e+03 & 5.440501e+02 & 1.882722e-58\\\\\n",
       "\tNewspaper &   1 & 8.871717e-02 & 8.871717e-02 & 3.122805e-02 & 8.599151e-01\\\\\n",
       "\tResiduals & 196 & 5.568253e+02 & 2.840945e+00 &           NA &           NA\\\\\n",
       "\\end{tabular}\n"
      ],
      "text/markdown": [
       "\n",
       "A anova: 4 × 5\n",
       "\n",
       "| <!--/--> | Df &lt;int&gt; | Sum Sq &lt;dbl&gt; | Mean Sq &lt;dbl&gt; | F value &lt;dbl&gt; | Pr(&gt;F) &lt;dbl&gt; |\n",
       "|---|---|---|---|---|---|\n",
       "| TV |   1 | 3.314618e+03 | 3.314618e+03 | 1.166731e+03 | 1.809337e-84 |\n",
       "| Radio |   1 | 1.545617e+03 | 1.545617e+03 | 5.440501e+02 | 1.882722e-58 |\n",
       "| Newspaper |   1 | 8.871717e-02 | 8.871717e-02 | 3.122805e-02 | 8.599151e-01 |\n",
       "| Residuals | 196 | 5.568253e+02 | 2.840945e+00 |           NA |           NA |\n",
       "\n"
      ],
      "text/plain": [
       "          Df  Sum Sq       Mean Sq      F value      Pr(>F)      \n",
       "TV          1 3.314618e+03 3.314618e+03 1.166731e+03 1.809337e-84\n",
       "Radio       1 1.545617e+03 1.545617e+03 5.440501e+02 1.882722e-58\n",
       "Newspaper   1 8.871717e-02 8.871717e-02 3.122805e-02 8.599151e-01\n",
       "Residuals 196 5.568253e+02 2.840945e+00           NA           NA"
      ]
     },
     "metadata": {},
     "output_type": "display_data"
    },
    {
     "name": "stdout",
     "output_type": "stream",
     "text": [
      "Classes 'anova' and 'data.frame':\t4 obs. of  5 variables:\n",
      " $ Df     : int  1 1 1 196\n",
      " $ Sum Sq : num  3.31e+03 1.55e+03 8.87e-02 5.57e+02\n",
      " $ Mean Sq: num  3.31e+03 1.55e+03 8.87e-02 2.84\n",
      " $ F value: num  1.17e+03 5.44e+02 3.12e-02 NA\n",
      " $ Pr(>F) : num  1.81e-84 1.88e-58 8.60e-01 NA\n",
      " - attr(*, \"heading\")= chr [1:2] \"Analysis of Variance Table\\n\" \"Response: Sales\"\n"
     ]
    }
   ],
   "source": [
    "lm.1.anova<-anova(lm.1)\n",
    "lm.1.anova\n",
    "str(lm.1.anova)"
   ]
  },
  {
   "cell_type": "markdown",
   "metadata": {},
   "source": [
    "## 03.09. Residual standard error (estimate $\\hat{\\sigma}$ of the residuals standard deviation)"
   ]
  },
  {
   "cell_type": "code",
   "execution_count": 67,
   "metadata": {},
   "outputs": [
    {
     "data": {
      "text/html": [
       "1.686"
      ],
      "text/latex": [
       "1.686"
      ],
      "text/markdown": [
       "1.686"
      ],
      "text/plain": [
       "[1] 1.686"
      ]
     },
     "metadata": {},
     "output_type": "display_data"
    }
   ],
   "source": [
    "# Computing from the relevant quantities above we have:\n",
    "ResSE<-sqrt(ResMeanS)\n",
    "round(ResSE,3)"
   ]
  },
  {
   "cell_type": "code",
   "execution_count": 68,
   "metadata": {},
   "outputs": [
    {
     "data": {
      "text/html": [
       "1.686"
      ],
      "text/latex": [
       "1.686"
      ],
      "text/markdown": [
       "1.686"
      ],
      "text/plain": [
       "[1] 1.686"
      ]
     },
     "metadata": {},
     "output_type": "display_data"
    }
   ],
   "source": [
    "# Alternatively, from the anova() function output:\n",
    "Residuals.row<-p+1                        # Number of predictor variables+1\n",
    "sigma2.hat<-lm.1.anova$Sum[Residuals.row]/lm.1.anova$Df[Residuals.row]\n",
    "sigma.hat<-sqrt(sigma2.hat)\n",
    "round(sigma.hat,3)"
   ]
  },
  {
   "cell_type": "markdown",
   "metadata": {},
   "source": [
    "## 03.10. Matrix of variances and covariances of $\\hat{\\beta}$. The `vcov()` function"
   ]
  },
  {
   "cell_type": "code",
   "execution_count": 69,
   "metadata": {},
   "outputs": [
    {
     "data": {
      "text/html": [
       "<table class=\"dataframe\">\n",
       "<caption>A matrix: 4 × 4 of type dbl</caption>\n",
       "<thead>\n",
       "\t<tr><th></th><th scope=col>(Intercept)</th><th scope=col>TV</th><th scope=col>Radio</th><th scope=col>Newspaper</th></tr>\n",
       "</thead>\n",
       "<tbody>\n",
       "\t<tr><th scope=row>(Intercept)</th><td> 0.097287</td><td>-0.000266</td><td>-0.001115</td><td>-0.000591</td></tr>\n",
       "\t<tr><th scope=row>TV</th><td>-0.000266</td><td> 0.000002</td><td> 0.000000</td><td> 0.000000</td></tr>\n",
       "\t<tr><th scope=row>Radio</th><td>-0.001115</td><td> 0.000000</td><td> 0.000074</td><td>-0.000018</td></tr>\n",
       "\t<tr><th scope=row>Newspaper</th><td>-0.000591</td><td> 0.000000</td><td>-0.000018</td><td> 0.000034</td></tr>\n",
       "</tbody>\n",
       "</table>\n"
      ],
      "text/latex": [
       "A matrix: 4 × 4 of type dbl\n",
       "\\begin{tabular}{r|llll}\n",
       "  & (Intercept) & TV & Radio & Newspaper\\\\\n",
       "\\hline\n",
       "\t(Intercept) &  0.097287 & -0.000266 & -0.001115 & -0.000591\\\\\n",
       "\tTV & -0.000266 &  0.000002 &  0.000000 &  0.000000\\\\\n",
       "\tRadio & -0.001115 &  0.000000 &  0.000074 & -0.000018\\\\\n",
       "\tNewspaper & -0.000591 &  0.000000 & -0.000018 &  0.000034\\\\\n",
       "\\end{tabular}\n"
      ],
      "text/markdown": [
       "\n",
       "A matrix: 4 × 4 of type dbl\n",
       "\n",
       "| <!--/--> | (Intercept) | TV | Radio | Newspaper |\n",
       "|---|---|---|---|---|\n",
       "| (Intercept) |  0.097287 | -0.000266 | -0.001115 | -0.000591 |\n",
       "| TV | -0.000266 |  0.000002 |  0.000000 |  0.000000 |\n",
       "| Radio | -0.001115 |  0.000000 |  0.000074 | -0.000018 |\n",
       "| Newspaper | -0.000591 |  0.000000 | -0.000018 |  0.000034 |\n",
       "\n"
      ],
      "text/plain": [
       "            (Intercept) TV        Radio     Newspaper\n",
       "(Intercept)  0.097287   -0.000266 -0.001115 -0.000591\n",
       "TV          -0.000266    0.000002  0.000000  0.000000\n",
       "Radio       -0.001115    0.000000  0.000074 -0.000018\n",
       "Newspaper   -0.000591    0.000000 -0.000018  0.000034"
      ]
     },
     "metadata": {},
     "output_type": "display_data"
    }
   ],
   "source": [
    "V<-vcov(lm.1)\n",
    "round(V,6)"
   ]
  },
  {
   "cell_type": "markdown",
   "metadata": {},
   "source": [
    "## 03.11. Estimates of the standard deviations of the regression coefficients estimators"
   ]
  },
  {
   "cell_type": "code",
   "execution_count": 70,
   "metadata": {},
   "outputs": [
    {
     "data": {
      "text/html": [
       "<style>\n",
       ".list-inline {list-style: none; margin:0; padding: 0}\n",
       ".list-inline>li {display: inline-block}\n",
       ".list-inline>li:not(:last-child)::after {content: \"\\00b7\"; padding: 0 .5ex}\n",
       "</style>\n",
       "<ol class=list-inline><li>0.3119</li><li>0.0014</li><li>0.0086</li><li>0.0059</li></ol>\n"
      ],
      "text/latex": [
       "\\begin{enumerate*}\n",
       "\\item 0.3119\n",
       "\\item 0.0014\n",
       "\\item 0.0086\n",
       "\\item 0.0059\n",
       "\\end{enumerate*}\n"
      ],
      "text/markdown": [
       "1. 0.3119\n",
       "2. 0.0014\n",
       "3. 0.0086\n",
       "4. 0.0059\n",
       "\n",
       "\n"
      ],
      "text/plain": [
       "[1] 0.3119 0.0014 0.0086 0.0059"
      ]
     },
     "metadata": {},
     "output_type": "display_data"
    }
   ],
   "source": [
    "sigma2<-as.numeric(diag(V))\n",
    "sigma<-sqrt(sigma2)\n",
    "round(sigma,4)"
   ]
  },
  {
   "cell_type": "markdown",
   "metadata": {},
   "source": [
    "## 03.12. Student's $ t$ statistics\n",
    "\n",
    "A standardized measure of how much each of the regression coefficients differs from zero.\n",
    "\n",
    "These quantities follow a Student's distribution $t(n-p-1)$ when data satisfy the **Gauss-Markov conditions** (uncorrelated normal observations of the response variable, all with the same variance). \n",
    "\n",
    "For each coefficient, the $p$-value is, in principle, used to test the hypotheses:\n",
    "\n",
    "$$\n",
    "\\left\\{\n",
    "\\begin{array}{cl}\n",
    "    H_{0}: \\mskip15mu&\\text{The coefficient is null,}\\\\\n",
    "    H_{1}: \\mskip15mu&\\text{The coefficient is not zero,}\n",
    "\\end{array}\\right.\n",
    "$$\n",
    "\n",
    "**In practice, these $p$-valors should be taken as a mere hint,** as a first step towards a more precise assessment of the importance of each predictor."
   ]
  },
  {
   "cell_type": "code",
   "execution_count": 71,
   "metadata": {},
   "outputs": [
    {
     "data": {
      "text/html": [
       "<style>\n",
       ".list-inline {list-style: none; margin:0; padding: 0}\n",
       ".list-inline>li {display: inline-block}\n",
       ".list-inline>li:not(:last-child)::after {content: \"\\00b7\"; padding: 0 .5ex}\n",
       "</style>\n",
       "<ol class=list-inline><li>9.4223</li><li>32.8086</li><li>21.8935</li><li>-0.1767</li></ol>\n"
      ],
      "text/latex": [
       "\\begin{enumerate*}\n",
       "\\item 9.4223\n",
       "\\item 32.8086\n",
       "\\item 21.8935\n",
       "\\item -0.1767\n",
       "\\end{enumerate*}\n"
      ],
      "text/markdown": [
       "1. 9.4223\n",
       "2. 32.8086\n",
       "3. 21.8935\n",
       "4. -0.1767\n",
       "\n",
       "\n"
      ],
      "text/plain": [
       "[1]  9.4223 32.8086 21.8935 -0.1767"
      ]
     },
     "metadata": {},
     "output_type": "display_data"
    },
    {
     "data": {
      "text/html": [
       "<style>\n",
       ".list-inline {list-style: none; margin:0; padding: 0}\n",
       ".list-inline>li {display: inline-block}\n",
       ".list-inline>li:not(:last-child)::after {content: \"\\00b7\"; padding: 0 .5ex}\n",
       "</style>\n",
       "<ol class=list-inline><li>0</li><li>0</li><li>0</li><li>0.859915050081</li></ol>\n"
      ],
      "text/latex": [
       "\\begin{enumerate*}\n",
       "\\item 0\n",
       "\\item 0\n",
       "\\item 0\n",
       "\\item 0.859915050081\n",
       "\\end{enumerate*}\n"
      ],
      "text/markdown": [
       "1. 0\n",
       "2. 0\n",
       "3. 0\n",
       "4. 0.859915050081\n",
       "\n",
       "\n"
      ],
      "text/plain": [
       "[1] 0.0000000 0.0000000 0.0000000 0.8599151"
      ]
     },
     "metadata": {},
     "output_type": "display_data"
    },
    {
     "data": {
      "text/html": [
       "<table class=\"dataframe\">\n",
       "<caption>A matrix: 4 × 4 of type dbl</caption>\n",
       "<thead>\n",
       "\t<tr><th></th><th scope=col>Estimate</th><th scope=col>Std. Error</th><th scope=col>t value</th><th scope=col>Pr(&gt;|t|)</th></tr>\n",
       "</thead>\n",
       "<tbody>\n",
       "\t<tr><th scope=row>(Intercept)</th><td> 2.938889369</td><td>0.311908236</td><td> 9.4222884</td><td>1.267295e-17</td></tr>\n",
       "\t<tr><th scope=row>TV</th><td> 0.045764645</td><td>0.001394897</td><td>32.8086244</td><td>1.509960e-81</td></tr>\n",
       "\t<tr><th scope=row>Radio</th><td> 0.188530017</td><td>0.008611234</td><td>21.8934961</td><td>1.505339e-54</td></tr>\n",
       "\t<tr><th scope=row>Newspaper</th><td>-0.001037493</td><td>0.005871010</td><td>-0.1767146</td><td>8.599151e-01</td></tr>\n",
       "</tbody>\n",
       "</table>\n"
      ],
      "text/latex": [
       "A matrix: 4 × 4 of type dbl\n",
       "\\begin{tabular}{r|llll}\n",
       "  & Estimate & Std. Error & t value & Pr(>\\textbar{}t\\textbar{})\\\\\n",
       "\\hline\n",
       "\t(Intercept) &  2.938889369 & 0.311908236 &  9.4222884 & 1.267295e-17\\\\\n",
       "\tTV &  0.045764645 & 0.001394897 & 32.8086244 & 1.509960e-81\\\\\n",
       "\tRadio &  0.188530017 & 0.008611234 & 21.8934961 & 1.505339e-54\\\\\n",
       "\tNewspaper & -0.001037493 & 0.005871010 & -0.1767146 & 8.599151e-01\\\\\n",
       "\\end{tabular}\n"
      ],
      "text/markdown": [
       "\n",
       "A matrix: 4 × 4 of type dbl\n",
       "\n",
       "| <!--/--> | Estimate | Std. Error | t value | Pr(&gt;|t|) |\n",
       "|---|---|---|---|---|\n",
       "| (Intercept) |  2.938889369 | 0.311908236 |  9.4222884 | 1.267295e-17 |\n",
       "| TV |  0.045764645 | 0.001394897 | 32.8086244 | 1.509960e-81 |\n",
       "| Radio |  0.188530017 | 0.008611234 | 21.8934961 | 1.505339e-54 |\n",
       "| Newspaper | -0.001037493 | 0.005871010 | -0.1767146 | 8.599151e-01 |\n",
       "\n"
      ],
      "text/plain": [
       "            Estimate     Std. Error  t value    Pr(>|t|)    \n",
       "(Intercept)  2.938889369 0.311908236  9.4222884 1.267295e-17\n",
       "TV           0.045764645 0.001394897 32.8086244 1.509960e-81\n",
       "Radio        0.188530017 0.008611234 21.8934961 1.505339e-54\n",
       "Newspaper   -0.001037493 0.005871010 -0.1767146 8.599151e-01"
      ]
     },
     "metadata": {},
     "output_type": "display_data"
    }
   ],
   "source": [
    "t.statistic<-as.numeric(lm.1$coefficients)/sigma\n",
    "round(t.statistic,4)\n",
    "p.val<-2*pt(-abs(t.statistic),n-p-1)\n",
    "round(p.val,12)\n",
    "S<-summary(lm.1,digits=3)\n",
    "coefficients(S)"
   ]
  },
  {
   "cell_type": "markdown",
   "metadata": {},
   "source": [
    "## 03.13. The regression matrix (or model matrix)\n",
    "\n",
    "Now we see how the least squares regression is actually computed:"
   ]
  },
  {
   "cell_type": "code",
   "execution_count": 72,
   "metadata": {},
   "outputs": [
    {
     "data": {
      "text/html": [
       "<table class=\"dataframe\">\n",
       "<caption>A matrix: 6 × 4 of type dbl</caption>\n",
       "<thead>\n",
       "\t<tr><th></th><th scope=col>(Intercept)</th><th scope=col>TV</th><th scope=col>Radio</th><th scope=col>Newspaper</th></tr>\n",
       "</thead>\n",
       "<tbody>\n",
       "\t<tr><th scope=row>1</th><td>1</td><td>230.1</td><td>37.8</td><td>69.2</td></tr>\n",
       "\t<tr><th scope=row>2</th><td>1</td><td> 44.5</td><td>39.3</td><td>45.1</td></tr>\n",
       "\t<tr><th scope=row>3</th><td>1</td><td> 17.2</td><td>45.9</td><td>69.3</td></tr>\n",
       "\t<tr><th scope=row>4</th><td>1</td><td>151.5</td><td>41.3</td><td>58.5</td></tr>\n",
       "\t<tr><th scope=row>5</th><td>1</td><td>180.8</td><td>10.8</td><td>58.4</td></tr>\n",
       "\t<tr><th scope=row>6</th><td>1</td><td>  8.7</td><td>48.9</td><td>75.0</td></tr>\n",
       "</tbody>\n",
       "</table>\n"
      ],
      "text/latex": [
       "A matrix: 6 × 4 of type dbl\n",
       "\\begin{tabular}{r|llll}\n",
       "  & (Intercept) & TV & Radio & Newspaper\\\\\n",
       "\\hline\n",
       "\t1 & 1 & 230.1 & 37.8 & 69.2\\\\\n",
       "\t2 & 1 &  44.5 & 39.3 & 45.1\\\\\n",
       "\t3 & 1 &  17.2 & 45.9 & 69.3\\\\\n",
       "\t4 & 1 & 151.5 & 41.3 & 58.5\\\\\n",
       "\t5 & 1 & 180.8 & 10.8 & 58.4\\\\\n",
       "\t6 & 1 &   8.7 & 48.9 & 75.0\\\\\n",
       "\\end{tabular}\n"
      ],
      "text/markdown": [
       "\n",
       "A matrix: 6 × 4 of type dbl\n",
       "\n",
       "| <!--/--> | (Intercept) | TV | Radio | Newspaper |\n",
       "|---|---|---|---|---|\n",
       "| 1 | 1 | 230.1 | 37.8 | 69.2 |\n",
       "| 2 | 1 |  44.5 | 39.3 | 45.1 |\n",
       "| 3 | 1 |  17.2 | 45.9 | 69.3 |\n",
       "| 4 | 1 | 151.5 | 41.3 | 58.5 |\n",
       "| 5 | 1 | 180.8 | 10.8 | 58.4 |\n",
       "| 6 | 1 |   8.7 | 48.9 | 75.0 |\n",
       "\n"
      ],
      "text/plain": [
       "  (Intercept) TV    Radio Newspaper\n",
       "1 1           230.1 37.8  69.2     \n",
       "2 1            44.5 39.3  45.1     \n",
       "3 1            17.2 45.9  69.3     \n",
       "4 1           151.5 41.3  58.5     \n",
       "5 1           180.8 10.8  58.4     \n",
       "6 1             8.7 48.9  75.0     "
      ]
     },
     "metadata": {},
     "output_type": "display_data"
    }
   ],
   "source": [
    "X<-model.matrix(lm.1)\n",
    "attr(X,\"assign\")<-NULL\n",
    "#str(X)\n",
    "head(X)"
   ]
  },
  {
   "cell_type": "markdown",
   "metadata": {},
   "source": [
    "## 03.14. Regression coefficients (estimates of)\n",
    "\n",
    "$$\n",
    "    \\mskip-600mu\\text{The regression coefficients vector} \n",
    "    \\mskip20mu\\widehat{\\beta}=\\left(\\begin{array}{c}\\hat{\\beta}_{0}\\\\\\hat{\\beta}_{1}\\\\\\vdots\\\\\\hat{\\beta}_{1}\\end{array}\\right)\\mskip20mu\n",
    "    \\text{is computed as:}\\mskip20mu\n",
    "    \\widehat{\\beta}=(X'\\cdot X)^{-1}\\cdot X' \\cdot y\n",
    "$$"
   ]
  },
  {
   "cell_type": "code",
   "execution_count": 73,
   "metadata": {},
   "outputs": [
    {
     "data": {
      "text/html": [
       "<table class=\"dataframe\">\n",
       "<caption>A matrix: 4 × 4 of type dbl</caption>\n",
       "<thead>\n",
       "\t<tr><th></th><th scope=col>(Intercept)</th><th scope=col>TV</th><th scope=col>Radio</th><th scope=col>Newspaper</th></tr>\n",
       "</thead>\n",
       "<tbody>\n",
       "\t<tr><th scope=row>(Intercept)</th><td>  200.0</td><td>  29408.5</td><td>  4652.8</td><td>  6110.8</td></tr>\n",
       "\t<tr><th scope=row>TV</th><td>29408.5</td><td>5791118.4</td><td>698062.0</td><td>919625.3</td></tr>\n",
       "\t<tr><th scope=row>Radio</th><td> 4652.8</td><td> 698062.0</td><td>152107.9</td><td>164946.5</td></tr>\n",
       "\t<tr><th scope=row>Newspaper</th><td> 6110.8</td><td> 919625.3</td><td>164946.5</td><td>281096.7</td></tr>\n",
       "</tbody>\n",
       "</table>\n"
      ],
      "text/latex": [
       "A matrix: 4 × 4 of type dbl\n",
       "\\begin{tabular}{r|llll}\n",
       "  & (Intercept) & TV & Radio & Newspaper\\\\\n",
       "\\hline\n",
       "\t(Intercept) &   200.0 &   29408.5 &   4652.8 &   6110.8\\\\\n",
       "\tTV & 29408.5 & 5791118.4 & 698062.0 & 919625.3\\\\\n",
       "\tRadio &  4652.8 &  698062.0 & 152107.9 & 164946.5\\\\\n",
       "\tNewspaper &  6110.8 &  919625.3 & 164946.5 & 281096.7\\\\\n",
       "\\end{tabular}\n"
      ],
      "text/markdown": [
       "\n",
       "A matrix: 4 × 4 of type dbl\n",
       "\n",
       "| <!--/--> | (Intercept) | TV | Radio | Newspaper |\n",
       "|---|---|---|---|---|\n",
       "| (Intercept) |   200.0 |   29408.5 |   4652.8 |   6110.8 |\n",
       "| TV | 29408.5 | 5791118.4 | 698062.0 | 919625.3 |\n",
       "| Radio |  4652.8 |  698062.0 | 152107.9 | 164946.5 |\n",
       "| Newspaper |  6110.8 |  919625.3 | 164946.5 | 281096.7 |\n",
       "\n"
      ],
      "text/plain": [
       "            (Intercept) TV        Radio    Newspaper\n",
       "(Intercept)   200.0       29408.5   4652.8   6110.8 \n",
       "TV          29408.5     5791118.4 698062.0 919625.3 \n",
       "Radio        4652.8      698062.0 152107.9 164946.5 \n",
       "Newspaper    6110.8      919625.3 164946.5 281096.7 "
      ]
     },
     "metadata": {},
     "output_type": "display_data"
    }
   ],
   "source": [
    "# Matrix to invert\n",
    "Q<-t(X) %*% X\n",
    "round(Q,3)"
   ]
  },
  {
   "cell_type": "code",
   "execution_count": 74,
   "metadata": {},
   "outputs": [
    {
     "data": {
      "text/html": [
       "<table class=\"dataframe\">\n",
       "<caption>A matrix: 4 × 1 of type dbl</caption>\n",
       "<tbody>\n",
       "\t<tr><th scope=row>(Intercept)</th><td> 2.9389</td></tr>\n",
       "\t<tr><th scope=row>TV</th><td> 0.0458</td></tr>\n",
       "\t<tr><th scope=row>Radio</th><td> 0.1885</td></tr>\n",
       "\t<tr><th scope=row>Newspaper</th><td>-0.0010</td></tr>\n",
       "</tbody>\n",
       "</table>\n"
      ],
      "text/latex": [
       "A matrix: 4 × 1 of type dbl\n",
       "\\begin{tabular}{r|l}\n",
       "\t(Intercept) &  2.9389\\\\\n",
       "\tTV &  0.0458\\\\\n",
       "\tRadio &  0.1885\\\\\n",
       "\tNewspaper & -0.0010\\\\\n",
       "\\end{tabular}\n"
      ],
      "text/markdown": [
       "\n",
       "A matrix: 4 × 1 of type dbl\n",
       "\n",
       "| (Intercept) |  2.9389 |\n",
       "| TV |  0.0458 |\n",
       "| Radio |  0.1885 |\n",
       "| Newspaper | -0.0010 |\n",
       "\n"
      ],
      "text/plain": [
       "            [,1]   \n",
       "(Intercept)  2.9389\n",
       "TV           0.0458\n",
       "Radio        0.1885\n",
       "Newspaper   -0.0010"
      ]
     },
     "metadata": {},
     "output_type": "display_data"
    }
   ],
   "source": [
    "# Compute regression coefficients:\n",
    "Q1<-solve(Q)   # inverse matrix\n",
    "beta.hat<-Q1 %*%t(X) %*% y\n",
    "round(beta.hat,4)"
   ]
  },
  {
   "cell_type": "markdown",
   "metadata": {},
   "source": [
    "## 03.15. The hat matrix and the fitted $ \\hat{y}$ values\n",
    "\n",
    "The hat matrix for a regression with model matrix $X$ is:\n",
    "\n",
    "$$\n",
    "    H=X\\cdot(X'\\cdot X)^{-1}\\cdot X'.\n",
    "$$\n",
    "\n",
    "It satisfies that:\n",
    "\n",
    "$$\n",
    "    H\\cdot y  = X\\cdot(X'\\cdot X)^{-1}\\cdot X'\\cdot y= X\\cdot(X'\\cdot X)^{-1}\\cdot X'\\cdot y = X\\cdot \\hat{\\beta} = \\hat{y}.\n",
    "$$"
   ]
  },
  {
   "cell_type": "code",
   "execution_count": 75,
   "metadata": {},
   "outputs": [],
   "source": [
    "# The hat matrix is the [n,n] matrix:\n",
    "H<-X %*% solve(Q)%*%t(X)\n",
    "# H is the operator that \"puts a hat\" on y, giving yhat. "
   ]
  },
  {
   "cell_type": "code",
   "execution_count": 76,
   "metadata": {},
   "outputs": [
    {
     "data": {
      "text/html": [
       "0"
      ],
      "text/latex": [
       "0"
      ],
      "text/markdown": [
       "0"
      ],
      "text/plain": [
       "[1] 0"
      ]
     },
     "metadata": {},
     "output_type": "display_data"
    }
   ],
   "source": [
    "# Check that indeed this yhat coincides with the one obtained above\n",
    "yhat.1<-H %*% y\n",
    "round(max(abs(yhat-yhat.1)),12)"
   ]
  },
  {
   "cell_type": "markdown",
   "metadata": {},
   "source": [
    "Properties of $ H$:\n",
    "- $H$ is an $n\\times n$ symmetric, idempotent matrix ($H'=H$, $H\\cdot H =H$), that is, $H$ is an _orthogonal projection_ matrix.\n",
    "- Its _trace_ (sum of diagonal entries), $\\def\\tr{\\operatorname{tr}}$ $\\tr(H)=p+1$ (actually, is is equal to the rank of $X$)"
   ]
  },
  {
   "cell_type": "code",
   "execution_count": 77,
   "metadata": {},
   "outputs": [
    {
     "data": {
      "text/html": [
       "0"
      ],
      "text/latex": [
       "0"
      ],
      "text/markdown": [
       "0"
      ],
      "text/plain": [
       "[1] 0"
      ]
     },
     "metadata": {},
     "output_type": "display_data"
    },
    {
     "data": {
      "text/html": [
       "4"
      ],
      "text/latex": [
       "4"
      ],
      "text/markdown": [
       "4"
      ],
      "text/plain": [
       "[1] 4"
      ]
     },
     "metadata": {},
     "output_type": "display_data"
    }
   ],
   "source": [
    "# H is an idempotent matrix. The square of H is equal to H.\n",
    "round(max(abs(H %*% H - H)),15)\n",
    "# The sum of diagonal entries in H (the trace of H) is equal to the rank of X\n",
    "sum(diag(H))"
   ]
  },
  {
   "cell_type": "markdown",
   "metadata": {},
   "source": [
    "## 03.16. Matrix of variances and covariances of $ \\hat{\\beta}$.\n",
    "\n",
    "The matrix of variances and covariances of the coefficients vector:\n",
    "\n",
    "$$\n",
    "    \\hat{\\beta}=(X'\\cdot X)^{-1}\\cdot X' \\cdot y\n",
    "$$\n",
    "\n",
    "is computed by:\n",
    "\n",
    "$$\n",
    "    \\operatorname{Var}(\\hat{\\beta})=(X'\\cdot X)^{-1}\\cdot X'\n",
    "       \\cdot\\operatorname{Var}(y)\\cdot X\\cdot(X'\\cdot X)^{-1}\n",
    "$$\n",
    "\n",
    "Under the Gauss-Markov condition, $\\operatorname{Var}(y)=\\sigma^2\\,I$ and the expression above is simplified:\n",
    "\n",
    "$$\n",
    "      \\operatorname{Var}(\\hat{\\beta})=\\sigma^2\\,(X'\\cdot X)^{-1}\n",
    "$$"
   ]
  },
  {
   "cell_type": "code",
   "execution_count": 78,
   "metadata": {},
   "outputs": [
    {
     "data": {
      "text/html": [
       "<table class=\"dataframe\">\n",
       "<caption>A matrix: 4 × 4 of type dbl</caption>\n",
       "<thead>\n",
       "\t<tr><th></th><th scope=col>(Intercept)</th><th scope=col>TV</th><th scope=col>Radio</th><th scope=col>Newspaper</th></tr>\n",
       "</thead>\n",
       "<tbody>\n",
       "\t<tr><th scope=row>(Intercept)</th><td> 0.097287</td><td>-0.000266</td><td>-0.001115</td><td>-0.000591</td></tr>\n",
       "\t<tr><th scope=row>TV</th><td>-0.000266</td><td> 0.000002</td><td> 0.000000</td><td> 0.000000</td></tr>\n",
       "\t<tr><th scope=row>Radio</th><td>-0.001115</td><td> 0.000000</td><td> 0.000074</td><td>-0.000018</td></tr>\n",
       "\t<tr><th scope=row>Newspaper</th><td>-0.000591</td><td> 0.000000</td><td>-0.000018</td><td> 0.000034</td></tr>\n",
       "</tbody>\n",
       "</table>\n"
      ],
      "text/latex": [
       "A matrix: 4 × 4 of type dbl\n",
       "\\begin{tabular}{r|llll}\n",
       "  & (Intercept) & TV & Radio & Newspaper\\\\\n",
       "\\hline\n",
       "\t(Intercept) &  0.097287 & -0.000266 & -0.001115 & -0.000591\\\\\n",
       "\tTV & -0.000266 &  0.000002 &  0.000000 &  0.000000\\\\\n",
       "\tRadio & -0.001115 &  0.000000 &  0.000074 & -0.000018\\\\\n",
       "\tNewspaper & -0.000591 &  0.000000 & -0.000018 &  0.000034\\\\\n",
       "\\end{tabular}\n"
      ],
      "text/markdown": [
       "\n",
       "A matrix: 4 × 4 of type dbl\n",
       "\n",
       "| <!--/--> | (Intercept) | TV | Radio | Newspaper |\n",
       "|---|---|---|---|---|\n",
       "| (Intercept) |  0.097287 | -0.000266 | -0.001115 | -0.000591 |\n",
       "| TV | -0.000266 |  0.000002 |  0.000000 |  0.000000 |\n",
       "| Radio | -0.001115 |  0.000000 |  0.000074 | -0.000018 |\n",
       "| Newspaper | -0.000591 |  0.000000 | -0.000018 |  0.000034 |\n",
       "\n"
      ],
      "text/plain": [
       "            (Intercept) TV        Radio     Newspaper\n",
       "(Intercept)  0.097287   -0.000266 -0.001115 -0.000591\n",
       "TV          -0.000266    0.000002  0.000000  0.000000\n",
       "Radio       -0.001115    0.000000  0.000074 -0.000018\n",
       "Newspaper   -0.000591    0.000000 -0.000018  0.000034"
      ]
     },
     "metadata": {},
     "output_type": "display_data"
    }
   ],
   "source": [
    "# Compare this V1 with the one obtained above with the vcov() function\n",
    "V1<-Q1*sigma2.hat\n",
    "round(V1,6)"
   ]
  }
 ],
 "metadata": {
  "kernelspec": {
   "display_name": "R",
   "language": "R",
   "name": "ir"
  },
  "language_info": {
   "codemirror_mode": "r",
   "file_extension": ".r",
   "mimetype": "text/x-r-source",
   "name": "R",
   "pygments_lexer": "r",
   "version": "4.2.2"
  }
 },
 "nbformat": 4,
 "nbformat_minor": 4
}
