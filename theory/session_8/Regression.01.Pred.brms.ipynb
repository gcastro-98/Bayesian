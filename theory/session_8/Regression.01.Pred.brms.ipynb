{
 "cells": [
  {
   "cell_type": "markdown",
   "id": "74b9261f-7b10-4c5b-8eee-183a005885de",
   "metadata": {
    "tags": []
   },
   "source": [
    "# Linear Regression <h3 style=\"color:green\">brms version</h3>\n",
    "\n",
    "### Posterior distribution _(of regression parameters),_ and \n",
    "### Posterior predictive distribution _(of new $y$ predictions)._"
   ]
  },
  {
   "cell_type": "markdown",
   "id": "a62f4a91-6bf2-42ac-b444-afa1359784d9",
   "metadata": {
    "tags": []
   },
   "source": [
    "## _Josep Fortiana_ &emsp;&emsp;&emsp;&emsp;&emsp; 2023-04-17"
   ]
  },
  {
   "cell_type": "markdown",
   "id": "e978d3b6-fb6a-4dd1-b772-08ecaf485074",
   "metadata": {},
   "source": [
    "# 01. Simple linear regression: A simulated example"
   ]
  },
  {
   "cell_type": "markdown",
   "id": "f64e5625-964d-4c6d-af39-a1df0ac41e9a",
   "metadata": {},
   "source": [
    "### Generate a simulated dataset for simple linear regression"
   ]
  },
  {
   "cell_type": "code",
   "execution_count": 1,
   "id": "fdaf591d-5e47-4c13-b729-9d74b4316fa6",
   "metadata": {},
   "outputs": [],
   "source": [
    "# More or less arbitrary parameters for the data generation\n",
    "trueA<-1   \n",
    "trueB<-5\n",
    "trueSd<-15\n",
    "sampleSize<-20 # \n",
    "n<-sampleSize "
   ]
  },
  {
   "cell_type": "code",
   "execution_count": 2,
   "id": "6c1629e5-3cbf-459d-a71d-644a20e32076",
   "metadata": {},
   "outputs": [],
   "source": [
    "# Uniformly spread x values in the interval [-n/2,n/2]\n",
    "x<-(-(sampleSize-1)/2):((sampleSize-1)/2)\n",
    "# y values of the form a + b*x + N(0,trueSd)\n",
    "set.seed(123123)\n",
    "y<-trueA+trueB*x+rnorm(n=sampleSize,mean=0,sd=trueSd)"
   ]
  },
  {
   "cell_type": "code",
   "execution_count": 3,
   "id": "d0fa5146-690a-4ca8-997f-e26a59305847",
   "metadata": {},
   "outputs": [
    {
     "data": {
      "image/png": "[encoded data removed]",
      "text/plain": [
       "Plot with title \"Test data for simple linear regression \""
      ]
     },
     "metadata": {
      "image/png": {
       "height": 420,
       "width": 420
      }
     },
     "output_type": "display_data"
    }
   ],
   "source": [
    "# Plot data points plus the line used in the generation\n",
    "# Note this line is NOT a regression line, which will be computed below\n",
    "# It is just an auxiliary line, used to generate the dataset\n",
    "options(repr.plot.width=7, repr.plot.height=7)\n",
    "plot(x,y,pch='+',cex=0.9,col=\"blue\",main=\"Test data for simple linear regression \",cex.main=1.7)\n",
    "abline(trueA,trueB,lwd=3.5,col=\"cyan\")"
   ]
  },
  {
   "cell_type": "markdown",
   "id": "bda30469-2d41-4fe0-b4cf-7992f0548818",
   "metadata": {
    "tags": []
   },
   "source": [
    "## Fit a (classical) least squares linear regression model"
   ]
  },
  {
   "cell_type": "code",
   "execution_count": 4,
   "id": "e1988655-1da8-4dd9-ab10-b2a1df797af7",
   "metadata": {},
   "outputs": [
    {
     "data": {
      "image/png": "[encoded data removed]",
      "text/plain": [
       "Plot with title \"Linear regression with test data\""
      ]
     },
     "metadata": {
      "image/png": {
       "height": 420,
       "width": 420
      }
     },
     "output_type": "display_data"
    }
   ],
   "source": [
    "lm.1<-lm(y~x)\n",
    "options(repr.plot.width=7, repr.plot.height=7)\n",
    "plot(x,y,pch='+',cex=1.1,col=\"blue\",main=\"Linear regression with test data\",cex.main=1.5)\n",
    "yhat<-fitted.values(lm.1)\n",
    "abline(trueA,trueB,lwd=3.5,col=\"LightCyan\")\n",
    "abline(lm.1,lwd=3.5,col=\"blue\")\n",
    "points(x,yhat,pch=16,col=\"red\",cex=1.4)\n",
    "legend(\"topleft\",c(\"Original    \",\"\",\"Regression   \",\"\",\"Fitted points\"), lwd=3.5,\n",
    "       col=c(\"cyan\",\"white\",\"blue\",\"white\",\"red\"),cex=1.1)"
   ]
  },
  {
   "cell_type": "markdown",
   "id": "88a683fb-7b6b-4b34-a7f8-c1e1ae4e3b8b",
   "metadata": {},
   "source": [
    "### Extract information from the fitted model"
   ]
  },
  {
   "cell_type": "code",
   "execution_count": 5,
   "id": "f8ceed56-cbb5-4455-8ab7-f6304c2a3f90",
   "metadata": {},
   "outputs": [
    {
     "name": "stdout",
     "output_type": "stream",
     "text": [
      "\n",
      "Call:\n",
      "lm(formula = y ~ x)\n",
      "\n",
      "Coefficients:\n",
      "(Intercept)            x  \n",
      "      2.507        4.222  \n",
      "\n"
     ]
    }
   ],
   "source": [
    "print(lm.1)"
   ]
  },
  {
   "cell_type": "code",
   "execution_count": 6,
   "id": "504bdda0-05a4-4a48-93f0-2998059654d6",
   "metadata": {},
   "outputs": [
    {
     "data": {
      "text/plain": [
       "\n",
       "Call:\n",
       "lm(formula = y ~ x)\n",
       "\n",
       "Residuals:\n",
       "    Min      1Q  Median      3Q     Max \n",
       "-14.140  -5.951  -3.854   3.507  24.248 \n",
       "\n",
       "Coefficients:\n",
       "            Estimate Std. Error t value Pr(>|t|)    \n",
       "(Intercept)   2.5066     2.6939   0.930    0.364    \n",
       "x             4.2224     0.4672   9.038 4.13e-08 ***\n",
       "---\n",
       "Signif. codes:  0 '***' 0.001 '**' 0.01 '*' 0.05 '.' 0.1 ' ' 1\n",
       "\n",
       "Residual standard error: 12.05 on 18 degrees of freedom\n",
       "Multiple R-squared:  0.8194,\tAdjusted R-squared:  0.8094 \n",
       "F-statistic: 81.69 on 1 and 18 DF,  p-value: 4.135e-08\n"
      ]
     },
     "metadata": {},
     "output_type": "display_data"
    }
   ],
   "source": [
    "S<-summary(lm.1)\n",
    "S"
   ]
  },
  {
   "cell_type": "markdown",
   "id": "03b72721-7205-46eb-a6a4-3718b6c0a6f5",
   "metadata": {},
   "source": [
    "### Regression coefficients"
   ]
  },
  {
   "cell_type": "code",
   "execution_count": 7,
   "id": "dfb02d6d-85dc-4daa-9d87-f33e5ab0dbf3",
   "metadata": {},
   "outputs": [
    {
     "data": {
      "text/html": [
       "<strong>(Intercept):</strong> 2.507"
      ],
      "text/latex": [
       "\\textbf{(Intercept):} 2.507"
      ],
      "text/markdown": [
       "**(Intercept):** 2.507"
      ],
      "text/plain": [
       "(Intercept) \n",
       "      2.507 "
      ]
     },
     "metadata": {},
     "output_type": "display_data"
    },
    {
     "data": {
      "text/html": [
       "<strong>x:</strong> 4.222"
      ],
      "text/latex": [
       "\\textbf{x:} 4.222"
      ],
      "text/markdown": [
       "**x:** 4.222"
      ],
      "text/plain": [
       "    x \n",
       "4.222 "
      ]
     },
     "metadata": {},
     "output_type": "display_data"
    }
   ],
   "source": [
    "Coeff<-coefficients(lm.1)\n",
    "a.hat<-Coeff[1]\n",
    "b.hat<-Coeff[2]\n",
    "round(a.hat,3)\n",
    "round(b.hat,3)"
   ]
  },
  {
   "cell_type": "markdown",
   "id": "c576452b-2f85-4cd1-bf4c-53cbd14505ff",
   "metadata": {},
   "source": [
    "### Predict the response for a new $ \\tilde{x}$"
   ]
  },
  {
   "cell_type": "code",
   "execution_count": 8,
   "id": "c1c8e95b-d222-4377-9da9-e13a0721becd",
   "metadata": {
    "tags": []
   },
   "outputs": [],
   "source": [
    "x.tilde<-c(2.5,3)  # just for example\n",
    "newx<-data.frame(x=x.tilde)"
   ]
  },
  {
   "cell_type": "code",
   "execution_count": 9,
   "id": "3e480e7b-a538-4542-bfa9-54436d5b00b4",
   "metadata": {
    "tags": []
   },
   "outputs": [
    {
     "data": {
      "text/html": [
       "<style>\n",
       ".dl-inline {width: auto; margin:0; padding: 0}\n",
       ".dl-inline>dt, .dl-inline>dd {float: none; width: auto; display: inline-block}\n",
       ".dl-inline>dt::after {content: \":\\0020\"; padding-right: .5ex}\n",
       ".dl-inline>dt:not(:first-of-type) {padding-left: .5ex}\n",
       "</style><dl class=dl-inline><dt>1</dt><dd>13.0627709071849</dd><dt>2</dt><dd>15.1739952690024</dd></dl>\n"
      ],
      "text/latex": [
       "\\begin{description*}\n",
       "\\item[1] 13.0627709071849\n",
       "\\item[2] 15.1739952690024\n",
       "\\end{description*}\n"
      ],
      "text/markdown": [
       "1\n",
       ":   13.06277090718492\n",
       ":   15.1739952690024\n",
       "\n"
      ],
      "text/plain": [
       "       1        2 \n",
       "13.06277 15.17400 "
      ]
     },
     "metadata": {},
     "output_type": "display_data"
    }
   ],
   "source": [
    "predict(lm.1,newdata=newx)"
   ]
  },
  {
   "cell_type": "markdown",
   "id": "82586af7-f23a-463f-963d-93626dbbb21e",
   "metadata": {},
   "source": [
    "By default for linear models `type=response`"
   ]
  },
  {
   "cell_type": "code",
   "execution_count": 10,
   "id": "cd48696b-080f-4a84-9c84-8eac4c538f70",
   "metadata": {
    "tags": []
   },
   "outputs": [
    {
     "data": {
      "text/html": [
       "<table class=\"dataframe\">\n",
       "<caption>A matrix: 2 × 3 of type dbl</caption>\n",
       "<thead>\n",
       "\t<tr><th></th><th scope=col>fit</th><th scope=col>lwr</th><th scope=col>upr</th></tr>\n",
       "</thead>\n",
       "<tbody>\n",
       "\t<tr><th scope=row>1</th><td>13.06277</td><td>6.894112</td><td>19.23143</td></tr>\n",
       "\t<tr><th scope=row>2</th><td>15.17400</td><td>8.794218</td><td>21.55377</td></tr>\n",
       "</tbody>\n",
       "</table>\n"
      ],
      "text/latex": [
       "A matrix: 2 × 3 of type dbl\n",
       "\\begin{tabular}{r|lll}\n",
       "  & fit & lwr & upr\\\\\n",
       "\\hline\n",
       "\t1 & 13.06277 & 6.894112 & 19.23143\\\\\n",
       "\t2 & 15.17400 & 8.794218 & 21.55377\\\\\n",
       "\\end{tabular}\n"
      ],
      "text/markdown": [
       "\n",
       "A matrix: 2 × 3 of type dbl\n",
       "\n",
       "| <!--/--> | fit | lwr | upr |\n",
       "|---|---|---|---|\n",
       "| 1 | 13.06277 | 6.894112 | 19.23143 |\n",
       "| 2 | 15.17400 | 8.794218 | 21.55377 |\n",
       "\n"
      ],
      "text/plain": [
       "  fit      lwr      upr     \n",
       "1 13.06277 6.894112 19.23143\n",
       "2 15.17400 8.794218 21.55377"
      ]
     },
     "metadata": {},
     "output_type": "display_data"
    }
   ],
   "source": [
    "predict(lm.1,newdata=newx,interval = \"confidence\")"
   ]
  },
  {
   "cell_type": "markdown",
   "id": "9b9122de-2625-4ee5-ac43-27fc09d9e7b0",
   "metadata": {},
   "source": [
    "Confidence intervals for fitted values\n",
    "\n",
    "$$\n",
    "    \\hat{\\mu}=\\hat{a}+\\hat{b}\\cdot\\tilde{x}\n",
    "$$"
   ]
  },
  {
   "cell_type": "code",
   "execution_count": 11,
   "id": "12e71b4e-e349-4ade-bad3-0c9b3767c587",
   "metadata": {
    "tags": []
   },
   "outputs": [
    {
     "data": {
      "text/html": [
       "<table class=\"dataframe\">\n",
       "<caption>A matrix: 2 × 3 of type dbl</caption>\n",
       "<thead>\n",
       "\t<tr><th></th><th scope=col>fit</th><th scope=col>lwr</th><th scope=col>upr</th></tr>\n",
       "</thead>\n",
       "<tbody>\n",
       "\t<tr><th scope=row>1</th><td>13.06277</td><td>-12.98873</td><td>39.11427</td></tr>\n",
       "\t<tr><th scope=row>2</th><td>15.17400</td><td>-10.92830</td><td>41.27629</td></tr>\n",
       "</tbody>\n",
       "</table>\n"
      ],
      "text/latex": [
       "A matrix: 2 × 3 of type dbl\n",
       "\\begin{tabular}{r|lll}\n",
       "  & fit & lwr & upr\\\\\n",
       "\\hline\n",
       "\t1 & 13.06277 & -12.98873 & 39.11427\\\\\n",
       "\t2 & 15.17400 & -10.92830 & 41.27629\\\\\n",
       "\\end{tabular}\n"
      ],
      "text/markdown": [
       "\n",
       "A matrix: 2 × 3 of type dbl\n",
       "\n",
       "| <!--/--> | fit | lwr | upr |\n",
       "|---|---|---|---|\n",
       "| 1 | 13.06277 | -12.98873 | 39.11427 |\n",
       "| 2 | 15.17400 | -10.92830 | 41.27629 |\n",
       "\n"
      ],
      "text/plain": [
       "  fit      lwr       upr     \n",
       "1 13.06277 -12.98873 39.11427\n",
       "2 15.17400 -10.92830 41.27629"
      ]
     },
     "metadata": {},
     "output_type": "display_data"
    }
   ],
   "source": [
    "predict(lm.1,newdata=newx,interval=\"prediction\")"
   ]
  },
  {
   "cell_type": "markdown",
   "id": "813a3a4a-469e-4235-a3a5-317d9e1a1fb7",
   "metadata": {},
   "source": [
    "Confidence intervals for predicted values, including the $\\normaldist(0,\\sigma^{2})$ fluctuation around $\\hat{y}$.    \n",
    "(so the results are wider intervals)"
   ]
  },
  {
   "cell_type": "markdown",
   "id": "a544ea61-f43b-4054-a942-014476e3c83a",
   "metadata": {},
   "source": [
    "# 02. Simple linear regression: Bayesian model"
   ]
  },
  {
   "cell_type": "markdown",
   "id": "c37bfe03-e423-45d1-a5bf-fcf3f5e3847f",
   "metadata": {},
   "source": [
    "The purpose of fitting a model in this case is to explore the relationship between $y $ and $x $. Since both $y$ and $x$ are continuous, a simple regression line is a good start.\n",
    "\n",
    "Each observed response ($ y_{i}$) is assumed to be drawn from a normal distribution with mean ($\\mu_{i}$) and standard deviation ($\\sigma$). \n",
    "\n",
    "The expected values ($\\mu_{i}$) are themselves determined by the linear predictor ($\\beta_{0}+\\beta\\cdot x_{i}$). In this case, $\\beta_{0}$ represents the $y$-intercept (value of $y$ when $x$ is equal to zero) and $\\beta$ represents the rate of change in $y$ for every unit change in $x$ (the effect).\n",
    "\n",
    "We will employ weakly informative _(\"non informative\")_ priors. This choice is always a bit of a balancing act. If the priors are too vague (wide) the MCMC sampler can wander off into nonsense areas of likelihood rather than concentrate around areas of highest likelihood (desired when wanting the outcomes to be largely driven by the data). On the other hand, if the priors are too strong, they may have an influence on the parameters. In such a simple model, this balance is very forgiving - it is for more complex models that prior choice becomes more important.\n",
    "\n",
    "For this simple model, we will go with Gaussian (normal) priors with relatively large standard deviations (100) for both the intercept and the treatment effect and a wide uniform for the standard deviation. \n",
    "The intercept $\\beta_{0}$  will be centered either at $\\hat{a}$ (`a.hat`), the least squares intercept or at zero, and the slope will be zero centered. Alternatively we could center $x$ and $y$ beforehand and then use a zero-centered prior for  $\\beta_{0}$ too."
   ]
  },
  {
   "cell_type": "markdown",
   "id": "9a623fdb-7a1b-4afe-85df-ebe53c659dd3",
   "metadata": {},
   "source": [
    "The model, likelihood $+ $ priors, is:\n",
    "\n",
    "$$\n",
    "\\begin{array}{lcllcl}\n",
    "    y_{i}     &\\sim &\\normaldist(\\mu_{i},\\sigma^2),\\\\[0.2cm]\n",
    "    \\mu_{i}   &=    &\\beta_{0}+\\beta\\cdot x_{i},\\\\[0.2cm]\n",
    "    \\beta_{0} &\\sim &\\normaldist(\\,\\hat{a}\\,,100^2), \\mskip40mu\\text{or }\\mskip40mu\\beta_{0} &\\sim &\\normaldist(\\,0\\,,100^2),\\\\[0.2cm]\n",
    "    \\beta     &\\sim &\\normaldist(0,100^2),\\\\[0.2cm]\n",
    "    \\sigma    &\\sim &\\unifdist(0,100).\n",
    "\\end{array}\n",
    "$$"
   ]
  },
  {
   "cell_type": "markdown",
   "id": "62442078-80d1-4b61-b9d4-565afc4f9772",
   "metadata": {},
   "source": [
    "Alternative priors for the regression coefficients are $\\cauchydist (0,\\,\\cdot\\,)$ distributions, as sugggested by Gelman et al (2008).\n",
    "\n",
    "Andrew Gelman, Aleks Jakulin, Maria Grazia Pittau, Yu-Sung Su (2008), [A weakly informative default prior distribution for logistic and other regression models, Ann. Appl. Stat. 2(4): 1360-1383.](https://projecteuclid.org/journals/annals-of-applied-statistics/volume-2/issue-4/A-weakly-informative-default-prior-distribution/10.1214/08-AOAS191.full)\n",
    "\n",
    "There the authors suggest $\\cauchydist (0,s)$, with a scale parameter $s=2.5$."
   ]
  },
  {
   "cell_type": "markdown",
   "id": "5995c6da-ac04-4306-bfe2-73d6aaf0fe75",
   "metadata": {},
   "source": [
    "## _brms_ implementation"
   ]
  },
  {
   "cell_type": "code",
   "execution_count": 12,
   "id": "b7306395-c2c4-4ccf-b8ed-a58690db230d",
   "metadata": {
    "tags": []
   },
   "outputs": [
    {
     "name": "stderr",
     "output_type": "stream",
     "text": [
      "Warning message:\n",
      "\"package 'brms' was built under R version 4.2.3\"\n",
      "Loading 'brms' package (version 2.19.0). Useful instructions\n",
      "can be found by typing help('brms'). A more detailed introduction\n",
      "to the package is available through vignette('brms_overview').\n",
      "\n",
      "\n",
      "Attaching package: 'brms'\n",
      "\n",
      "\n",
      "The following object is masked from 'package:stats':\n",
      "\n",
      "    ar\n",
      "\n",
      "\n"
     ]
    }
   ],
   "source": [
    "#install.packages(\"brms\", repos= \"https://cloud.r-project.org\")\n",
    "require(brms,quietly=TRUE)"
   ]
  },
  {
   "cell_type": "code",
   "execution_count": 13,
   "id": "46b6cc32-958b-4e1c-996d-a9d73b07e205",
   "metadata": {},
   "outputs": [],
   "source": [
    "options(mc.cores = parallel::detectCores())"
   ]
  },
  {
   "cell_type": "markdown",
   "id": "0d120d58-9f94-4965-8416-ed9202657210",
   "metadata": {},
   "source": [
    "<h6> Depending on your hardware</h6>"
   ]
  },
  {
   "cell_type": "code",
   "execution_count": 14,
   "id": "aeb50a76-37ba-4feb-acef-01d246b64230",
   "metadata": {},
   "outputs": [],
   "source": [
    "Sys.setenv(LOCAL_CPPFLAGS = '-march=corei7 -mtune=corei7')"
   ]
  },
  {
   "cell_type": "code",
   "execution_count": 15,
   "id": "13f3e3c5-f74f-4f95-96e4-f73d1077b54e",
   "metadata": {},
   "outputs": [
    {
     "name": "stderr",
     "output_type": "stream",
     "text": [
      "Compiling Stan program...\n",
      "\n",
      "Start sampling\n",
      "\n"
     ]
    }
   ],
   "source": [
    "simple.regression.pred.brms<-brm(y ~ x, data = data.frame(x,y), \n",
    "    iter = 8000, warmup = 500, chains = 3, thin = 2,  \n",
    "    prior = c(prior(normal(0, 100), class = \"Intercept\"), \n",
    "              prior(normal(0, 100), class = \"b\"), \n",
    "              prior(cauchy(0, 5), class = \"sigma\")\n",
    "              )\n",
    "    )"
   ]
  },
  {
   "cell_type": "code",
   "execution_count": 16,
   "id": "15e022ff-63ca-48e1-9118-fc430889572f",
   "metadata": {},
   "outputs": [
    {
     "data": {
      "text/plain": [
       " Family: gaussian \n",
       "  Links: mu = identity; sigma = identity \n",
       "Formula: y ~ x \n",
       "   Data: data.frame(x, y) (Number of observations: 20) \n",
       "  Draws: 3 chains, each with iter = 8000; warmup = 500; thin = 2;\n",
       "         total post-warmup draws = 11250\n",
       "\n",
       "Population-Level Effects: \n",
       "          Estimate Est.Error l-95% CI u-95% CI Rhat Bulk_ESS Tail_ESS\n",
       "Intercept     2.49      2.79    -3.14     7.96 1.00    10009     9552\n",
       "x             4.22      0.49     3.26     5.21 1.00    10603     9427\n",
       "\n",
       "Family Specific Parameters: \n",
       "      Estimate Est.Error l-95% CI u-95% CI Rhat Bulk_ESS Tail_ESS\n",
       "sigma    12.34      2.16     8.95    17.26 1.00     9693     9143\n",
       "\n",
       "Draws were sampled using sampling(NUTS). For each parameter, Bulk_ESS\n",
       "and Tail_ESS are effective sample size measures, and Rhat is the potential\n",
       "scale reduction factor on split chains (at convergence, Rhat = 1)."
      ]
     },
     "metadata": {},
     "output_type": "display_data"
    }
   ],
   "source": [
    "summary(simple.regression.pred.brms)"
   ]
  },
  {
   "cell_type": "code",
   "execution_count": 17,
   "id": "6c366731-3568-4778-8134-c9c8f8f243ac",
   "metadata": {},
   "outputs": [],
   "source": [
    "# Choose a new x within the interval of x values\n",
    "x_tilde<-1"
   ]
  },
  {
   "cell_type": "code",
   "execution_count": 18,
   "id": "3a9e031d-ab60-49a0-855f-302361d69d75",
   "metadata": {},
   "outputs": [],
   "source": [
    "y_tilde<-predict(simple.regression.pred.brms, newdata=data.frame(x=x_tilde))"
   ]
  },
  {
   "cell_type": "code",
   "execution_count": 19,
   "id": "4dbbdb33-f106-450c-b901-a0f31864111d",
   "metadata": {},
   "outputs": [
    {
     "name": "stdout",
     "output_type": "stream",
     "text": [
      "     Estimate Est.Error      Q2.5    Q97.5\n",
      "[1,] 6.528798   12.5877 -18.00693 31.69214\n"
     ]
    }
   ],
   "source": [
    "print(y_tilde)"
   ]
  },
  {
   "cell_type": "markdown",
   "id": "e3e534b0-30c6-4097-8a82-ccf274933985",
   "metadata": {},
   "source": [
    "#### Compare to the least squares solution"
   ]
  },
  {
   "cell_type": "code",
   "execution_count": 20,
   "id": "b3779b23-d1ea-431e-99e2-e67ca9d08c4d",
   "metadata": {},
   "outputs": [
    {
     "data": {
      "text/html": [
       "<table class=\"dataframe\">\n",
       "<caption>A matrix: 2 × 4 of type dbl</caption>\n",
       "<thead>\n",
       "\t<tr><th></th><th scope=col>Estimate</th><th scope=col>Std. Error</th><th scope=col>t value</th><th scope=col>Pr(&gt;|t|)</th></tr>\n",
       "</thead>\n",
       "<tbody>\n",
       "\t<tr><th scope=row>(Intercept)</th><td>2.506649</td><td>2.6938789</td><td>0.9304981</td><td>3.644257e-01</td></tr>\n",
       "\t<tr><th scope=row>x</th><td>4.222449</td><td>0.4671779</td><td>9.0382039</td><td>4.134917e-08</td></tr>\n",
       "</tbody>\n",
       "</table>\n"
      ],
      "text/latex": [
       "A matrix: 2 × 4 of type dbl\n",
       "\\begin{tabular}{r|llll}\n",
       "  & Estimate & Std. Error & t value & Pr(>\\textbar{}t\\textbar{})\\\\\n",
       "\\hline\n",
       "\t(Intercept) & 2.506649 & 2.6938789 & 0.9304981 & 3.644257e-01\\\\\n",
       "\tx & 4.222449 & 0.4671779 & 9.0382039 & 4.134917e-08\\\\\n",
       "\\end{tabular}\n"
      ],
      "text/markdown": [
       "\n",
       "A matrix: 2 × 4 of type dbl\n",
       "\n",
       "| <!--/--> | Estimate | Std. Error | t value | Pr(&gt;|t|) |\n",
       "|---|---|---|---|---|\n",
       "| (Intercept) | 2.506649 | 2.6938789 | 0.9304981 | 3.644257e-01 |\n",
       "| x | 4.222449 | 0.4671779 | 9.0382039 | 4.134917e-08 |\n",
       "\n"
      ],
      "text/plain": [
       "            Estimate Std. Error t value   Pr(>|t|)    \n",
       "(Intercept) 2.506649 2.6938789  0.9304981 3.644257e-01\n",
       "x           4.222449 0.4671779  9.0382039 4.134917e-08"
      ]
     },
     "metadata": {},
     "output_type": "display_data"
    },
    {
     "data": {
      "text/html": [
       "12.0473928297798"
      ],
      "text/latex": [
       "12.0473928297798"
      ],
      "text/markdown": [
       "12.0473928297798"
      ],
      "text/plain": [
       "[1] 12.04739"
      ]
     },
     "metadata": {},
     "output_type": "display_data"
    }
   ],
   "source": [
    "coefficients(S)\n",
    "sigma(lm.1)"
   ]
  },
  {
   "cell_type": "markdown",
   "id": "8111dcdb-a6c3-41b0-a45a-0fc050691644",
   "metadata": {},
   "source": [
    "These values should be compared to the MAP estimators obtained from the Bayesian samples."
   ]
  },
  {
   "cell_type": "markdown",
   "id": "2c911901-87a3-4d14-9898-357028b91798",
   "metadata": {},
   "source": [
    "##### Prediction for new observations $x=\\widetilde{x}$ in the classical framework: Confidence interval"
   ]
  },
  {
   "cell_type": "code",
   "execution_count": 21,
   "id": "1c58dbce-c8a4-4a0a-b9e7-debd44861030",
   "metadata": {},
   "outputs": [
    {
     "data": {
      "text/html": [
       "6.7291"
      ],
      "text/latex": [
       "6.7291"
      ],
      "text/markdown": [
       "6.7291"
      ],
      "text/plain": [
       "[1] 6.7291"
      ]
     },
     "metadata": {},
     "output_type": "display_data"
    }
   ],
   "source": [
    "mu.tilde<-as.numeric(a.hat+b.hat*x_tilde)\n",
    "round(mu.tilde,5)"
   ]
  },
  {
   "cell_type": "markdown",
   "id": "f1615f95-e818-4f46-be89-b0635c733a58",
   "metadata": {},
   "source": [
    "From the (clasical-frequentist) perspective, the predicted $\\tilde{y}$ corresponding to a new $\\widetilde{x}$ is given as:\n",
    "\n",
    "$$\n",
    "    \\widetilde{y}=\\tilde{\\mu}+\\varepsilon,\n",
    "    \\mskip30mu\\text{where}\\mskip20mu \\tilde{\\mu}=\\hat{a}+\\hat{b}\\cdot \\widetilde{x},\n",
    "    \\mskip30mu \\varepsilon\\sim\\normaldist(0,\\sigma),\n",
    "    \\mskip30mu\\text{and}\\mskip20mu \\tilde{\\mu},\\varepsilon \n",
    "    \\mskip20mu\\text{are independent.}\n",
    "$$"
   ]
  },
  {
   "cell_type": "markdown",
   "id": "1f03753d-1983-419a-bfe7-2732a5184794",
   "metadata": {},
   "source": [
    "We can compute the variance of $\\tilde{\\mu}$ from the covariance matrix $V=\\Var{\\hat{\\beta}}$ of the regression coefficients vector $\\hat{\\beta}=(\\hat{a},\\hat{b})'$.\n",
    "\n",
    "$$\n",
    "    \\tilde{\\mu}=\\hat{a}+\\hat{b}\\cdot\\widetilde{x}= (1,\\widetilde{x})\\cdot\\hat{\\beta}.\n",
    "    \\mskip20mu\\text{hence}\\mskip10mu \\var(\\tilde{\\mu}) =\n",
    "    (1,\\widetilde{x})\\cdot V \\cdot(1,\\widetilde{x})'\n",
    "$$"
   ]
  },
  {
   "cell_type": "code",
   "execution_count": 22,
   "id": "c2669236-38df-4716-bdf9-7a4dbbd5509d",
   "metadata": {},
   "outputs": [
    {
     "name": "stderr",
     "output_type": "stream",
     "text": [
      "This is bayesplot version 1.10.0\n",
      "\n",
      "- Online documentation and vignettes at mc-stan.org/bayesplot\n",
      "\n",
      "- bayesplot theme set to bayesplot::theme_default()\n",
      "\n",
      "   * Does _not_ affect other ggplot2 plots\n",
      "\n",
      "   * See ?bayesplot_theme_set for details on theme setting\n",
      "\n",
      "\n",
      "Attaching package: 'bayesplot'\n",
      "\n",
      "\n",
      "The following object is masked from 'package:brms':\n",
      "\n",
      "    rhat\n",
      "\n",
      "\n"
     ]
    }
   ],
   "source": [
    "#install.packages(\"bayesplot\",dependencies=TRUE,repos= \"https://cloud.r-project.org\")\n",
    "require(bayesplot,quietly=TRUE)"
   ]
  },
  {
   "cell_type": "markdown",
   "id": "55dae6b7-aa28-4721-895c-85808a2134e0",
   "metadata": {},
   "source": [
    "## Diagnostic plots"
   ]
  },
  {
   "cell_type": "code",
   "execution_count": 23,
   "id": "aae7cbea-bf6a-4fc2-b6c9-be160fb574c5",
   "metadata": {},
   "outputs": [
    {
     "data": {
      "image/png": "[encoded data removed]",
      "text/plain": [
       "plot without title"
      ]
     },
     "metadata": {
      "image/png": {
       "height": 300,
       "width": 900
      }
     },
     "output_type": "display_data"
    }
   ],
   "source": [
    "color_scheme_set(\"viridis\")\n",
    "options(repr.plot.width=15, repr.plot.height=5)\n",
    "mcmc_trace(simple.regression.pred.brms, pars = c(\"b_Intercept\",\"b_x\",\"sigma\"))"
   ]
  },
  {
   "cell_type": "code",
   "execution_count": 24,
   "id": "b130db60-d4e9-4601-820f-ae0886d28023",
   "metadata": {},
   "outputs": [
    {
     "data": {
      "image/png": "[encoded data removed]",
      "text/plain": [
       "plot without title"
      ]
     },
     "metadata": {
      "image/png": {
       "height": 300,
       "width": 900
      }
     },
     "output_type": "display_data"
    }
   ],
   "source": [
    "color_scheme_set(\"brightblue\")\n",
    "options(repr.plot.width=15, repr.plot.height=5)\n",
    "mcmc_acf(simple.regression.pred.brms, pars = c(\"b_Intercept\",\"b_x\",\"sigma\"))"
   ]
  },
  {
   "cell_type": "markdown",
   "id": "76476955-3929-4dc0-a883-accbc377eba2",
   "metadata": {},
   "source": [
    "## Summary plots"
   ]
  },
  {
   "cell_type": "code",
   "execution_count": 25,
   "id": "f25eefb7-1d78-4b4a-a8f5-58efe3098ed9",
   "metadata": {
    "tags": []
   },
   "outputs": [
    {
     "name": "stderr",
     "output_type": "stream",
     "text": [
      "\u001b[1m\u001b[22m`stat_bin()` using `bins = 30`. Pick better value with `binwidth`.\n"
     ]
    },
    {
     "data": {
      "image/png": "[encoded data removed]",
      "text/plain": [
       "plot without title"
      ]
     },
     "metadata": {
      "image/png": {
       "height": 300,
       "width": 900
      }
     },
     "output_type": "display_data"
    }
   ],
   "source": [
    "color_scheme_set(\"brightblue\")\n",
    "options(repr.plot.width=15, repr.plot.height=5)\n",
    "mcmc_hist(simple.regression.pred.brms,pars=c(\"b_Intercept\",\"b_x\",\"sigma\"))"
   ]
  },
  {
   "cell_type": "code",
   "execution_count": 26,
   "id": "7f1887df-0728-49c6-a2b8-a544e87c05db",
   "metadata": {
    "tags": []
   },
   "outputs": [
    {
     "data": {
      "image/png": "[encoded data removed]",
      "text/plain": [
       "plot without title"
      ]
     },
     "metadata": {
      "image/png": {
       "height": 360,
       "width": 360
      }
     },
     "output_type": "display_data"
    }
   ],
   "source": [
    "color_scheme_set(\"brightblue\")\n",
    "options(repr.plot.width=6, repr.plot.height=6)\n",
    "mcmc_hist(simple.regression.pred.brms,pars=c(\"b_x\"),binwidth=0.11)"
   ]
  },
  {
   "cell_type": "code",
   "execution_count": 27,
   "id": "6dd2d14d-2ff1-4b46-a14e-a3036bdbd9d9",
   "metadata": {
    "tags": []
   },
   "outputs": [
    {
     "data": {
      "image/png": "[encoded data removed]",
      "text/plain": [
       "plot without title"
      ]
     },
     "metadata": {
      "image/png": {
       "height": 300,
       "width": 900
      }
     },
     "output_type": "display_data"
    }
   ],
   "source": [
    "color_scheme_set(\"brightblue\")\n",
    "options(repr.plot.width=15, repr.plot.height=5)\n",
    "mcmc_dens(simple.regression.pred.brms,pars=c(\"b_Intercept\",\"b_x\",\"sigma\"))"
   ]
  },
  {
   "cell_type": "code",
   "execution_count": 28,
   "id": "4c8c856c-5760-4055-9020-2b95326675ee",
   "metadata": {
    "tags": []
   },
   "outputs": [
    {
     "data": {
      "image/png": "[encoded data removed]",
      "text/plain": [
       "plot without title"
      ]
     },
     "metadata": {
      "image/png": {
       "height": 420,
       "width": 360
      }
     },
     "output_type": "display_data"
    }
   ],
   "source": [
    "color_scheme_set(\"brightblue\")\n",
    "options(repr.plot.width=6, repr.plot.height=7)\n",
    "mcmc_areas(simple.regression.pred.brms,pars=c(\"b_Intercept\",\"b_x\",\"sigma\"))"
   ]
  },
  {
   "cell_type": "code",
   "execution_count": 29,
   "id": "6ebe1589-e82a-4007-ac6d-234d54907577",
   "metadata": {
    "tags": []
   },
   "outputs": [
    {
     "data": {
      "image/png": "[encoded data removed]",
      "text/plain": [
       "plot without title"
      ]
     },
     "metadata": {
      "image/png": {
       "height": 360,
       "width": 360
      }
     },
     "output_type": "display_data"
    }
   ],
   "source": [
    "color_scheme_set(\"brightblue\")\n",
    "options(repr.plot.width=6, repr.plot.height=6)\n",
    "mcmc_areas(simple.regression.pred.brms,pars=c(\"b_Intercept\",\"b_x\"))"
   ]
  },
  {
   "cell_type": "code",
   "execution_count": 30,
   "id": "40ec6e3a-7478-4983-827d-38a4a7269b37",
   "metadata": {
    "tags": []
   },
   "outputs": [
    {
     "data": {
      "image/png": "[encoded data removed]",
      "text/plain": [
       "plot without title"
      ]
     },
     "metadata": {
      "image/png": {
       "height": 300,
       "width": 300
      }
     },
     "output_type": "display_data"
    }
   ],
   "source": [
    "color_scheme_set(\"brightblue\")\n",
    "options(repr.plot.width=5, repr.plot.height=5)\n",
    "mcmc_areas(simple.regression.pred.brms,pars=c(\"sigma\"))"
   ]
  },
  {
   "cell_type": "markdown",
   "id": "44e90459-66d8-4eb5-8ae8-28a8bf3ca5a1",
   "metadata": {},
   "source": [
    "# 03. The `Advertising` dataset"
   ]
  },
  {
   "cell_type": "markdown",
   "id": "209e6bd1-751b-4c88-934b-20d33999c333",
   "metadata": {
    "tags": []
   },
   "source": [
    "From [An Introduction to Statistical Learning with Applications in R (ISLR)](https://www.statlearning.com/). \n",
    "\n",
    "File [`Advertising.csv`](https://www.statlearning.com/s/Advertising.csv) from the textbook web page. \n",
    "\n",
    "In this section we follow the treatment of the `Advertising` dataset from chapters 2 and 3."
   ]
  },
  {
   "cell_type": "markdown",
   "id": "0f79d4e1-2622-45b5-8845-16e1bc4b7ec6",
   "metadata": {},
   "source": [
    "Suppose that we are statistical consultants hired by a client to investigate  the  association  between \n",
    "advertising  and  sales  of  a  particular product.  The  `Advertising`  data  set  consists  of  the  \n",
    "sales  of  that  product in 200 different markets, along with advertising budgets for the product in each \n",
    "of those markets for three different media: TV, radio, and newspaper.  It  is  not  possible  for  our  \n",
    "client  to directly increase sales of the product. On the other hand, they can control the advertising\n",
    "expenditure  in  each  of  the  three  media.  Therefore,  if  we determine that there \n",
    "is an association between advertising and sales, then we can instruct our client to adjust \n",
    "advertising budgets, thereby indirectly increasing sales."
   ]
  },
  {
   "cell_type": "markdown",
   "id": "6a2020e2-5b40-4d9c-b0ee-4cb7c1ae698e",
   "metadata": {},
   "source": [
    "In other words, our goal is to develop an accurate model that can be used to predict sales on the basis of the three media budgets.\n",
    "In this setting, the advertising budgets are  input  variables  while sales is an output  variable. \n",
    "The input variables are typically denoted using the symbol $X$, with a subscript to distinguish them. So $ X_{1}$ might be the TV budget, \n",
    "$X_{2}$ the radio  budget, and $X_{3}$ the newspaper  budget. The inputs go by different names, such as _predictors,_\n",
    "_independent variables,_ _features,_ or sometimes just _variables._ The output variable —in this case, sales— is often \n",
    "called the _response_  or _dependent  variable,_ and is typically denoted using the symbol $Y$."
   ]
  },
  {
   "cell_type": "markdown",
   "id": "0473cdde-daf4-429e-a09b-a4d0616de41f",
   "metadata": {},
   "source": [
    "### Read dataset.\n",
    "\n",
    "Omit first column, the index of each sample. If needed it could be recovered by: `row.names(Advertising)`."
   ]
  },
  {
   "cell_type": "code",
   "execution_count": 31,
   "id": "59149434-76fb-4f8b-895f-783f06223a9e",
   "metadata": {},
   "outputs": [],
   "source": [
    "Advertising<-read.csv(\"Data/Advertising.csv\")\n",
    "#Advertising<-read.csv(\"https://www.statlearning.com/s/Advertising.csv\")\n",
    "Advertising<-Advertising[,-1]"
   ]
  },
  {
   "cell_type": "code",
   "execution_count": 32,
   "id": "324612b7-f0d0-468c-8b09-73557fd08b6f",
   "metadata": {},
   "outputs": [
    {
     "data": {
      "image/png": "[encoded data removed]",
      "text/plain": [
       "plot without title"
      ]
     },
     "metadata": {
      "image/png": {
       "height": 600,
       "width": 600
      }
     },
     "output_type": "display_data"
    }
   ],
   "source": [
    "options(repr.plot.width=10, repr.plot.height=10)\n",
    "plot(Advertising,pch=19,col=\"LightGreen\",cex=0.8,main=\"Pairwise scatterplots\",cex.main=1.5)"
   ]
  },
  {
   "cell_type": "code",
   "execution_count": 33,
   "id": "233f1d5b-c0b9-4b67-863a-d086560b19d8",
   "metadata": {},
   "outputs": [
    {
     "data": {
      "text/html": [
       "<table class=\"dataframe\">\n",
       "<caption>A matrix: 4 × 4 of type dbl</caption>\n",
       "<thead>\n",
       "\t<tr><th></th><th scope=col>TV</th><th scope=col>Radio</th><th scope=col>Newspaper</th><th scope=col>Sales</th></tr>\n",
       "</thead>\n",
       "<tbody>\n",
       "\t<tr><th scope=row>TV</th><td>1.0</td><td>0.1</td><td>0.1</td><td>0.8</td></tr>\n",
       "\t<tr><th scope=row>Radio</th><td>0.1</td><td>1.0</td><td>0.4</td><td>0.6</td></tr>\n",
       "\t<tr><th scope=row>Newspaper</th><td>0.1</td><td>0.4</td><td>1.0</td><td>0.2</td></tr>\n",
       "\t<tr><th scope=row>Sales</th><td>0.8</td><td>0.6</td><td>0.2</td><td>1.0</td></tr>\n",
       "</tbody>\n",
       "</table>\n"
      ],
      "text/latex": [
       "A matrix: 4 × 4 of type dbl\n",
       "\\begin{tabular}{r|llll}\n",
       "  & TV & Radio & Newspaper & Sales\\\\\n",
       "\\hline\n",
       "\tTV & 1.0 & 0.1 & 0.1 & 0.8\\\\\n",
       "\tRadio & 0.1 & 1.0 & 0.4 & 0.6\\\\\n",
       "\tNewspaper & 0.1 & 0.4 & 1.0 & 0.2\\\\\n",
       "\tSales & 0.8 & 0.6 & 0.2 & 1.0\\\\\n",
       "\\end{tabular}\n"
      ],
      "text/markdown": [
       "\n",
       "A matrix: 4 × 4 of type dbl\n",
       "\n",
       "| <!--/--> | TV | Radio | Newspaper | Sales |\n",
       "|---|---|---|---|---|\n",
       "| TV | 1.0 | 0.1 | 0.1 | 0.8 |\n",
       "| Radio | 0.1 | 1.0 | 0.4 | 0.6 |\n",
       "| Newspaper | 0.1 | 0.4 | 1.0 | 0.2 |\n",
       "| Sales | 0.8 | 0.6 | 0.2 | 1.0 |\n",
       "\n"
      ],
      "text/plain": [
       "          TV  Radio Newspaper Sales\n",
       "TV        1.0 0.1   0.1       0.8  \n",
       "Radio     0.1 1.0   0.4       0.6  \n",
       "Newspaper 0.1 0.4   1.0       0.2  \n",
       "Sales     0.8 0.6   0.2       1.0  "
      ]
     },
     "metadata": {},
     "output_type": "display_data"
    }
   ],
   "source": [
    "#cor(Advertising)\n",
    "#round(cor(Advertising),2)\n",
    "round(cor(Advertising),1)"
   ]
  },
  {
   "cell_type": "markdown",
   "id": "04c1b24b-6429-4551-b806-8f35427391a5",
   "metadata": {},
   "source": [
    "## Multiple regression (classical)"
   ]
  },
  {
   "cell_type": "markdown",
   "id": "22f95cb6-3a32-4184-90af-c6b5c15b21e9",
   "metadata": {},
   "source": [
    "Multiple linear regression of Sales on all three predictors"
   ]
  },
  {
   "cell_type": "code",
   "execution_count": 34,
   "id": "ec5f81b0-1c1f-4be0-83fb-999e9c5ff6c7",
   "metadata": {},
   "outputs": [
    {
     "data": {
      "text/plain": [
       "\n",
       "Call:\n",
       "lm(formula = Sales ~ TV + Radio + Newspaper, data = Advertising)\n",
       "\n",
       "Residuals:\n",
       "    Min      1Q  Median      3Q     Max \n",
       "-8.8277 -0.8908  0.2418  1.1893  2.8292 \n",
       "\n",
       "Coefficients:\n",
       "             Estimate Std. Error t value Pr(>|t|)    \n",
       "(Intercept)  2.938889   0.311908   9.422   <2e-16 ***\n",
       "TV           0.045765   0.001395  32.809   <2e-16 ***\n",
       "Radio        0.188530   0.008611  21.893   <2e-16 ***\n",
       "Newspaper   -0.001037   0.005871  -0.177     0.86    \n",
       "---\n",
       "Signif. codes:  0 '***' 0.001 '**' 0.01 '*' 0.05 '.' 0.1 ' ' 1\n",
       "\n",
       "Residual standard error: 1.686 on 196 degrees of freedom\n",
       "Multiple R-squared:  0.8972,\tAdjusted R-squared:  0.8956 \n",
       "F-statistic: 570.3 on 3 and 196 DF,  p-value: < 2.2e-16\n"
      ]
     },
     "metadata": {},
     "output_type": "display_data"
    }
   ],
   "source": [
    "lm.Advertising.01<-lm(Sales~TV+Radio+Newspaper,data=Advertising)\n",
    "# Equivalent, alternative notation\n",
    "#lm.Advertising.01<-lm(Sales~.,data=Advertising)\n",
    "S<-summary(lm.Advertising.01)\n",
    "S"
   ]
  },
  {
   "cell_type": "code",
   "execution_count": 35,
   "id": "bf95bc01-dd6f-420e-97c6-fe16c3fb55a8",
   "metadata": {},
   "outputs": [
    {
     "data": {
      "text/plain": [
       "\n",
       "Call:\n",
       "lm(formula = Sales ~ (TV + Radio + Newspaper)^2, data = Advertising)\n",
       "\n",
       "Residuals:\n",
       "    Min      1Q  Median      3Q     Max \n",
       "-5.9239 -0.3954  0.1873  0.5976  1.5267 \n",
       "\n",
       "Coefficients:\n",
       "                  Estimate Std. Error t value Pr(>|t|)    \n",
       "(Intercept)      6.460e+00  3.176e-01  20.342   <2e-16 ***\n",
       "TV               2.033e-02  1.609e-03  12.633   <2e-16 ***\n",
       "Radio            2.293e-02  1.141e-02   2.009   0.0460 *  \n",
       "Newspaper        1.703e-02  1.007e-02   1.691   0.0924 .  \n",
       "TV:Radio         1.139e-03  5.716e-05  19.930   <2e-16 ***\n",
       "TV:Newspaper    -7.971e-05  3.579e-05  -2.227   0.0271 *  \n",
       "Radio:Newspaper -1.096e-04  2.363e-04  -0.464   0.6433    \n",
       "---\n",
       "Signif. codes:  0 '***' 0.001 '**' 0.01 '*' 0.05 '.' 0.1 ' ' 1\n",
       "\n",
       "Residual standard error: 0.9383 on 193 degrees of freedom\n",
       "Multiple R-squared:  0.9686,\tAdjusted R-squared:  0.9677 \n",
       "F-statistic: 993.3 on 6 and 193 DF,  p-value: < 2.2e-16\n"
      ]
     },
     "metadata": {},
     "output_type": "display_data"
    }
   ],
   "source": [
    "lm.Advertising.02<-lm(Sales~(TV+Radio+Newspaper)^2,data=Advertising)\n",
    "S2<-summary(lm.Advertising.02)\n",
    "S2"
   ]
  },
  {
   "cell_type": "code",
   "execution_count": 36,
   "id": "dd6a15d0-5c6c-4b54-8227-1776cdf74b8f",
   "metadata": {},
   "outputs": [
    {
     "data": {
      "text/html": [
       "<table class=\"dataframe\">\n",
       "<caption>A anova: 4 × 5</caption>\n",
       "<thead>\n",
       "\t<tr><th></th><th scope=col>Df</th><th scope=col>Sum Sq</th><th scope=col>Mean Sq</th><th scope=col>F value</th><th scope=col>Pr(&gt;F)</th></tr>\n",
       "\t<tr><th></th><th scope=col>&lt;int&gt;</th><th scope=col>&lt;dbl&gt;</th><th scope=col>&lt;dbl&gt;</th><th scope=col>&lt;dbl&gt;</th><th scope=col>&lt;dbl&gt;</th></tr>\n",
       "</thead>\n",
       "<tbody>\n",
       "\t<tr><th scope=row>TV</th><td>  1</td><td>3.314618e+03</td><td>3.314618e+03</td><td>1.166731e+03</td><td>1.809337e-84</td></tr>\n",
       "\t<tr><th scope=row>Radio</th><td>  1</td><td>1.545617e+03</td><td>1.545617e+03</td><td>5.440501e+02</td><td>1.882722e-58</td></tr>\n",
       "\t<tr><th scope=row>Newspaper</th><td>  1</td><td>8.871717e-02</td><td>8.871717e-02</td><td>3.122805e-02</td><td>8.599151e-01</td></tr>\n",
       "\t<tr><th scope=row>Residuals</th><td>196</td><td>5.568253e+02</td><td>2.840945e+00</td><td>          NA</td><td>          NA</td></tr>\n",
       "</tbody>\n",
       "</table>\n"
      ],
      "text/latex": [
       "A anova: 4 × 5\n",
       "\\begin{tabular}{r|lllll}\n",
       "  & Df & Sum Sq & Mean Sq & F value & Pr(>F)\\\\\n",
       "  & <int> & <dbl> & <dbl> & <dbl> & <dbl>\\\\\n",
       "\\hline\n",
       "\tTV &   1 & 3.314618e+03 & 3.314618e+03 & 1.166731e+03 & 1.809337e-84\\\\\n",
       "\tRadio &   1 & 1.545617e+03 & 1.545617e+03 & 5.440501e+02 & 1.882722e-58\\\\\n",
       "\tNewspaper &   1 & 8.871717e-02 & 8.871717e-02 & 3.122805e-02 & 8.599151e-01\\\\\n",
       "\tResiduals & 196 & 5.568253e+02 & 2.840945e+00 &           NA &           NA\\\\\n",
       "\\end{tabular}\n"
      ],
      "text/markdown": [
       "\n",
       "A anova: 4 × 5\n",
       "\n",
       "| <!--/--> | Df &lt;int&gt; | Sum Sq &lt;dbl&gt; | Mean Sq &lt;dbl&gt; | F value &lt;dbl&gt; | Pr(&gt;F) &lt;dbl&gt; |\n",
       "|---|---|---|---|---|---|\n",
       "| TV |   1 | 3.314618e+03 | 3.314618e+03 | 1.166731e+03 | 1.809337e-84 |\n",
       "| Radio |   1 | 1.545617e+03 | 1.545617e+03 | 5.440501e+02 | 1.882722e-58 |\n",
       "| Newspaper |   1 | 8.871717e-02 | 8.871717e-02 | 3.122805e-02 | 8.599151e-01 |\n",
       "| Residuals | 196 | 5.568253e+02 | 2.840945e+00 |           NA |           NA |\n",
       "\n"
      ],
      "text/plain": [
       "          Df  Sum Sq       Mean Sq      F value      Pr(>F)      \n",
       "TV          1 3.314618e+03 3.314618e+03 1.166731e+03 1.809337e-84\n",
       "Radio       1 1.545617e+03 1.545617e+03 5.440501e+02 1.882722e-58\n",
       "Newspaper   1 8.871717e-02 8.871717e-02 3.122805e-02 8.599151e-01\n",
       "Residuals 196 5.568253e+02 2.840945e+00           NA           NA"
      ]
     },
     "metadata": {},
     "output_type": "display_data"
    }
   ],
   "source": [
    "A<-anova(lm.Advertising.01)\n",
    "A"
   ]
  },
  {
   "cell_type": "code",
   "execution_count": 37,
   "id": "85e35aec-05d2-4c6a-81c5-647248668877",
   "metadata": {},
   "outputs": [
    {
     "data": {
      "text/html": [
       "<table class=\"dataframe\">\n",
       "<caption>A anova: 7 × 5</caption>\n",
       "<thead>\n",
       "\t<tr><th></th><th scope=col>Df</th><th scope=col>Sum Sq</th><th scope=col>Mean Sq</th><th scope=col>F value</th><th scope=col>Pr(&gt;F)</th></tr>\n",
       "\t<tr><th></th><th scope=col>&lt;int&gt;</th><th scope=col>&lt;dbl&gt;</th><th scope=col>&lt;dbl&gt;</th><th scope=col>&lt;dbl&gt;</th><th scope=col>&lt;dbl&gt;</th></tr>\n",
       "</thead>\n",
       "<tbody>\n",
       "\t<tr><th scope=row>TV</th><td>  1</td><td>3.314618e+03</td><td>3.314618e+03</td><td>3764.6174956</td><td>1.490247e-128</td></tr>\n",
       "\t<tr><th scope=row>Radio</th><td>  1</td><td>1.545617e+03</td><td>1.545617e+03</td><td>1755.4526683</td><td> 7.624537e-99</td></tr>\n",
       "\t<tr><th scope=row>Newspaper</th><td>  1</td><td>8.871717e-02</td><td>8.871717e-02</td><td>   0.1007616</td><td> 7.512607e-01</td></tr>\n",
       "\t<tr><th scope=row>TV:Radio</th><td>  1</td><td>3.825136e+02</td><td>3.825136e+02</td><td> 434.4443924</td><td> 2.677349e-51</td></tr>\n",
       "\t<tr><th scope=row>TV:Newspaper</th><td>  1</td><td>4.192310e+00</td><td>4.192310e+00</td><td>   4.7614660</td><td> 3.031156e-02</td></tr>\n",
       "\t<tr><th scope=row>Radio:Newspaper</th><td>  1</td><td>1.894225e-01</td><td>1.894225e-01</td><td>   0.2151388</td><td> 6.432918e-01</td></tr>\n",
       "\t<tr><th scope=row>Residuals</th><td>193</td><td>1.699300e+02</td><td>8.804661e-01</td><td>          NA</td><td>           NA</td></tr>\n",
       "</tbody>\n",
       "</table>\n"
      ],
      "text/latex": [
       "A anova: 7 × 5\n",
       "\\begin{tabular}{r|lllll}\n",
       "  & Df & Sum Sq & Mean Sq & F value & Pr(>F)\\\\\n",
       "  & <int> & <dbl> & <dbl> & <dbl> & <dbl>\\\\\n",
       "\\hline\n",
       "\tTV &   1 & 3.314618e+03 & 3.314618e+03 & 3764.6174956 & 1.490247e-128\\\\\n",
       "\tRadio &   1 & 1.545617e+03 & 1.545617e+03 & 1755.4526683 &  7.624537e-99\\\\\n",
       "\tNewspaper &   1 & 8.871717e-02 & 8.871717e-02 &    0.1007616 &  7.512607e-01\\\\\n",
       "\tTV:Radio &   1 & 3.825136e+02 & 3.825136e+02 &  434.4443924 &  2.677349e-51\\\\\n",
       "\tTV:Newspaper &   1 & 4.192310e+00 & 4.192310e+00 &    4.7614660 &  3.031156e-02\\\\\n",
       "\tRadio:Newspaper &   1 & 1.894225e-01 & 1.894225e-01 &    0.2151388 &  6.432918e-01\\\\\n",
       "\tResiduals & 193 & 1.699300e+02 & 8.804661e-01 &           NA &            NA\\\\\n",
       "\\end{tabular}\n"
      ],
      "text/markdown": [
       "\n",
       "A anova: 7 × 5\n",
       "\n",
       "| <!--/--> | Df &lt;int&gt; | Sum Sq &lt;dbl&gt; | Mean Sq &lt;dbl&gt; | F value &lt;dbl&gt; | Pr(&gt;F) &lt;dbl&gt; |\n",
       "|---|---|---|---|---|---|\n",
       "| TV |   1 | 3.314618e+03 | 3.314618e+03 | 3764.6174956 | 1.490247e-128 |\n",
       "| Radio |   1 | 1.545617e+03 | 1.545617e+03 | 1755.4526683 |  7.624537e-99 |\n",
       "| Newspaper |   1 | 8.871717e-02 | 8.871717e-02 |    0.1007616 |  7.512607e-01 |\n",
       "| TV:Radio |   1 | 3.825136e+02 | 3.825136e+02 |  434.4443924 |  2.677349e-51 |\n",
       "| TV:Newspaper |   1 | 4.192310e+00 | 4.192310e+00 |    4.7614660 |  3.031156e-02 |\n",
       "| Radio:Newspaper |   1 | 1.894225e-01 | 1.894225e-01 |    0.2151388 |  6.432918e-01 |\n",
       "| Residuals | 193 | 1.699300e+02 | 8.804661e-01 |           NA |            NA |\n",
       "\n"
      ],
      "text/plain": [
       "                Df  Sum Sq       Mean Sq      F value      Pr(>F)       \n",
       "TV                1 3.314618e+03 3.314618e+03 3764.6174956 1.490247e-128\n",
       "Radio             1 1.545617e+03 1.545617e+03 1755.4526683  7.624537e-99\n",
       "Newspaper         1 8.871717e-02 8.871717e-02    0.1007616  7.512607e-01\n",
       "TV:Radio          1 3.825136e+02 3.825136e+02  434.4443924  2.677349e-51\n",
       "TV:Newspaper      1 4.192310e+00 4.192310e+00    4.7614660  3.031156e-02\n",
       "Radio:Newspaper   1 1.894225e-01 1.894225e-01    0.2151388  6.432918e-01\n",
       "Residuals       193 1.699300e+02 8.804661e-01           NA            NA"
      ]
     },
     "metadata": {},
     "output_type": "display_data"
    }
   ],
   "source": [
    "A2<-anova(lm.Advertising.02)\n",
    "A2"
   ]
  },
  {
   "cell_type": "markdown",
   "id": "712d9651-9bda-41f5-8576-019c8673850d",
   "metadata": {},
   "source": [
    "Rename response and model for the sake of pithy expressions"
   ]
  },
  {
   "cell_type": "code",
   "execution_count": 38,
   "id": "89edbe82-ff33-4fcb-989e-4af9243efe3c",
   "metadata": {},
   "outputs": [
    {
     "data": {
      "text/html": [
       "200"
      ],
      "text/latex": [
       "200"
      ],
      "text/markdown": [
       "200"
      ],
      "text/plain": [
       "[1] 200"
      ]
     },
     "metadata": {},
     "output_type": "display_data"
    },
    {
     "data": {
      "text/html": [
       "3"
      ],
      "text/latex": [
       "3"
      ],
      "text/markdown": [
       "3"
      ],
      "text/plain": [
       "[1] 3"
      ]
     },
     "metadata": {},
     "output_type": "display_data"
    },
    {
     "data": {
      "text/html": [
       "200"
      ],
      "text/latex": [
       "200"
      ],
      "text/markdown": [
       "200"
      ],
      "text/plain": [
       "[1] 200"
      ]
     },
     "metadata": {},
     "output_type": "display_data"
    }
   ],
   "source": [
    "y<-Advertising$Sales\n",
    "n<-length(y)\n",
    "n\n",
    "# (number of predictors)\n",
    "p1<-3 \n",
    "# (number of columns in the regression matrix, including the colummn of ones for the intercept)\n",
    "m<-p1+1\n",
    "p1\n",
    "n"
   ]
  },
  {
   "cell_type": "code",
   "execution_count": 39,
   "id": "4dd7673c-2b5f-4e89-9d74-137b6b7574fe",
   "metadata": {},
   "outputs": [],
   "source": [
    "lm.1<-lm.Advertising.01\n",
    "lm.2<-lm.Advertising.02"
   ]
  },
  {
   "cell_type": "code",
   "execution_count": 40,
   "id": "f5cf5083-a308-419b-897e-7b4626a8ef8a",
   "metadata": {},
   "outputs": [
    {
     "data": {
      "text/html": [
       "2.9389"
      ],
      "text/latex": [
       "2.9389"
      ],
      "text/markdown": [
       "2.9389"
      ],
      "text/plain": [
       "[1] 2.9389"
      ]
     },
     "metadata": {},
     "output_type": "display_data"
    },
    {
     "data": {
      "text/html": [
       "6.4602"
      ],
      "text/latex": [
       "6.4602"
      ],
      "text/markdown": [
       "6.4602"
      ],
      "text/plain": [
       "[1] 6.4602"
      ]
     },
     "metadata": {},
     "output_type": "display_data"
    }
   ],
   "source": [
    "# Keep the classical intercept (eventually to center the Bayesian prior for the intercept parameter)\n",
    "beta1<-as.numeric(coef(lm.1))\n",
    "beta1.0.hat<-beta1[1]\n",
    "round(beta1.0.hat,4)\n",
    "beta2<-as.numeric(coef(lm.2))\n",
    "beta2.0.hat<-beta2[1]\n",
    "round(beta2.0.hat,4)"
   ]
  },
  {
   "cell_type": "code",
   "execution_count": 41,
   "id": "cb511fff-3d6f-43a2-a25d-e29741cf42d3",
   "metadata": {},
   "outputs": [
    {
     "data": {
      "text/html": [
       "<table class=\"dataframe\">\n",
       "<caption>A matrix: 6 × 3 of type dbl</caption>\n",
       "<thead>\n",
       "\t<tr><th></th><th scope=col>TV</th><th scope=col>Radio</th><th scope=col>Newspaper</th></tr>\n",
       "</thead>\n",
       "<tbody>\n",
       "\t<tr><th scope=row>1</th><td>230.1</td><td>37.8</td><td>69.2</td></tr>\n",
       "\t<tr><th scope=row>2</th><td> 44.5</td><td>39.3</td><td>45.1</td></tr>\n",
       "\t<tr><th scope=row>3</th><td> 17.2</td><td>45.9</td><td>69.3</td></tr>\n",
       "\t<tr><th scope=row>4</th><td>151.5</td><td>41.3</td><td>58.5</td></tr>\n",
       "\t<tr><th scope=row>5</th><td>180.8</td><td>10.8</td><td>58.4</td></tr>\n",
       "\t<tr><th scope=row>6</th><td>  8.7</td><td>48.9</td><td>75.0</td></tr>\n",
       "</tbody>\n",
       "</table>\n"
      ],
      "text/latex": [
       "A matrix: 6 × 3 of type dbl\n",
       "\\begin{tabular}{r|lll}\n",
       "  & TV & Radio & Newspaper\\\\\n",
       "\\hline\n",
       "\t1 & 230.1 & 37.8 & 69.2\\\\\n",
       "\t2 &  44.5 & 39.3 & 45.1\\\\\n",
       "\t3 &  17.2 & 45.9 & 69.3\\\\\n",
       "\t4 & 151.5 & 41.3 & 58.5\\\\\n",
       "\t5 & 180.8 & 10.8 & 58.4\\\\\n",
       "\t6 &   8.7 & 48.9 & 75.0\\\\\n",
       "\\end{tabular}\n"
      ],
      "text/markdown": [
       "\n",
       "A matrix: 6 × 3 of type dbl\n",
       "\n",
       "| <!--/--> | TV | Radio | Newspaper |\n",
       "|---|---|---|---|\n",
       "| 1 | 230.1 | 37.8 | 69.2 |\n",
       "| 2 |  44.5 | 39.3 | 45.1 |\n",
       "| 3 |  17.2 | 45.9 | 69.3 |\n",
       "| 4 | 151.5 | 41.3 | 58.5 |\n",
       "| 5 | 180.8 | 10.8 | 58.4 |\n",
       "| 6 |   8.7 | 48.9 | 75.0 |\n",
       "\n"
      ],
      "text/plain": [
       "  TV    Radio Newspaper\n",
       "1 230.1 37.8  69.2     \n",
       "2  44.5 39.3  45.1     \n",
       "3  17.2 45.9  69.3     \n",
       "4 151.5 41.3  58.5     \n",
       "5 180.8 10.8  58.4     \n",
       "6   8.7 48.9  75.0     "
      ]
     },
     "metadata": {},
     "output_type": "display_data"
    },
    {
     "data": {
      "text/html": [
       "7"
      ],
      "text/latex": [
       "7"
      ],
      "text/markdown": [
       "7"
      ],
      "text/plain": [
       "[1] 7"
      ]
     },
     "metadata": {},
     "output_type": "display_data"
    },
    {
     "data": {
      "text/html": [
       "<table class=\"dataframe\">\n",
       "<caption>A matrix: 6 × 6 of type dbl</caption>\n",
       "<thead>\n",
       "\t<tr><th></th><th scope=col>TV</th><th scope=col>Radio</th><th scope=col>Newspaper</th><th scope=col>TV:Radio</th><th scope=col>TV:Newspaper</th><th scope=col>Radio:Newspaper</th></tr>\n",
       "</thead>\n",
       "<tbody>\n",
       "\t<tr><th scope=row>1</th><td>230.1</td><td>37.8</td><td>69.2</td><td>8697.78</td><td>15922.92</td><td>2615.76</td></tr>\n",
       "\t<tr><th scope=row>2</th><td> 44.5</td><td>39.3</td><td>45.1</td><td>1748.85</td><td> 2006.95</td><td>1772.43</td></tr>\n",
       "\t<tr><th scope=row>3</th><td> 17.2</td><td>45.9</td><td>69.3</td><td> 789.48</td><td> 1191.96</td><td>3180.87</td></tr>\n",
       "\t<tr><th scope=row>4</th><td>151.5</td><td>41.3</td><td>58.5</td><td>6256.95</td><td> 8862.75</td><td>2416.05</td></tr>\n",
       "\t<tr><th scope=row>5</th><td>180.8</td><td>10.8</td><td>58.4</td><td>1952.64</td><td>10558.72</td><td> 630.72</td></tr>\n",
       "\t<tr><th scope=row>6</th><td>  8.7</td><td>48.9</td><td>75.0</td><td> 425.43</td><td>  652.50</td><td>3667.50</td></tr>\n",
       "</tbody>\n",
       "</table>\n"
      ],
      "text/latex": [
       "A matrix: 6 × 6 of type dbl\n",
       "\\begin{tabular}{r|llllll}\n",
       "  & TV & Radio & Newspaper & TV:Radio & TV:Newspaper & Radio:Newspaper\\\\\n",
       "\\hline\n",
       "\t1 & 230.1 & 37.8 & 69.2 & 8697.78 & 15922.92 & 2615.76\\\\\n",
       "\t2 &  44.5 & 39.3 & 45.1 & 1748.85 &  2006.95 & 1772.43\\\\\n",
       "\t3 &  17.2 & 45.9 & 69.3 &  789.48 &  1191.96 & 3180.87\\\\\n",
       "\t4 & 151.5 & 41.3 & 58.5 & 6256.95 &  8862.75 & 2416.05\\\\\n",
       "\t5 & 180.8 & 10.8 & 58.4 & 1952.64 & 10558.72 &  630.72\\\\\n",
       "\t6 &   8.7 & 48.9 & 75.0 &  425.43 &   652.50 & 3667.50\\\\\n",
       "\\end{tabular}\n"
      ],
      "text/markdown": [
       "\n",
       "A matrix: 6 × 6 of type dbl\n",
       "\n",
       "| <!--/--> | TV | Radio | Newspaper | TV:Radio | TV:Newspaper | Radio:Newspaper |\n",
       "|---|---|---|---|---|---|---|\n",
       "| 1 | 230.1 | 37.8 | 69.2 | 8697.78 | 15922.92 | 2615.76 |\n",
       "| 2 |  44.5 | 39.3 | 45.1 | 1748.85 |  2006.95 | 1772.43 |\n",
       "| 3 |  17.2 | 45.9 | 69.3 |  789.48 |  1191.96 | 3180.87 |\n",
       "| 4 | 151.5 | 41.3 | 58.5 | 6256.95 |  8862.75 | 2416.05 |\n",
       "| 5 | 180.8 | 10.8 | 58.4 | 1952.64 | 10558.72 |  630.72 |\n",
       "| 6 |   8.7 | 48.9 | 75.0 |  425.43 |   652.50 | 3667.50 |\n",
       "\n"
      ],
      "text/plain": [
       "  TV    Radio Newspaper TV:Radio TV:Newspaper Radio:Newspaper\n",
       "1 230.1 37.8  69.2      8697.78  15922.92     2615.76        \n",
       "2  44.5 39.3  45.1      1748.85   2006.95     1772.43        \n",
       "3  17.2 45.9  69.3       789.48   1191.96     3180.87        \n",
       "4 151.5 41.3  58.5      6256.95   8862.75     2416.05        \n",
       "5 180.8 10.8  58.4      1952.64  10558.72      630.72        \n",
       "6   8.7 48.9  75.0       425.43    652.50     3667.50        "
      ]
     },
     "metadata": {},
     "output_type": "display_data"
    }
   ],
   "source": [
    "X1<-model.matrix(lm.1)\n",
    "attr(X1,\"assign\")<-NULL\n",
    "# Remove the \"intercept\" column of ones \n",
    "X1<-X1[,-1]\n",
    "#str(X1)\n",
    "head(X1)\n",
    "X2<-model.matrix(lm.2)\n",
    "attr(X2,\"assign\")<-NULL\n",
    "# Number of columns in X2\n",
    "p2<-ncol(X2)\n",
    "p2\n",
    "# Remove the \"intercept\" column of ones \n",
    "X2<-X2[,-1]\n",
    "#str(X2)\n",
    "head(X2)"
   ]
  },
  {
   "cell_type": "code",
   "execution_count": 42,
   "id": "60ef40ae-a298-4540-b0d0-b590a594439b",
   "metadata": {},
   "outputs": [
    {
     "data": {
      "text/html": [
       "1.6855"
      ],
      "text/latex": [
       "1.6855"
      ],
      "text/markdown": [
       "1.6855"
      ],
      "text/plain": [
       "[1] 1.6855"
      ]
     },
     "metadata": {},
     "output_type": "display_data"
    },
    {
     "data": {
      "text/html": [
       "0.9383"
      ],
      "text/latex": [
       "0.9383"
      ],
      "text/markdown": [
       "0.9383"
      ],
      "text/plain": [
       "[1] 0.9383"
      ]
     },
     "metadata": {},
     "output_type": "display_data"
    }
   ],
   "source": [
    "round(sigma(lm.1),4)\n",
    "round(sigma(lm.2),4)"
   ]
  },
  {
   "cell_type": "markdown",
   "id": "a2d1a10c-59da-4fc9-8537-0faf2851e694",
   "metadata": {},
   "source": [
    "## 04. Bayesian linear regression"
   ]
  },
  {
   "cell_type": "markdown",
   "id": "3e730ac7-c7c2-43d0-bad1-b19b70e1df30",
   "metadata": {},
   "source": [
    "## Model"
   ]
  },
  {
   "cell_type": "markdown",
   "id": "5caeee5f-bb4e-4bba-bcf8-b4c7baed910c",
   "metadata": {},
   "source": [
    "### Likelihood\n",
    "\n",
    "Each of the $n$ observed responses $y_{i}$ ($1\\leq i\\leq n$) is assumed to be drawn from a normal distribution with mean $\\mu_{i}$ and standard deviation $\\sigma$ (or precision $\\tau=1/\\sigma^{2}$).\n",
    "\n",
    "The expected values ($\\mu_{i}$) are themselves determined by the linear predictor ($\\beta_{0}+x_{i}\\cdot\\beta$), $x_{i}\\in\\mathbb{R}^p$. \n",
    "\n",
    "$\\beta_{0}$ is the $y$-intercept and each $\\beta_{j}\\in\\R$, $j\\geq 1$ represents the rate of change in $y$ for every unit change in the $j$-th effect $x_{j}$ ($1\\leq j\\leq p$)."
   ]
  },
  {
   "cell_type": "markdown",
   "id": "d8c855c6-ffc7-47b4-87fa-0d4812714e41",
   "metadata": {},
   "source": [
    "### Priors\n",
    "\n",
    "Gaussian (normal) priors with relatively large standard deviations for the regression coefficients, intercept centered on the classical estimate and the others on zero,\n",
    "and a uniform for the standard deviation. \n",
    "\n",
    "In JAGS the normal distribution is parameterized with mean and precision $\\tau=1/\\sigma^{2}$, hence a noninformative normal prior will have a _small_ precision. In Stan the normal distribution is parameterrized with $\\sigma$, as in R.\n",
    "  \n",
    "$$\n",
    "\\begin{array}{lcl}\n",
    "        y_{i}         &\\sim &\\normaldist(\\mu_{i},\\sigma),\\\\[0.2cm]\n",
    "        \\mu_{i}       &=    &\\beta_{0}+x_{i}\\cdot\\beta,\\mskip20mu 1\\leq i\\leq n.\\\\[0.2cm]\n",
    "         y            &\\sim &\\normaldist(\\mu,\\sigma), \\mskip20mu\\text{(vector notation)}\\\\[0.2cm]  \n",
    "        \\mu           &=    &\\beta_{0}+X\\cdot\\beta, \\mskip20mu\\text{(matrix notation)}\\\\[0.2cm]\n",
    "        \\beta_{0}     &\\sim &\\cauchydist(0,10),\\\\[0.2cm]\n",
    "        \\beta_{j}     &\\sim &\\cauchydist(0,2.5),\\mskip20mu 1\\leq j\\leq p.\\\\[0.2cm]\n",
    "        \\sigma        &\\sim &\\invgammadist(4,0.02).\n",
    "\\end{array}\n",
    "$$"
   ]
  },
  {
   "cell_type": "markdown",
   "id": "5ebe1cc9-e839-431b-9cd0-94a9cccf0573",
   "metadata": {},
   "source": [
    "Alternative priors for the regression coefficients are $\\cauchydist (0,\\,\\cdot\\,)$ distributions, as sugggested by Gelman et al (2008).\n",
    "\n",
    "Andrew Gelman, Aleks Jakulin, Maria Grazia Pittau, Yu-Sung Su (2008), [A weakly informative default prior distribution for logistic and other regression models, Ann. Appl. Stat. 2(4): 1360-1383.](https://projecteuclid.org/journals/annals-of-applied-statistics/volume-2/issue-4/A-weakly-informative-default-prior-distribution/10.1214/08-AOAS191.full)\n",
    "\n",
    "There the authors suggest $\\cauchydist (0,s)$, with a scale parameter $s=2.5$."
   ]
  },
  {
   "cell_type": "code",
   "execution_count": 43,
   "id": "5b3eeb4d-7258-432a-b768-0690f5b9c36d",
   "metadata": {},
   "outputs": [
    {
     "name": "stderr",
     "output_type": "stream",
     "text": [
      "\n",
      "Attaching package: 'actuar'\n",
      "\n",
      "\n",
      "The following objects are masked from 'package:stats':\n",
      "\n",
      "    sd, var\n",
      "\n",
      "\n",
      "The following object is masked from 'package:grDevices':\n",
      "\n",
      "    cm\n",
      "\n",
      "\n"
     ]
    }
   ],
   "source": [
    "#install.packages(\"actuar\",dependencies=TRUE,repos= \"https://cloud.r-project.org\")\n",
    "require(actuar,quietly=TRUE)"
   ]
  },
  {
   "cell_type": "code",
   "execution_count": 44,
   "id": "444862bd-2ca3-4500-847c-5e55706f85bc",
   "metadata": {},
   "outputs": [
    {
     "data": {
      "image/png": "[encoded data removed]",
      "text/plain": [
       "Plot with title \"Inverse Gamma density\""
      ]
     },
     "metadata": {
      "image/png": {
       "height": 360,
       "width": 360
      }
     },
     "output_type": "display_data"
    }
   ],
   "source": [
    "u<-seq(0.0001,60,length=1000)\n",
    "options(repr.plot.width=6, repr.plot.height=6)\n",
    "plot(u,dinvgamma(u,shape=4,rate=0.02),\"l\",lwd=3.0,col=\"blue\",\n",
    "    main=\"Inverse Gamma density\",xlab=\"x\",ylab=\"Density\")"
   ]
  },
  {
   "cell_type": "markdown",
   "id": "de424a96-9c91-4852-8741-1f4adb5796bd",
   "metadata": {},
   "source": [
    "## _brms_ implementation"
   ]
  },
  {
   "cell_type": "code",
   "execution_count": 45,
   "id": "d37499ca-b7b2-491d-ab0b-0d42c6c44483",
   "metadata": {
    "tags": []
   },
   "outputs": [],
   "source": [
    "#install.packages(\"brms\", repos= \"https://cloud.r-project.org\")\n",
    "require(brms,quietly=TRUE)"
   ]
  },
  {
   "cell_type": "code",
   "execution_count": 46,
   "id": "d06451ee-6579-427d-98fb-75ce9e4319b3",
   "metadata": {},
   "outputs": [],
   "source": [
    "options(mc.cores = parallel::detectCores())"
   ]
  },
  {
   "cell_type": "markdown",
   "id": "b47d0b87-ce98-4c70-bd2f-121c25b0f8c9",
   "metadata": {},
   "source": [
    "<h6> Depending on your hardware</h6>"
   ]
  },
  {
   "cell_type": "code",
   "execution_count": 47,
   "id": "b415061f-3f29-4ead-ab81-78fe840c96e9",
   "metadata": {},
   "outputs": [],
   "source": [
    "Sys.setenv(LOCAL_CPPFLAGS = '-march=corei7 -mtune=corei7')"
   ]
  },
  {
   "cell_type": "code",
   "execution_count": 48,
   "id": "dd05f8f8-1741-4d68-8b66-69d09cb30e5a",
   "metadata": {},
   "outputs": [
    {
     "name": "stderr",
     "output_type": "stream",
     "text": [
      "Compiling Stan program...\n",
      "\n",
      "Start sampling\n",
      "\n"
     ]
    }
   ],
   "source": [
    "Advertising.brms.01<-brm(Sales~TV+Radio+Newspaper,data=Advertising,\n",
    "    iter = 8000, warmup = 500, chains = 3, thin = 2,  \n",
    "    prior = c(prior(cauchy(0, 10), class = \"Intercept\"), \n",
    "              prior(cauchy(0, 2.5), class = \"b\"), \n",
    "              prior(inv_gamma(4,0.02), class = \"sigma\")\n",
    "              )\n",
    "    )"
   ]
  },
  {
   "cell_type": "code",
   "execution_count": 49,
   "id": "09baf5df-b6a5-4ae6-ab49-95ef2d3b002a",
   "metadata": {},
   "outputs": [
    {
     "name": "stderr",
     "output_type": "stream",
     "text": [
      "Compiling Stan program...\n",
      "\n",
      "Start sampling\n",
      "\n",
      "Warning message:\n",
      "\"There were 7214 transitions after warmup that exceeded the maximum treedepth. Increase max_treedepth above 10. See\n",
      "https://mc-stan.org/misc/warnings.html#maximum-treedepth-exceeded\"\n",
      "Warning message:\n",
      "\"Examine the pairs() plot to diagnose sampling problems\n",
      "\"\n"
     ]
    }
   ],
   "source": [
    "Advertising.brms.02<-brm(Sales~(TV+Radio+Newspaper)^2,data=Advertising,\n",
    "    iter = 8000, warmup = 500, chains = 3, thin = 2,  \n",
    "    prior = c(prior(cauchy(0, 10), class = \"Intercept\"), \n",
    "              prior(cauchy(0, 2.5), class = \"b\"), \n",
    "              prior(inv_gamma(4,0.02), class = \"sigma\")\n",
    "              )\n",
    "    )"
   ]
  },
  {
   "cell_type": "code",
   "execution_count": 50,
   "id": "414dc556-7343-4fff-b504-0c57bb1c4669",
   "metadata": {},
   "outputs": [
    {
     "name": "stderr",
     "output_type": "stream",
     "text": [
      "Compiling Stan program...\n",
      "\n",
      "Start sampling\n",
      "\n"
     ]
    }
   ],
   "source": [
    "Advertising.brms.02b<-brm(Sales~(TV+Radio+Newspaper)^2,data=Advertising,\n",
    "    iter = 8000, warmup = 500, chains = 3, thin = 2,  \n",
    "    prior = c(prior(cauchy(0, 10), class = \"Intercept\"), \n",
    "              prior(cauchy(0, 2.5), class = \"b\"), \n",
    "              prior(inv_gamma(4,0.02), class = \"sigma\")\n",
    "              ),\n",
    "    control=list(max_treedepth=12)\n",
    "    )"
   ]
  },
  {
   "cell_type": "code",
   "execution_count": 51,
   "id": "1d60756c-64b4-4808-92a5-88703e89ff92",
   "metadata": {
    "tags": []
   },
   "outputs": [
    {
     "data": {
      "text/plain": [
       " Family: gaussian \n",
       "  Links: mu = identity; sigma = identity \n",
       "Formula: Sales ~ TV + Radio + Newspaper \n",
       "   Data: Advertising (Number of observations: 200) \n",
       "  Draws: 3 chains, each with iter = 8000; warmup = 500; thin = 2;\n",
       "         total post-warmup draws = 11250\n",
       "\n",
       "Population-Level Effects: \n",
       "          Estimate Est.Error l-95% CI u-95% CI Rhat Bulk_ESS Tail_ESS\n",
       "Intercept     2.94      0.31     2.33     3.56 1.00    10841     9243\n",
       "TV            0.05      0.00     0.04     0.05 1.00    10677     9694\n",
       "Radio         0.19      0.01     0.17     0.21 1.00    10499     9454\n",
       "Newspaper    -0.00      0.01    -0.01     0.01 1.00    10596    10233\n",
       "\n",
       "Family Specific Parameters: \n",
       "      Estimate Est.Error l-95% CI u-95% CI Rhat Bulk_ESS Tail_ESS\n",
       "sigma     1.68      0.09     1.52     1.85 1.00    10844     9153\n",
       "\n",
       "Draws were sampled using sampling(NUTS). For each parameter, Bulk_ESS\n",
       "and Tail_ESS are effective sample size measures, and Rhat is the potential\n",
       "scale reduction factor on split chains (at convergence, Rhat = 1)."
      ]
     },
     "metadata": {},
     "output_type": "display_data"
    }
   ],
   "source": [
    "summary(Advertising.brms.01)"
   ]
  },
  {
   "cell_type": "code",
   "execution_count": 52,
   "id": "db274310-2abc-4601-8966-4dfd4f3aae86",
   "metadata": {
    "tags": []
   },
   "outputs": [
    {
     "data": {
      "text/plain": [
       " Family: gaussian \n",
       "  Links: mu = identity; sigma = identity \n",
       "Formula: Sales ~ (TV + Radio + Newspaper)^2 \n",
       "   Data: Advertising (Number of observations: 200) \n",
       "  Draws: 3 chains, each with iter = 8000; warmup = 500; thin = 2;\n",
       "         total post-warmup draws = 11250\n",
       "\n",
       "Population-Level Effects: \n",
       "                Estimate Est.Error l-95% CI u-95% CI Rhat Bulk_ESS Tail_ESS\n",
       "Intercept           6.46      0.32     5.84     7.08 1.00     8860     9092\n",
       "TV                  0.02      0.00     0.02     0.02 1.00    10457     9369\n",
       "Radio               0.02      0.01     0.00     0.04 1.00     8646     9011\n",
       "Newspaper           0.02      0.01    -0.00     0.04 1.00     9366     9095\n",
       "TV:Radio            0.00      0.00     0.00     0.00 1.00     9849     9859\n",
       "TV:Newspaper       -0.00      0.00    -0.00    -0.00 1.00    10598    10375\n",
       "Radio:Newspaper    -0.00      0.00    -0.00     0.00 1.00     9100     9952\n",
       "\n",
       "Family Specific Parameters: \n",
       "      Estimate Est.Error l-95% CI u-95% CI Rhat Bulk_ESS Tail_ESS\n",
       "sigma     0.93      0.05     0.85     1.03 1.00     7790     8742\n",
       "\n",
       "Draws were sampled using sampling(NUTS). For each parameter, Bulk_ESS\n",
       "and Tail_ESS are effective sample size measures, and Rhat is the potential\n",
       "scale reduction factor on split chains (at convergence, Rhat = 1)."
      ]
     },
     "metadata": {},
     "output_type": "display_data"
    }
   ],
   "source": [
    "summary(Advertising.brms.02)"
   ]
  },
  {
   "cell_type": "code",
   "execution_count": 53,
   "id": "8c6afdd7-a078-4111-bdca-b35e3875a66a",
   "metadata": {
    "tags": []
   },
   "outputs": [
    {
     "data": {
      "text/plain": [
       " Family: gaussian \n",
       "  Links: mu = identity; sigma = identity \n",
       "Formula: Sales ~ (TV + Radio + Newspaper)^2 \n",
       "   Data: Advertising (Number of observations: 200) \n",
       "  Draws: 3 chains, each with iter = 8000; warmup = 500; thin = 2;\n",
       "         total post-warmup draws = 11250\n",
       "\n",
       "Population-Level Effects: \n",
       "                Estimate Est.Error l-95% CI u-95% CI Rhat Bulk_ESS Tail_ESS\n",
       "Intercept           6.46      0.31     5.86     7.07 1.00     6425     8250\n",
       "TV                  0.02      0.00     0.02     0.02 1.00     8347     9004\n",
       "Radio               0.02      0.01     0.00     0.05 1.00     5385     6360\n",
       "Newspaper           0.02      0.01    -0.00     0.04 1.00     6953     7064\n",
       "TV:Radio            0.00      0.00     0.00     0.00 1.00     7334     8922\n",
       "TV:Newspaper       -0.00      0.00    -0.00    -0.00 1.00     8321     8794\n",
       "Radio:Newspaper    -0.00      0.00    -0.00     0.00 1.00     7064     8199\n",
       "\n",
       "Family Specific Parameters: \n",
       "      Estimate Est.Error l-95% CI u-95% CI Rhat Bulk_ESS Tail_ESS\n",
       "sigma     0.93      0.05     0.85     1.03 1.00    10391     9425\n",
       "\n",
       "Draws were sampled using sampling(NUTS). For each parameter, Bulk_ESS\n",
       "and Tail_ESS are effective sample size measures, and Rhat is the potential\n",
       "scale reduction factor on split chains (at convergence, Rhat = 1)."
      ]
     },
     "metadata": {},
     "output_type": "display_data"
    }
   ],
   "source": [
    "summary(Advertising.brms.02b)"
   ]
  },
  {
   "cell_type": "markdown",
   "id": "6b70a2b6-30b2-4789-9804-917a0cd4ed9e",
   "metadata": {},
   "source": [
    "## Diagnostic plots"
   ]
  },
  {
   "cell_type": "code",
   "execution_count": 54,
   "id": "0bae55b7-4e39-4e91-9ed9-92bdd13a8c68",
   "metadata": {
    "tags": []
   },
   "outputs": [
    {
     "data": {
      "image/png": "[encoded data removed]",
      "text/plain": [
       "plot without title"
      ]
     },
     "metadata": {
      "image/png": {
       "height": 300,
       "width": 900
      }
     },
     "output_type": "display_data"
    }
   ],
   "source": [
    "color_scheme_set(\"viridis\")\n",
    "options(repr.plot.width=15, repr.plot.height=5)\n",
    "mcmc_trace(Advertising.brms.01,pars=c(vars(starts_with(\"b\"),sigma)))"
   ]
  },
  {
   "cell_type": "code",
   "execution_count": 55,
   "id": "257b4d08-0614-4c13-824d-68d95c8d9547",
   "metadata": {},
   "outputs": [
    {
     "data": {
      "image/png": "[encoded data removed]",
      "text/plain": [
       "plot without title"
      ]
     },
     "metadata": {
      "image/png": {
       "height": 300,
       "width": 900
      }
     },
     "output_type": "display_data"
    }
   ],
   "source": [
    "color_scheme_set(\"brightblue\")\n",
    "options(repr.plot.width=15, repr.plot.height=5)\n",
    "mcmc_acf(Advertising.brms.01,pars=c(vars(starts_with(\"b\"),sigma)))"
   ]
  },
  {
   "cell_type": "code",
   "execution_count": 56,
   "id": "18a1d2ba-c37a-4c6a-8647-ea1e0d7ce9d5",
   "metadata": {
    "tags": []
   },
   "outputs": [
    {
     "data": {
      "image/png": "[encoded data removed]",
      "text/plain": [
       "plot without title"
      ]
     },
     "metadata": {
      "image/png": {
       "height": 300,
       "width": 900
      }
     },
     "output_type": "display_data"
    }
   ],
   "source": [
    "color_scheme_set(\"viridis\")\n",
    "options(repr.plot.width=15, repr.plot.height=5)\n",
    "mcmc_trace(Advertising.brms.02,pars=c(vars(starts_with(\"b\"),sigma)))"
   ]
  },
  {
   "cell_type": "code",
   "execution_count": 57,
   "id": "a3fb6fbb-6218-47bc-b15e-d15dc328eb6d",
   "metadata": {},
   "outputs": [
    {
     "data": {
      "image/png": "[encoded data removed]",
      "text/plain": [
       "plot without title"
      ]
     },
     "metadata": {
      "image/png": {
       "height": 300,
       "width": 900
      }
     },
     "output_type": "display_data"
    }
   ],
   "source": [
    "color_scheme_set(\"brightblue\")\n",
    "options(repr.plot.width=15, repr.plot.height=5)\n",
    "mcmc_acf(Advertising.brms.01,pars=c(vars(starts_with(\"b\"),sigma)))"
   ]
  },
  {
   "cell_type": "markdown",
   "id": "42e6094a-074c-479f-b36e-3d6588810b2c",
   "metadata": {},
   "source": [
    "## Summary plots"
   ]
  },
  {
   "cell_type": "code",
   "execution_count": 58,
   "id": "5732fb8e-5b7f-49f8-8538-2b169f60e3a6",
   "metadata": {
    "tags": []
   },
   "outputs": [
    {
     "name": "stderr",
     "output_type": "stream",
     "text": [
      "\u001b[1m\u001b[22m`stat_bin()` using `bins = 30`. Pick better value with `binwidth`.\n"
     ]
    },
    {
     "data": {
      "image/png": "[encoded data removed]",
      "text/plain": [
       "plot without title"
      ]
     },
     "metadata": {
      "image/png": {
       "height": 300,
       "width": 720
      }
     },
     "output_type": "display_data"
    }
   ],
   "source": [
    "color_scheme_set(\"brightblue\")\n",
    "options(repr.plot.width=12, repr.plot.height=5)\n",
    "mcmc_hist(Advertising.brms.01,pars=c(vars(starts_with(\"b\"),sigma)))"
   ]
  },
  {
   "cell_type": "code",
   "execution_count": 59,
   "id": "36fc01af-865c-4b88-a80a-1521516aea0b",
   "metadata": {
    "tags": []
   },
   "outputs": [
    {
     "data": {
      "image/png": "[encoded data removed]",
      "text/plain": [
       "plot without title"
      ]
     },
     "metadata": {
      "image/png": {
       "height": 300,
       "width": 720
      }
     },
     "output_type": "display_data"
    }
   ],
   "source": [
    "color_scheme_set(\"brightblue\")\n",
    "options(repr.plot.width=12, repr.plot.height=5)\n",
    "mcmc_dens(Advertising.brms.01,pars=c(vars(starts_with(\"b\"),sigma)))"
   ]
  },
  {
   "cell_type": "code",
   "execution_count": 60,
   "id": "2f22e0a4-37ff-4817-bd93-3d6b0e556596",
   "metadata": {
    "tags": []
   },
   "outputs": [
    {
     "data": {
      "image/png": "[encoded data removed]",
      "text/plain": [
       "plot without title"
      ]
     },
     "metadata": {
      "image/png": {
       "height": 420,
       "width": 360
      }
     },
     "output_type": "display_data"
    }
   ],
   "source": [
    "color_scheme_set(\"brightblue\")\n",
    "options(repr.plot.width=6, repr.plot.height=7)\n",
    "mcmc_areas(Advertising.brms.01,pars=c(vars(starts_with(\"b\"),sigma)))"
   ]
  },
  {
   "cell_type": "code",
   "execution_count": 61,
   "id": "0905c375-f804-4d98-b682-5ce990c5bfda",
   "metadata": {
    "tags": []
   },
   "outputs": [
    {
     "data": {
      "image/png": "[encoded data removed]",
      "text/plain": [
       "plot without title"
      ]
     },
     "metadata": {
      "image/png": {
       "height": 300,
       "width": 240
      }
     },
     "output_type": "display_data"
    }
   ],
   "source": [
    "color_scheme_set(\"brightblue\")\n",
    "options(repr.plot.width=4, repr.plot.height=5)\n",
    "mcmc_areas(Advertising.brms.01,pars=c(\"b_Intercept\"))"
   ]
  },
  {
   "cell_type": "code",
   "execution_count": 62,
   "id": "12703820-99af-4d89-bafe-03e1501650d1",
   "metadata": {
    "tags": []
   },
   "outputs": [
    {
     "data": {
      "image/png": "[encoded data removed]",
      "text/plain": [
       "plot without title"
      ]
     },
     "metadata": {
      "image/png": {
       "height": 300,
       "width": 720
      }
     },
     "output_type": "display_data"
    }
   ],
   "source": [
    "color_scheme_set(\"brightblue\")\n",
    "options(repr.plot.width=12, repr.plot.height=5)\n",
    "mcmc_areas(Advertising.brms.01,pars=c(\"b_TV\",\"b_Radio\",\"b_Newspaper\"))"
   ]
  },
  {
   "cell_type": "markdown",
   "id": "9c49dc35-feec-4d2a-9e11-266487c0b1b8",
   "metadata": {},
   "source": [
    "## Predicting the response to new observations"
   ]
  },
  {
   "cell_type": "code",
   "execution_count": 63,
   "id": "04717616-8214-48a2-9d3a-0328bc1c1468",
   "metadata": {},
   "outputs": [
    {
     "data": {
      "text/html": [
       "<style>\n",
       ".dl-inline {width: auto; margin:0; padding: 0}\n",
       ".dl-inline>dt, .dl-inline>dd {float: none; width: auto; display: inline-block}\n",
       ".dl-inline>dt::after {content: \":\\0020\"; padding-right: .5ex}\n",
       ".dl-inline>dt:not(:first-of-type) {padding-left: .5ex}\n",
       "</style><dl class=dl-inline><dt>TV</dt><dd>147.04</dd><dt>Radio</dt><dd>23.26</dd><dt>Newspaper</dt><dd>30.55</dd></dl>\n"
      ],
      "text/latex": [
       "\\begin{description*}\n",
       "\\item[TV] 147.04\n",
       "\\item[Radio] 23.26\n",
       "\\item[Newspaper] 30.55\n",
       "\\end{description*}\n"
      ],
      "text/markdown": [
       "TV\n",
       ":   147.04Radio\n",
       ":   23.26Newspaper\n",
       ":   30.55\n",
       "\n"
      ],
      "text/plain": [
       "       TV     Radio Newspaper \n",
       "   147.04     23.26     30.55 "
      ]
     },
     "metadata": {},
     "output_type": "display_data"
    },
    {
     "data": {
      "text/html": [
       "<style>\n",
       ".dl-inline {width: auto; margin:0; padding: 0}\n",
       ".dl-inline>dt, .dl-inline>dd {float: none; width: auto; display: inline-block}\n",
       ".dl-inline>dt::after {content: \":\\0020\"; padding-right: .5ex}\n",
       ".dl-inline>dt:not(:first-of-type) {padding-left: .5ex}\n",
       "</style><dl class=dl-inline><dt>TV</dt><dd>147.04</dd><dt>Radio</dt><dd>23.26</dd><dt>Newspaper</dt><dd>30.55</dd><dt>TV:Radio</dt><dd>3490.31</dd><dt>TV:Newspaper</dt><dd>4598.13</dd><dt>Radio:Newspaper</dt><dd>824.73</dd></dl>\n"
      ],
      "text/latex": [
       "\\begin{description*}\n",
       "\\item[TV] 147.04\n",
       "\\item[Radio] 23.26\n",
       "\\item[Newspaper] 30.55\n",
       "\\item[TV:Radio] 3490.31\n",
       "\\item[TV:Newspaper] 4598.13\n",
       "\\item[Radio:Newspaper] 824.73\n",
       "\\end{description*}\n"
      ],
      "text/markdown": [
       "TV\n",
       ":   147.04Radio\n",
       ":   23.26Newspaper\n",
       ":   30.55TV:Radio\n",
       ":   3490.31TV:Newspaper\n",
       ":   4598.13Radio:Newspaper\n",
       ":   824.73\n",
       "\n"
      ],
      "text/plain": [
       "             TV           Radio       Newspaper        TV:Radio    TV:Newspaper \n",
       "         147.04           23.26           30.55         3490.31         4598.13 \n",
       "Radio:Newspaper \n",
       "         824.73 "
      ]
     },
     "metadata": {},
     "output_type": "display_data"
    }
   ],
   "source": [
    "# Just to have an example of a new observation to test prediction\n",
    "x.tilde1<-colMeans(X1)\n",
    "round(x.tilde1,2)\n",
    "x.tilde2<-colMeans(X2)\n",
    "round(x.tilde2,2)"
   ]
  },
  {
   "cell_type": "code",
   "execution_count": 64,
   "id": "9342ffbc-c35d-427d-9c8c-68574fa096a9",
   "metadata": {},
   "outputs": [
    {
     "data": {
      "text/html": [
       "<table class=\"dataframe\">\n",
       "<caption>A matrix: 1 × 4 of type dbl</caption>\n",
       "<thead>\n",
       "\t<tr><th scope=col>Estimate</th><th scope=col>Est.Error</th><th scope=col>Q2.5</th><th scope=col>Q97.5</th></tr>\n",
       "</thead>\n",
       "<tbody>\n",
       "\t<tr><td>14.03372</td><td>1.662761</td><td>10.77586</td><td>17.29679</td></tr>\n",
       "</tbody>\n",
       "</table>\n"
      ],
      "text/latex": [
       "A matrix: 1 × 4 of type dbl\n",
       "\\begin{tabular}{llll}\n",
       " Estimate & Est.Error & Q2.5 & Q97.5\\\\\n",
       "\\hline\n",
       "\t 14.03372 & 1.662761 & 10.77586 & 17.29679\\\\\n",
       "\\end{tabular}\n"
      ],
      "text/markdown": [
       "\n",
       "A matrix: 1 × 4 of type dbl\n",
       "\n",
       "| Estimate | Est.Error | Q2.5 | Q97.5 |\n",
       "|---|---|---|---|\n",
       "| 14.03372 | 1.662761 | 10.77586 | 17.29679 |\n",
       "\n"
      ],
      "text/plain": [
       "     Estimate Est.Error Q2.5     Q97.5   \n",
       "[1,] 14.03372 1.662761  10.77586 17.29679"
      ]
     },
     "metadata": {},
     "output_type": "display_data"
    }
   ],
   "source": [
    "set.seed(1234)\n",
    "P1<-predict(Advertising.brms.01,newdata=as.data.frame(t(x.tilde1)))\n",
    "P1"
   ]
  },
  {
   "cell_type": "markdown",
   "id": "b3772234-fdb9-42c4-bb9d-789e1d988179",
   "metadata": {},
   "source": [
    "##### Compare with prediction from the classical solution"
   ]
  },
  {
   "cell_type": "code",
   "execution_count": 65,
   "id": "aec76f89-502a-4551-9714-4609ecf1cd0f",
   "metadata": {},
   "outputs": [
    {
     "data": {
      "text/html": [
       "<strong>1:</strong> 14.0225"
      ],
      "text/latex": [
       "\\textbf{1:} 14.0225"
      ],
      "text/markdown": [
       "**1:** 14.0225"
      ],
      "text/plain": [
       "      1 \n",
       "14.0225 "
      ]
     },
     "metadata": {},
     "output_type": "display_data"
    }
   ],
   "source": [
    "predict(lm.1,newdata=as.data.frame(t(x.tilde1)))"
   ]
  },
  {
   "cell_type": "code",
   "execution_count": 66,
   "id": "d44627b0-8a7d-4704-b67a-b17926cf2af0",
   "metadata": {},
   "outputs": [
    {
     "name": "stdout",
     "output_type": "stream",
     "text": [
      " num [1:11250, 1] 12.1 14.5 15.9 10.5 14.8 ...\n",
      " - attr(*, \"dimnames\")=List of 2\n",
      "  ..$ : NULL\n",
      "  ..$ : NULL\n"
     ]
    }
   ],
   "source": [
    "set.seed(1234)\n",
    "P1.sample<-predict(Advertising.brms.01,newdata=as.data.frame(t(x.tilde1)),summary=FALSE)\n",
    "str(P1.sample)"
   ]
  },
  {
   "cell_type": "code",
   "execution_count": 67,
   "id": "d33c8a21-794e-4eba-b553-3e367dc495e5",
   "metadata": {},
   "outputs": [
    {
     "data": {
      "image/png": "[encoded data removed]",
      "text/plain": [
       "Plot with title \"Histogram of P1.sample\""
      ]
     },
     "metadata": {
      "image/png": {
       "height": 360,
       "width": 360
      }
     },
     "output_type": "display_data"
    }
   ],
   "source": [
    "options(repr.plot.width=6, repr.plot.height=6)\n",
    "hist(P1.sample,col=\"LightGreen\",freq=FALSE,breaks=30)"
   ]
  }
 ],
 "metadata": {
  "kernelspec": {
   "display_name": "R",
   "language": "R",
   "name": "ir"
  },
  "language_info": {
   "codemirror_mode": "r",
   "file_extension": ".r",
   "mimetype": "text/x-r-source",
   "name": "R",
   "pygments_lexer": "r",
   "version": "4.2.2"
  }
 },
 "nbformat": 4,
 "nbformat_minor": 5
}
